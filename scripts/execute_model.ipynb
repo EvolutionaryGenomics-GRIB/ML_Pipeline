{
 "cells": [
  {
   "cell_type": "code",
   "execution_count": 1,
   "metadata": {
    "collapsed": true
   },
   "outputs": [],
   "source": [
    "import pandas as pd\n",
    "import sys, subprocess, json\n",
    "import main\n",
    "import os"
   ]
  },
  {
   "cell_type": "code",
   "execution_count": 2,
   "outputs": [],
   "source": [
    "param_grid_m1 = \\\n",
    "    {\"complete_data\": {\n",
    "        'n_estimators': [100],  # Number of trees in the forest\n",
    "        'criterion': ['gini'],  # Splitting criterion (impurity measure)\n",
    "        'max_depth': [None],  # Maximum depth of individual trees\n",
    "        'min_samples_split': [2],  # Minimum number of samples required to split a node\n",
    "        'min_samples_leaf': [12],  # Minimum number of samples required to be at a leaf node\n",
    "        'max_features': [\"sqrt\"],  # Number of features to consider when splitting\n",
    "        'bootstrap': [True],  # Whether to bootstrap samples when building trees\n",
    "        'oob_score': [True],  # Whether to use out-of-bag samples to estimate generalization error\n",
    "    },\n",
    "    \"infiltrated\": {\n",
    "        'n_estimators': [100],  # Number of trees in the forest\n",
    "        'criterion': ['gini'],  # Splitting criterion (impurity measure)\n",
    "        'max_depth': [None],  # Maximum depth of individual trees\n",
    "        'min_samples_split': [2],  # Minimum number of samples required to split a node\n",
    "        'min_samples_leaf': [5],  # Minimum number of samples required to be at a leaf node\n",
    "        'max_features': [\"sqrt\"],  # Number of features to consider when splitting\n",
    "        'bootstrap': [True],  # Whether to bootstrap samples when building trees\n",
    "        'oob_score': [True],  # Whether to use out-of-bag samples to estimate generalization error\n",
    "    },\n",
    "    \"non-infiltrated\": {\n",
    "        'n_estimators': [100],  # Number of trees in the forest\n",
    "        'criterion': ['gini'],  # Splitting criterion (impurity measure)\n",
    "        'max_depth': [None],  # Maximum depth of individual trees\n",
    "        'min_samples_split': [2],  # Minimum number of samples required to split a node\n",
    "        'min_samples_leaf': [8],  # Minimum number of samples required to be at a leaf node\n",
    "        'max_features': [\"sqrt\"],  # Number of features to consider when splitting\n",
    "        'bootstrap': [True],  # Whether to bootstrap samples when building trees\n",
    "        'oob_score': [True],  # Whether to use out-of-bag samples to estimate generalization error\n",
    "    }\n",
    "}\n",
    "\n",
    "param_grid_m7 = \\\n",
    "    {\"complete_data\": {\n",
    "        'n_estimators': [100],  # Number of trees in the forest\n",
    "        'criterion': ['gini'],  # Splitting criterion (impurity measure)\n",
    "        'max_depth': [None],  # Maximum depth of individual trees\n",
    "        'min_samples_split': [2],  # Minimum number of samples required to split a node\n",
    "        'min_samples_leaf': [15],  # Minimum number of samples required to be at a leaf node\n",
    "        'max_features': [\"sqrt\"],  # Number of features to consider when splitting\n",
    "        'bootstrap': [True],  # Whether to bootstrap samples when building trees\n",
    "        'oob_score': [True],  # Whether to use out-of-bag samples to estimate generalization error\n",
    "    },\n",
    "    \"infiltrated\": {\n",
    "        'n_estimators': [100],  # Number of trees in the forest\n",
    "        'criterion': ['gini'],  # Splitting criterion (impurity measure)\n",
    "        'max_depth': [None],  # Maximum depth of individual trees\n",
    "        'min_samples_split': [2],  # Minimum number of samples required to split a node\n",
    "        'min_samples_leaf': [15],  # Minimum number of samples required to be at a leaf node\n",
    "        'max_features': [\"sqrt\"],  # Number of features to consider when splitting\n",
    "        'bootstrap': [True],  # Whether to bootstrap samples when building trees\n",
    "        'oob_score': [True],  # Whether to use out-of-bag samples to estimate generalization error\n",
    "    },\n",
    "    \"non-infiltrated\": {\n",
    "        'n_estimators': [100],  # Number of trees in the forest\n",
    "        'criterion': ['gini'],  # Splitting criterion (impurity measure)\n",
    "        'max_depth': [None],  # Maximum depth of individual trees\n",
    "        'min_samples_split': [2],  # Minimum number of samples required to split a node\n",
    "        'min_samples_leaf': [18],  # Minimum number of samples required to be at a leaf node\n",
    "        'max_features': [\"sqrt\"],  # Number of features to consider when splitting\n",
    "        'bootstrap': [True],  # Whether to bootstrap samples when building trees\n",
    "        'oob_score': [True],  # Whether to use out-of-bag samples to estimate generalization error\n",
    "    }\n",
    "}\n",
    "\n",
    "default_grid = {\n",
    "        'n_estimators': [100],  # Number of trees in the forest\n",
    "        'criterion': ['gini'],  # Splitting criterion (impurity measure)\n",
    "        'max_depth': [None],  # Maximum depth of individual trees\n",
    "        'min_samples_split': [2],  # Minimum number of samples required to split a node\n",
    "        'min_samples_leaf': [5],  # Minimum number of samples required to be at a leaf node\n",
    "        'max_features': [\"sqrt\"],  # Number of features to consider when splitting\n",
    "        'bootstrap': [True],  # Whether to bootstrap samples when building trees\n",
    "        'oob_score': [True],  # Whether to use out-of-bag samples to estimate generalization error\n",
    "    }"
   ],
   "metadata": {
    "collapsed": false
   }
  },
  {
   "cell_type": "code",
   "execution_count": 3,
   "outputs": [],
   "source": [
    "model_1_variables = [\"TMB_zscore\", \"APOBECenrichment.total\", \"nonstop\", \"CCND1\", \"PD1.zscore\", \"PDL1.zscore\",\n",
    "                               \"HLA-I.GSVA\", \"IFNg_Ayers.GSVA\", \"Stroma_EMT.GSVA\", \"T_cell_inflamed.GSVA\",\n",
    "                               \"TGF_beta.GSVA\", \"Macrophages M1\", \"T cells CD4 memory activated\", \"T cells CD8\",\n",
    "                               \"T cells regulatory (Tregs)\", \"ECOG_under0\", \"Liver.Metastasis\", \"APM_8.GSVA\",\n",
    "                               \"t.spec.lncRNA.GSVA\"]\n",
    "\n",
    "model_2_variables = [\"TMB_zscore\"]\n",
    "\n",
    "model_3_variables = [\"TMB_zscore\", \"ECOG_under0\", \"Liver.Metastasis\"]\n",
    "\n",
    "model_7_variables = [\"TMB_zscore\", \"CCND1\", \"PD1.zscore\", \"PDL1.zscore\", \"HLA-I.GSVA\", \"IFNg_Ayers.GSVA\",\n",
    "                          \"Stroma_EMT.GSVA\", \"T_cell_inflamed.GSVA\", \"TGF_beta.GSVA\", \"Macrophages M1\",\n",
    "                          \"T cells CD4 memory activated\", \"T cells CD8\", \"T cells regulatory (Tregs)\", \"APM_8.GSVA\",\n",
    "                          \"t.spec.lncRNA.GSVA\"]\n",
    "\n",
    "model_8_variables = [\"TMB_zscore\", \"CCND1\", \"PD1.zscore\", \"PDL1.zscore\", \"HLA-I.GSVA\",\n",
    "                                     \"IFNg_Ayers.GSVA\", \"Stroma_EMT.GSVA\", \"T_cell_inflamed.GSVA\", \"TGF_beta.GSVA\",\n",
    "                                     \"Macrophages M1\", \"T cells CD4 memory activated\", \"T cells CD8\",\n",
    "                                     \"T cells regulatory (Tregs)\", \"ECOG_under0\", \"Liver.Metastasis\", \"APM_8.GSVA\",\n",
    "                                     \"t.spec.lncRNA.GSVA\"]"
   ],
   "metadata": {
    "collapsed": false
   }
  },
  {
   "cell_type": "code",
   "execution_count": 4,
   "outputs": [],
   "source": [
    "model_variables = {\"complete_model\": model_1_variables,\n",
    "                    \"tmb_rna\": model_7_variables}"
   ],
   "metadata": {
    "collapsed": false
   }
  },
  {
   "cell_type": "code",
   "execution_count": 5,
   "outputs": [],
   "source": [
    "parameters = {\n",
    "    \"target\": \"Response\",\n",
    "    \"scaler\": \"min_max\",\n",
    "    \"features\": \"\",\n",
    "    \"feature_selector\": \"\",\n",
    "    \"num_features\": 5,\n",
    "    \"encoder\": \"one_hot\",\n",
    "    \"class_balancer\": \"\",\n",
    "    \"evaluation_technique\": 'train_test',\n",
    "    \"model\": \"random_forest\",\n",
    "    \"enable_parameter_search\": False,\n",
    "    \"splitting_runs\": 1000,\n",
    "    \"bootstrap_runs\": 100,\n",
    "    \"plot_mean_roc\": True,\n",
    "    \"roc_color\": \"black\",\n",
    "    \"parameters_grid\": \"\",\n",
    "    \"output_file\": \"test.csv\"\n",
    "}"
   ],
   "metadata": {
    "collapsed": false
   }
  },
  {
   "cell_type": "code",
   "execution_count": 6,
   "outputs": [],
   "source": [
    "# paths = {'complete_data': r\"C:\\Users\\sergi\\Downloads\\df_WES+RNA_response.csv\",\n",
    "#          'infiltrated': r\"C:\\Users\\sergi\\Downloads\\df_WES+RNA_response_inf.csv\",\n",
    "#          'non-infiltrated': r\"C:\\Users\\sergi\\Downloads\\df_WES+RNA_response_non-inf.csv\"}\n",
    "\n",
    "paths = {'complete_data': r\"/datasets/sergio/Integrated_data/df_WES+RNA_response.csv\",\n",
    "         'infiltrated': r\"/datasets/sergio/Integrated_data/df_WES+RNA_response_inf.csv\",\n",
    "         'non-infiltrated': r\"/datasets/sergio/Integrated_data/df_WES+RNA_response_non-inf.csv\"}\n",
    "\n",
    "# paths = {\n",
    "#          'no_ucg': r\"/datasets/sergio/Integrated_data/removing_datasets/test_3_no_ucg.csv\"}"
   ],
   "metadata": {
    "collapsed": false
   }
  },
  {
   "cell_type": "code",
   "execution_count": 7,
   "outputs": [],
   "source": [
    "colors = {\"no_sny\": \"#d7191c\",\n",
    "          \"no_unc\": \"#fdae61\",\n",
    "          \"no_ucg\": \"#808080\",\n",
    "          \"no_imvigor\": \"#abd9e9\",\n",
    "          \"no_hdm\": \"#2c7bb6\"}"
   ],
   "metadata": {
    "collapsed": false
   }
  },
  {
   "cell_type": "code",
   "execution_count": 8,
   "outputs": [
    {
     "name": "stdout",
     "output_type": "stream",
     "text": [
      "Converted dictionary: {'target': 'Response', 'scaler': 'min_max', 'features': ['TMB_zscore', 'APOBECenrichment.total', 'nonstop', 'CCND1', 'PD1.zscore', 'PDL1.zscore', 'HLA-I.GSVA', 'IFNg_Ayers.GSVA', 'Stroma_EMT.GSVA', 'T_cell_inflamed.GSVA', 'TGF_beta.GSVA', 'Macrophages M1', 'T cells CD4 memory activated', 'T cells CD8', 'T cells regulatory (Tregs)', 'ECOG_under0', 'Liver.Metastasis', 'APM_8.GSVA', 't.spec.lncRNA.GSVA'], 'feature_selector': '', 'num_features': 5, 'encoder': 'one_hot', 'class_balancer': '', 'evaluation_technique': 'train_test', 'model': 'random_forest', 'enable_parameter_search': False, 'splitting_runs': 1000, 'bootstrap_runs': 100, 'plot_mean_roc': True, 'roc_color': 'black', 'parameters_grid': {'n_estimators': [100], 'criterion': ['gini'], 'max_depth': [None], 'min_samples_split': [2], 'min_samples_leaf': [12], 'max_features': ['sqrt'], 'bootstrap': [True], 'oob_score': [True]}, 'output_file': 'test.csv'}\n",
      "Fitting 15 folds for each of 1 candidates, totalling 15 fits\n"
     ]
    },
    {
     "ename": "KeyboardInterrupt",
     "evalue": "",
     "output_type": "error",
     "traceback": [
      "\u001B[0;31m---------------------------------------------------------------------------\u001B[0m",
      "\u001B[0;31mKeyboardInterrupt\u001B[0m                         Traceback (most recent call last)",
      "Cell \u001B[0;32mIn[8], line 49\u001B[0m\n\u001B[1;32m     46\u001B[0m     json\u001B[38;5;241m.\u001B[39mdump(parameters, json_file, indent\u001B[38;5;241m=\u001B[39m\u001B[38;5;241m2\u001B[39m)\n\u001B[1;32m     48\u001B[0m sys\u001B[38;5;241m.\u001B[39margv \u001B[38;5;241m=\u001B[39m [v, parameters_path]\n\u001B[0;32m---> 49\u001B[0m \u001B[43mmain\u001B[49m\u001B[38;5;241;43m.\u001B[39;49m\u001B[43mmain\u001B[49m\u001B[43m(\u001B[49m\u001B[43m)\u001B[49m\n\u001B[1;32m     51\u001B[0m result_df \u001B[38;5;241m=\u001B[39m pd\u001B[38;5;241m.\u001B[39mread_csv(output_path)\n\u001B[1;32m     52\u001B[0m result_df\u001B[38;5;241m.\u001B[39mto_csv(\u001B[38;5;124mf\u001B[39m\u001B[38;5;124m\"\u001B[39m\u001B[38;5;132;01m{\u001B[39;00mmodel\u001B[38;5;132;01m}\u001B[39;00m\u001B[38;5;124m_\u001B[39m\u001B[38;5;132;01m{\u001B[39;00mk\u001B[38;5;132;01m}\u001B[39;00m\u001B[38;5;124m_results_1000runs.csv\u001B[39m\u001B[38;5;124m\"\u001B[39m)\n",
      "File \u001B[0;32m~/PycharmProjects/ICB_Response_Model/main.py:127\u001B[0m, in \u001B[0;36mmain\u001B[0;34m()\u001B[0m\n\u001B[1;32m    124\u001B[0m     \u001B[38;5;66;03m### MODEL TRAINING AND TESTING ###\u001B[39;00m\n\u001B[1;32m    126\u001B[0m     model_pipeline \u001B[38;5;241m=\u001B[39m ModelPipeline(local_parameters)\n\u001B[0;32m--> 127\u001B[0m     aux \u001B[38;5;241m=\u001B[39m \u001B[43mmodel_pipeline\u001B[49m\u001B[38;5;241;43m.\u001B[39;49m\u001B[43mrun\u001B[49m\u001B[43m(\u001B[49m\u001B[43m)\u001B[49m\n\u001B[1;32m    128\u001B[0m     output_dataframe \u001B[38;5;241m=\u001B[39m pd\u001B[38;5;241m.\u001B[39mconcat([output_dataframe, aux], ignore_index\u001B[38;5;241m=\u001B[39m\u001B[38;5;28;01mTrue\u001B[39;00m)\n\u001B[1;32m    130\u001B[0m output_dataframe\u001B[38;5;241m.\u001B[39mT\u001B[38;5;241m.\u001B[39mto_csv(parameters[\u001B[38;5;124m'\u001B[39m\u001B[38;5;124moutput_file\u001B[39m\u001B[38;5;124m'\u001B[39m])\n",
      "File \u001B[0;32m~/PycharmProjects/ICB_Response_Model/model/ModelPipeline.py:35\u001B[0m, in \u001B[0;36mModelPipeline.run\u001B[0;34m(self)\u001B[0m\n\u001B[1;32m     33\u001B[0m \u001B[38;5;66;03m# We collect all the evaluation metrics from the trained model\u001B[39;00m\n\u001B[1;32m     34\u001B[0m evaluation_pipeline \u001B[38;5;241m=\u001B[39m EvaluationPipeline(model, \u001B[38;5;28mself\u001B[39m\u001B[38;5;241m.\u001B[39mparameters)\n\u001B[0;32m---> 35\u001B[0m evaluation_results \u001B[38;5;241m=\u001B[39m \u001B[43mevaluation_pipeline\u001B[49m\u001B[38;5;241;43m.\u001B[39;49m\u001B[43mevaluate\u001B[49m\u001B[43m(\u001B[49m\u001B[43m)\u001B[49m\n\u001B[1;32m     37\u001B[0m \u001B[38;5;28mself\u001B[39m\u001B[38;5;241m.\u001B[39mparameters[\u001B[38;5;124m'\u001B[39m\u001B[38;5;124mevaluation_results\u001B[39m\u001B[38;5;124m'\u001B[39m] \u001B[38;5;241m=\u001B[39m evaluation_results\n\u001B[1;32m     39\u001B[0m \u001B[38;5;66;03m# We generate a file containing all the details of this run\u001B[39;00m\n",
      "File \u001B[0;32m~/PycharmProjects/ICB_Response_Model/model/evaluation/EvaluationPipeline.py:34\u001B[0m, in \u001B[0;36mEvaluationPipeline.evaluate\u001B[0;34m(self)\u001B[0m\n\u001B[1;32m     31\u001B[0m \u001B[38;5;28;01mif\u001B[39;00m \u001B[38;5;28mself\u001B[39m\u001B[38;5;241m.\u001B[39mparameters[\u001B[38;5;124m'\u001B[39m\u001B[38;5;124mevaluation_technique\u001B[39m\u001B[38;5;124m'\u001B[39m] \u001B[38;5;241m==\u001B[39m \u001B[38;5;124m'\u001B[39m\u001B[38;5;124mtrain_test\u001B[39m\u001B[38;5;124m'\u001B[39m:\n\u001B[1;32m     32\u001B[0m     evaluation \u001B[38;5;241m=\u001B[39m TrainTest(\u001B[38;5;28mself\u001B[39m\u001B[38;5;241m.\u001B[39mparameters, \u001B[38;5;28mself\u001B[39m\u001B[38;5;241m.\u001B[39mmodel)\n\u001B[0;32m---> 34\u001B[0m     \u001B[38;5;28;01mreturn\u001B[39;00m \u001B[43mevaluation\u001B[49m\u001B[38;5;241;43m.\u001B[39;49m\u001B[43mevaluate\u001B[49m\u001B[43m(\u001B[49m\u001B[43m)\u001B[49m\n\u001B[1;32m     35\u001B[0m \u001B[38;5;28;01melif\u001B[39;00m \u001B[38;5;28mself\u001B[39m\u001B[38;5;241m.\u001B[39mparameters[\u001B[38;5;124m'\u001B[39m\u001B[38;5;124mevaluation_technique\u001B[39m\u001B[38;5;124m'\u001B[39m] \u001B[38;5;241m==\u001B[39m \u001B[38;5;124m'\u001B[39m\u001B[38;5;124mbootstrap\u001B[39m\u001B[38;5;124m'\u001B[39m:\n\u001B[1;32m     36\u001B[0m     evaluation \u001B[38;5;241m=\u001B[39m InternalValidation(\u001B[38;5;28mself\u001B[39m\u001B[38;5;241m.\u001B[39mparameters, \u001B[38;5;28mself\u001B[39m\u001B[38;5;241m.\u001B[39mmodel)\n",
      "File \u001B[0;32m~/PycharmProjects/ICB_Response_Model/model/evaluation/TrainTest.py:32\u001B[0m, in \u001B[0;36mTrainTest.evaluate\u001B[0;34m(self)\u001B[0m\n\u001B[1;32m     26\u001B[0m \u001B[38;5;28;01mfor\u001B[39;00m seed \u001B[38;5;129;01min\u001B[39;00m seeds:\n\u001B[1;32m     27\u001B[0m     X_train, X_test, y_train, y_test \u001B[38;5;241m=\u001B[39m train_test_split(\n\u001B[1;32m     28\u001B[0m         \u001B[38;5;28mself\u001B[39m\u001B[38;5;241m.\u001B[39mparameters[\u001B[38;5;124m'\u001B[39m\u001B[38;5;124mdataframe\u001B[39m\u001B[38;5;124m'\u001B[39m]\u001B[38;5;241m.\u001B[39mdrop(\u001B[38;5;28mself\u001B[39m\u001B[38;5;241m.\u001B[39mparameters[\u001B[38;5;124m'\u001B[39m\u001B[38;5;124mtarget\u001B[39m\u001B[38;5;124m'\u001B[39m], axis\u001B[38;5;241m=\u001B[39m\u001B[38;5;241m1\u001B[39m),\n\u001B[1;32m     29\u001B[0m         \u001B[38;5;28mself\u001B[39m\u001B[38;5;241m.\u001B[39mparameters[\u001B[38;5;124m'\u001B[39m\u001B[38;5;124mdataframe\u001B[39m\u001B[38;5;124m'\u001B[39m][\u001B[38;5;28mself\u001B[39m\u001B[38;5;241m.\u001B[39mparameters[\u001B[38;5;124m'\u001B[39m\u001B[38;5;124mtarget\u001B[39m\u001B[38;5;124m'\u001B[39m]],\n\u001B[1;32m     30\u001B[0m         test_size\u001B[38;5;241m=\u001B[39m\u001B[38;5;241m0.3\u001B[39m, random_state\u001B[38;5;241m=\u001B[39mseed)\n\u001B[0;32m---> 32\u001B[0m     model, feature_importances \u001B[38;5;241m=\u001B[39m \u001B[38;5;28;43mself\u001B[39;49m\u001B[38;5;241;43m.\u001B[39;49m\u001B[43minstantiate_model\u001B[49m\u001B[43m(\u001B[49m\u001B[43mX_train\u001B[49m\u001B[43m,\u001B[49m\u001B[43m \u001B[49m\u001B[43my_train\u001B[49m\u001B[43m,\u001B[49m\u001B[43m \u001B[49m\u001B[38;5;28;43mself\u001B[39;49m\u001B[38;5;241;43m.\u001B[39;49m\u001B[43mparameters\u001B[49m\u001B[43m[\u001B[49m\u001B[38;5;124;43m'\u001B[39;49m\u001B[38;5;124;43mmodel\u001B[39;49m\u001B[38;5;124;43m'\u001B[39;49m\u001B[43m]\u001B[49m\u001B[43m,\u001B[49m\u001B[43m \u001B[49m\u001B[38;5;28;43mself\u001B[39;49m\u001B[38;5;241;43m.\u001B[39;49m\u001B[43mparameters\u001B[49m\u001B[43m[\u001B[49m\u001B[38;5;124;43m'\u001B[39;49m\u001B[38;5;124;43mbest_params\u001B[39;49m\u001B[38;5;124;43m'\u001B[39;49m\u001B[43m]\u001B[49m\u001B[43m)\u001B[49m\n\u001B[1;32m     33\u001B[0m     y_pred \u001B[38;5;241m=\u001B[39m model\u001B[38;5;241m.\u001B[39mpredict(X_test)\n\u001B[1;32m     34\u001B[0m     y_pred_proba \u001B[38;5;241m=\u001B[39m model\u001B[38;5;241m.\u001B[39mpredict_proba(X_test)[:, \u001B[38;5;241m1\u001B[39m]\n",
      "File \u001B[0;32m~/PycharmProjects/ICB_Response_Model/model/evaluation/EvaluateModel.py:77\u001B[0m, in \u001B[0;36mEvaluateModel.instantiate_model\u001B[0;34m(self, X_train, y_train, model_type, params)\u001B[0m\n\u001B[1;32m     74\u001B[0m \u001B[38;5;28;01melif\u001B[39;00m model_type \u001B[38;5;241m==\u001B[39m \u001B[38;5;124m'\u001B[39m\u001B[38;5;124mgradient_descent\u001B[39m\u001B[38;5;124m'\u001B[39m:\n\u001B[1;32m     75\u001B[0m     model \u001B[38;5;241m=\u001B[39m SGDClassifier(\u001B[38;5;241m*\u001B[39m\u001B[38;5;241m*\u001B[39mparams)\n\u001B[0;32m---> 77\u001B[0m \u001B[43mmodel\u001B[49m\u001B[38;5;241;43m.\u001B[39;49m\u001B[43mfit\u001B[49m\u001B[43m(\u001B[49m\u001B[43mX_train\u001B[49m\u001B[43m,\u001B[49m\u001B[43m \u001B[49m\u001B[43my_train\u001B[49m\u001B[43m)\u001B[49m\n\u001B[1;32m     79\u001B[0m feature_names \u001B[38;5;241m=\u001B[39m \u001B[38;5;28mself\u001B[39m\u001B[38;5;241m.\u001B[39mparameters[\u001B[38;5;124m'\u001B[39m\u001B[38;5;124mX_train\u001B[39m\u001B[38;5;124m'\u001B[39m]\u001B[38;5;241m.\u001B[39mcolumns\u001B[38;5;241m.\u001B[39mtolist()\n\u001B[1;32m     80\u001B[0m feature_importances \u001B[38;5;241m=\u001B[39m get_feature_importances(model, model_type, feature_names)\n",
      "File \u001B[0;32m~/PycharmProjects/ICB_Response_Model/venv/lib/python3.8/site-packages/sklearn/base.py:1151\u001B[0m, in \u001B[0;36m_fit_context.<locals>.decorator.<locals>.wrapper\u001B[0;34m(estimator, *args, **kwargs)\u001B[0m\n\u001B[1;32m   1144\u001B[0m     estimator\u001B[38;5;241m.\u001B[39m_validate_params()\n\u001B[1;32m   1146\u001B[0m \u001B[38;5;28;01mwith\u001B[39;00m config_context(\n\u001B[1;32m   1147\u001B[0m     skip_parameter_validation\u001B[38;5;241m=\u001B[39m(\n\u001B[1;32m   1148\u001B[0m         prefer_skip_nested_validation \u001B[38;5;129;01mor\u001B[39;00m global_skip_validation\n\u001B[1;32m   1149\u001B[0m     )\n\u001B[1;32m   1150\u001B[0m ):\n\u001B[0;32m-> 1151\u001B[0m     \u001B[38;5;28;01mreturn\u001B[39;00m \u001B[43mfit_method\u001B[49m\u001B[43m(\u001B[49m\u001B[43mestimator\u001B[49m\u001B[43m,\u001B[49m\u001B[43m \u001B[49m\u001B[38;5;241;43m*\u001B[39;49m\u001B[43margs\u001B[49m\u001B[43m,\u001B[49m\u001B[43m \u001B[49m\u001B[38;5;241;43m*\u001B[39;49m\u001B[38;5;241;43m*\u001B[39;49m\u001B[43mkwargs\u001B[49m\u001B[43m)\u001B[49m\n",
      "File \u001B[0;32m~/PycharmProjects/ICB_Response_Model/venv/lib/python3.8/site-packages/sklearn/ensemble/_forest.py:456\u001B[0m, in \u001B[0;36mBaseForest.fit\u001B[0;34m(self, X, y, sample_weight)\u001B[0m\n\u001B[1;32m    445\u001B[0m trees \u001B[38;5;241m=\u001B[39m [\n\u001B[1;32m    446\u001B[0m     \u001B[38;5;28mself\u001B[39m\u001B[38;5;241m.\u001B[39m_make_estimator(append\u001B[38;5;241m=\u001B[39m\u001B[38;5;28;01mFalse\u001B[39;00m, random_state\u001B[38;5;241m=\u001B[39mrandom_state)\n\u001B[1;32m    447\u001B[0m     \u001B[38;5;28;01mfor\u001B[39;00m i \u001B[38;5;129;01min\u001B[39;00m \u001B[38;5;28mrange\u001B[39m(n_more_estimators)\n\u001B[1;32m    448\u001B[0m ]\n\u001B[1;32m    450\u001B[0m \u001B[38;5;66;03m# Parallel loop: we prefer the threading backend as the Cython code\u001B[39;00m\n\u001B[1;32m    451\u001B[0m \u001B[38;5;66;03m# for fitting the trees is internally releasing the Python GIL\u001B[39;00m\n\u001B[1;32m    452\u001B[0m \u001B[38;5;66;03m# making threading more efficient than multiprocessing in\u001B[39;00m\n\u001B[1;32m    453\u001B[0m \u001B[38;5;66;03m# that case. However, for joblib 0.12+ we respect any\u001B[39;00m\n\u001B[1;32m    454\u001B[0m \u001B[38;5;66;03m# parallel_backend contexts set at a higher level,\u001B[39;00m\n\u001B[1;32m    455\u001B[0m \u001B[38;5;66;03m# since correctness does not rely on using threads.\u001B[39;00m\n\u001B[0;32m--> 456\u001B[0m trees \u001B[38;5;241m=\u001B[39m \u001B[43mParallel\u001B[49m\u001B[43m(\u001B[49m\n\u001B[1;32m    457\u001B[0m \u001B[43m    \u001B[49m\u001B[43mn_jobs\u001B[49m\u001B[38;5;241;43m=\u001B[39;49m\u001B[38;5;28;43mself\u001B[39;49m\u001B[38;5;241;43m.\u001B[39;49m\u001B[43mn_jobs\u001B[49m\u001B[43m,\u001B[49m\n\u001B[1;32m    458\u001B[0m \u001B[43m    \u001B[49m\u001B[43mverbose\u001B[49m\u001B[38;5;241;43m=\u001B[39;49m\u001B[38;5;28;43mself\u001B[39;49m\u001B[38;5;241;43m.\u001B[39;49m\u001B[43mverbose\u001B[49m\u001B[43m,\u001B[49m\n\u001B[1;32m    459\u001B[0m \u001B[43m    \u001B[49m\u001B[43mprefer\u001B[49m\u001B[38;5;241;43m=\u001B[39;49m\u001B[38;5;124;43m\"\u001B[39;49m\u001B[38;5;124;43mthreads\u001B[39;49m\u001B[38;5;124;43m\"\u001B[39;49m\u001B[43m,\u001B[49m\n\u001B[1;32m    460\u001B[0m \u001B[43m\u001B[49m\u001B[43m)\u001B[49m\u001B[43m(\u001B[49m\n\u001B[1;32m    461\u001B[0m \u001B[43m    \u001B[49m\u001B[43mdelayed\u001B[49m\u001B[43m(\u001B[49m\u001B[43m_parallel_build_trees\u001B[49m\u001B[43m)\u001B[49m\u001B[43m(\u001B[49m\n\u001B[1;32m    462\u001B[0m \u001B[43m        \u001B[49m\u001B[43mt\u001B[49m\u001B[43m,\u001B[49m\n\u001B[1;32m    463\u001B[0m \u001B[43m        \u001B[49m\u001B[38;5;28;43mself\u001B[39;49m\u001B[38;5;241;43m.\u001B[39;49m\u001B[43mbootstrap\u001B[49m\u001B[43m,\u001B[49m\n\u001B[1;32m    464\u001B[0m \u001B[43m        \u001B[49m\u001B[43mX\u001B[49m\u001B[43m,\u001B[49m\n\u001B[1;32m    465\u001B[0m \u001B[43m        \u001B[49m\u001B[43my\u001B[49m\u001B[43m,\u001B[49m\n\u001B[1;32m    466\u001B[0m \u001B[43m        \u001B[49m\u001B[43msample_weight\u001B[49m\u001B[43m,\u001B[49m\n\u001B[1;32m    467\u001B[0m \u001B[43m        \u001B[49m\u001B[43mi\u001B[49m\u001B[43m,\u001B[49m\n\u001B[1;32m    468\u001B[0m \u001B[43m        \u001B[49m\u001B[38;5;28;43mlen\u001B[39;49m\u001B[43m(\u001B[49m\u001B[43mtrees\u001B[49m\u001B[43m)\u001B[49m\u001B[43m,\u001B[49m\n\u001B[1;32m    469\u001B[0m \u001B[43m        \u001B[49m\u001B[43mverbose\u001B[49m\u001B[38;5;241;43m=\u001B[39;49m\u001B[38;5;28;43mself\u001B[39;49m\u001B[38;5;241;43m.\u001B[39;49m\u001B[43mverbose\u001B[49m\u001B[43m,\u001B[49m\n\u001B[1;32m    470\u001B[0m \u001B[43m        \u001B[49m\u001B[43mclass_weight\u001B[49m\u001B[38;5;241;43m=\u001B[39;49m\u001B[38;5;28;43mself\u001B[39;49m\u001B[38;5;241;43m.\u001B[39;49m\u001B[43mclass_weight\u001B[49m\u001B[43m,\u001B[49m\n\u001B[1;32m    471\u001B[0m \u001B[43m        \u001B[49m\u001B[43mn_samples_bootstrap\u001B[49m\u001B[38;5;241;43m=\u001B[39;49m\u001B[43mn_samples_bootstrap\u001B[49m\u001B[43m,\u001B[49m\n\u001B[1;32m    472\u001B[0m \u001B[43m    \u001B[49m\u001B[43m)\u001B[49m\n\u001B[1;32m    473\u001B[0m \u001B[43m    \u001B[49m\u001B[38;5;28;43;01mfor\u001B[39;49;00m\u001B[43m \u001B[49m\u001B[43mi\u001B[49m\u001B[43m,\u001B[49m\u001B[43m \u001B[49m\u001B[43mt\u001B[49m\u001B[43m \u001B[49m\u001B[38;5;129;43;01min\u001B[39;49;00m\u001B[43m \u001B[49m\u001B[38;5;28;43menumerate\u001B[39;49m\u001B[43m(\u001B[49m\u001B[43mtrees\u001B[49m\u001B[43m)\u001B[49m\n\u001B[1;32m    474\u001B[0m \u001B[43m\u001B[49m\u001B[43m)\u001B[49m\n\u001B[1;32m    476\u001B[0m \u001B[38;5;66;03m# Collect newly grown trees\u001B[39;00m\n\u001B[1;32m    477\u001B[0m \u001B[38;5;28mself\u001B[39m\u001B[38;5;241m.\u001B[39mestimators_\u001B[38;5;241m.\u001B[39mextend(trees)\n",
      "File \u001B[0;32m~/PycharmProjects/ICB_Response_Model/venv/lib/python3.8/site-packages/sklearn/utils/parallel.py:65\u001B[0m, in \u001B[0;36mParallel.__call__\u001B[0;34m(self, iterable)\u001B[0m\n\u001B[1;32m     60\u001B[0m config \u001B[38;5;241m=\u001B[39m get_config()\n\u001B[1;32m     61\u001B[0m iterable_with_config \u001B[38;5;241m=\u001B[39m (\n\u001B[1;32m     62\u001B[0m     (_with_config(delayed_func, config), args, kwargs)\n\u001B[1;32m     63\u001B[0m     \u001B[38;5;28;01mfor\u001B[39;00m delayed_func, args, kwargs \u001B[38;5;129;01min\u001B[39;00m iterable\n\u001B[1;32m     64\u001B[0m )\n\u001B[0;32m---> 65\u001B[0m \u001B[38;5;28;01mreturn\u001B[39;00m \u001B[38;5;28;43msuper\u001B[39;49m\u001B[43m(\u001B[49m\u001B[43m)\u001B[49m\u001B[38;5;241;43m.\u001B[39;49m\u001B[38;5;21;43m__call__\u001B[39;49m\u001B[43m(\u001B[49m\u001B[43miterable_with_config\u001B[49m\u001B[43m)\u001B[49m\n",
      "File \u001B[0;32m~/PycharmProjects/ICB_Response_Model/venv/lib/python3.8/site-packages/joblib/parallel.py:1863\u001B[0m, in \u001B[0;36mParallel.__call__\u001B[0;34m(self, iterable)\u001B[0m\n\u001B[1;32m   1861\u001B[0m     output \u001B[38;5;241m=\u001B[39m \u001B[38;5;28mself\u001B[39m\u001B[38;5;241m.\u001B[39m_get_sequential_output(iterable)\n\u001B[1;32m   1862\u001B[0m     \u001B[38;5;28mnext\u001B[39m(output)\n\u001B[0;32m-> 1863\u001B[0m     \u001B[38;5;28;01mreturn\u001B[39;00m output \u001B[38;5;28;01mif\u001B[39;00m \u001B[38;5;28mself\u001B[39m\u001B[38;5;241m.\u001B[39mreturn_generator \u001B[38;5;28;01melse\u001B[39;00m \u001B[38;5;28;43mlist\u001B[39;49m\u001B[43m(\u001B[49m\u001B[43moutput\u001B[49m\u001B[43m)\u001B[49m\n\u001B[1;32m   1865\u001B[0m \u001B[38;5;66;03m# Let's create an ID that uniquely identifies the current call. If the\u001B[39;00m\n\u001B[1;32m   1866\u001B[0m \u001B[38;5;66;03m# call is interrupted early and that the same instance is immediately\u001B[39;00m\n\u001B[1;32m   1867\u001B[0m \u001B[38;5;66;03m# re-used, this id will be used to prevent workers that were\u001B[39;00m\n\u001B[1;32m   1868\u001B[0m \u001B[38;5;66;03m# concurrently finalizing a task from the previous call to run the\u001B[39;00m\n\u001B[1;32m   1869\u001B[0m \u001B[38;5;66;03m# callback.\u001B[39;00m\n\u001B[1;32m   1870\u001B[0m \u001B[38;5;28;01mwith\u001B[39;00m \u001B[38;5;28mself\u001B[39m\u001B[38;5;241m.\u001B[39m_lock:\n",
      "File \u001B[0;32m~/PycharmProjects/ICB_Response_Model/venv/lib/python3.8/site-packages/joblib/parallel.py:1789\u001B[0m, in \u001B[0;36mParallel._get_sequential_output\u001B[0;34m(self, iterable)\u001B[0m\n\u001B[1;32m   1786\u001B[0m \u001B[38;5;28;01myield\u001B[39;00m \u001B[38;5;28;01mNone\u001B[39;00m\n\u001B[1;32m   1788\u001B[0m \u001B[38;5;66;03m# Sequentially call the tasks and yield the results.\u001B[39;00m\n\u001B[0;32m-> 1789\u001B[0m \u001B[38;5;28;01mfor\u001B[39;00m func, args, kwargs \u001B[38;5;129;01min\u001B[39;00m iterable:\n\u001B[1;32m   1790\u001B[0m     \u001B[38;5;28mself\u001B[39m\u001B[38;5;241m.\u001B[39mn_dispatched_batches \u001B[38;5;241m+\u001B[39m\u001B[38;5;241m=\u001B[39m \u001B[38;5;241m1\u001B[39m\n\u001B[1;32m   1791\u001B[0m     \u001B[38;5;28mself\u001B[39m\u001B[38;5;241m.\u001B[39mn_dispatched_tasks \u001B[38;5;241m+\u001B[39m\u001B[38;5;241m=\u001B[39m \u001B[38;5;241m1\u001B[39m\n",
      "File \u001B[0;32m~/PycharmProjects/ICB_Response_Model/venv/lib/python3.8/site-packages/sklearn/utils/parallel.py:61\u001B[0m, in \u001B[0;36m<genexpr>\u001B[0;34m(.0)\u001B[0m\n\u001B[1;32m     56\u001B[0m \u001B[38;5;66;03m# Capture the thread-local scikit-learn configuration at the time\u001B[39;00m\n\u001B[1;32m     57\u001B[0m \u001B[38;5;66;03m# Parallel.__call__ is issued since the tasks can be dispatched\u001B[39;00m\n\u001B[1;32m     58\u001B[0m \u001B[38;5;66;03m# in a different thread depending on the backend and on the value of\u001B[39;00m\n\u001B[1;32m     59\u001B[0m \u001B[38;5;66;03m# pre_dispatch and n_jobs.\u001B[39;00m\n\u001B[1;32m     60\u001B[0m config \u001B[38;5;241m=\u001B[39m get_config()\n\u001B[0;32m---> 61\u001B[0m iterable_with_config \u001B[38;5;241m=\u001B[39m (\n\u001B[1;32m     62\u001B[0m     (_with_config(delayed_func, config), args, kwargs)\n\u001B[1;32m     63\u001B[0m     \u001B[38;5;28;01mfor\u001B[39;00m delayed_func, args, kwargs \u001B[38;5;129;01min\u001B[39;00m iterable\n\u001B[1;32m     64\u001B[0m )\n\u001B[1;32m     65\u001B[0m \u001B[38;5;28;01mreturn\u001B[39;00m \u001B[38;5;28msuper\u001B[39m()\u001B[38;5;241m.\u001B[39m\u001B[38;5;21m__call__\u001B[39m(iterable_with_config)\n",
      "File \u001B[0;32m~/PycharmProjects/ICB_Response_Model/venv/lib/python3.8/site-packages/sklearn/ensemble/_forest.py:461\u001B[0m, in \u001B[0;36m<genexpr>\u001B[0;34m(.0)\u001B[0m\n\u001B[1;32m    445\u001B[0m trees \u001B[38;5;241m=\u001B[39m [\n\u001B[1;32m    446\u001B[0m     \u001B[38;5;28mself\u001B[39m\u001B[38;5;241m.\u001B[39m_make_estimator(append\u001B[38;5;241m=\u001B[39m\u001B[38;5;28;01mFalse\u001B[39;00m, random_state\u001B[38;5;241m=\u001B[39mrandom_state)\n\u001B[1;32m    447\u001B[0m     \u001B[38;5;28;01mfor\u001B[39;00m i \u001B[38;5;129;01min\u001B[39;00m \u001B[38;5;28mrange\u001B[39m(n_more_estimators)\n\u001B[1;32m    448\u001B[0m ]\n\u001B[1;32m    450\u001B[0m \u001B[38;5;66;03m# Parallel loop: we prefer the threading backend as the Cython code\u001B[39;00m\n\u001B[1;32m    451\u001B[0m \u001B[38;5;66;03m# for fitting the trees is internally releasing the Python GIL\u001B[39;00m\n\u001B[1;32m    452\u001B[0m \u001B[38;5;66;03m# making threading more efficient than multiprocessing in\u001B[39;00m\n\u001B[1;32m    453\u001B[0m \u001B[38;5;66;03m# that case. However, for joblib 0.12+ we respect any\u001B[39;00m\n\u001B[1;32m    454\u001B[0m \u001B[38;5;66;03m# parallel_backend contexts set at a higher level,\u001B[39;00m\n\u001B[1;32m    455\u001B[0m \u001B[38;5;66;03m# since correctness does not rely on using threads.\u001B[39;00m\n\u001B[1;32m    456\u001B[0m trees \u001B[38;5;241m=\u001B[39m Parallel(\n\u001B[1;32m    457\u001B[0m     n_jobs\u001B[38;5;241m=\u001B[39m\u001B[38;5;28mself\u001B[39m\u001B[38;5;241m.\u001B[39mn_jobs,\n\u001B[1;32m    458\u001B[0m     verbose\u001B[38;5;241m=\u001B[39m\u001B[38;5;28mself\u001B[39m\u001B[38;5;241m.\u001B[39mverbose,\n\u001B[1;32m    459\u001B[0m     prefer\u001B[38;5;241m=\u001B[39m\u001B[38;5;124m\"\u001B[39m\u001B[38;5;124mthreads\u001B[39m\u001B[38;5;124m\"\u001B[39m,\n\u001B[1;32m    460\u001B[0m )(\n\u001B[0;32m--> 461\u001B[0m     \u001B[43mdelayed\u001B[49m\u001B[43m(\u001B[49m\u001B[43m_parallel_build_trees\u001B[49m\u001B[43m)\u001B[49m\u001B[43m(\u001B[49m\n\u001B[1;32m    462\u001B[0m \u001B[43m        \u001B[49m\u001B[43mt\u001B[49m\u001B[43m,\u001B[49m\n\u001B[1;32m    463\u001B[0m \u001B[43m        \u001B[49m\u001B[38;5;28;43mself\u001B[39;49m\u001B[38;5;241;43m.\u001B[39;49m\u001B[43mbootstrap\u001B[49m\u001B[43m,\u001B[49m\n\u001B[1;32m    464\u001B[0m \u001B[43m        \u001B[49m\u001B[43mX\u001B[49m\u001B[43m,\u001B[49m\n\u001B[1;32m    465\u001B[0m \u001B[43m        \u001B[49m\u001B[43my\u001B[49m\u001B[43m,\u001B[49m\n\u001B[1;32m    466\u001B[0m \u001B[43m        \u001B[49m\u001B[43msample_weight\u001B[49m\u001B[43m,\u001B[49m\n\u001B[1;32m    467\u001B[0m \u001B[43m        \u001B[49m\u001B[43mi\u001B[49m\u001B[43m,\u001B[49m\n\u001B[1;32m    468\u001B[0m \u001B[43m        \u001B[49m\u001B[38;5;28;43mlen\u001B[39;49m\u001B[43m(\u001B[49m\u001B[43mtrees\u001B[49m\u001B[43m)\u001B[49m\u001B[43m,\u001B[49m\n\u001B[1;32m    469\u001B[0m \u001B[43m        \u001B[49m\u001B[43mverbose\u001B[49m\u001B[38;5;241;43m=\u001B[39;49m\u001B[38;5;28;43mself\u001B[39;49m\u001B[38;5;241;43m.\u001B[39;49m\u001B[43mverbose\u001B[49m\u001B[43m,\u001B[49m\n\u001B[1;32m    470\u001B[0m \u001B[43m        \u001B[49m\u001B[43mclass_weight\u001B[49m\u001B[38;5;241;43m=\u001B[39;49m\u001B[38;5;28;43mself\u001B[39;49m\u001B[38;5;241;43m.\u001B[39;49m\u001B[43mclass_weight\u001B[49m\u001B[43m,\u001B[49m\n\u001B[1;32m    471\u001B[0m \u001B[43m        \u001B[49m\u001B[43mn_samples_bootstrap\u001B[49m\u001B[38;5;241;43m=\u001B[39;49m\u001B[43mn_samples_bootstrap\u001B[49m\u001B[43m,\u001B[49m\n\u001B[1;32m    472\u001B[0m \u001B[43m    \u001B[49m\u001B[43m)\u001B[49m\n\u001B[1;32m    473\u001B[0m     \u001B[38;5;28;01mfor\u001B[39;00m i, t \u001B[38;5;129;01min\u001B[39;00m \u001B[38;5;28menumerate\u001B[39m(trees)\n\u001B[1;32m    474\u001B[0m )\n\u001B[1;32m    476\u001B[0m \u001B[38;5;66;03m# Collect newly grown trees\u001B[39;00m\n\u001B[1;32m    477\u001B[0m \u001B[38;5;28mself\u001B[39m\u001B[38;5;241m.\u001B[39mestimators_\u001B[38;5;241m.\u001B[39mextend(trees)\n",
      "File \u001B[0;32m~/PycharmProjects/ICB_Response_Model/venv/lib/python3.8/site-packages/sklearn/utils/parallel.py:97\u001B[0m, in \u001B[0;36mdelayed.<locals>.delayed_function\u001B[0;34m(*args, **kwargs)\u001B[0m\n\u001B[1;32m     95\u001B[0m \u001B[38;5;129m@functools\u001B[39m\u001B[38;5;241m.\u001B[39mwraps(function)\n\u001B[1;32m     96\u001B[0m \u001B[38;5;28;01mdef\u001B[39;00m \u001B[38;5;21mdelayed_function\u001B[39m(\u001B[38;5;241m*\u001B[39margs, \u001B[38;5;241m*\u001B[39m\u001B[38;5;241m*\u001B[39mkwargs):\n\u001B[0;32m---> 97\u001B[0m     \u001B[38;5;28;01mreturn\u001B[39;00m \u001B[43m_FuncWrapper\u001B[49m\u001B[43m(\u001B[49m\u001B[43mfunction\u001B[49m\u001B[43m)\u001B[49m, args, kwargs\n",
      "File \u001B[0;32m~/PycharmProjects/ICB_Response_Model/venv/lib/python3.8/site-packages/sklearn/utils/parallel.py:106\u001B[0m, in \u001B[0;36m_FuncWrapper.__init__\u001B[0;34m(self, function)\u001B[0m\n\u001B[1;32m    105\u001B[0m \u001B[38;5;28;01mdef\u001B[39;00m \u001B[38;5;21m__init__\u001B[39m(\u001B[38;5;28mself\u001B[39m, function):\n\u001B[0;32m--> 106\u001B[0m     \u001B[38;5;28;43mself\u001B[39;49m\u001B[38;5;241;43m.\u001B[39;49m\u001B[43mfunction\u001B[49m \u001B[38;5;241m=\u001B[39m function\n\u001B[1;32m    107\u001B[0m     update_wrapper(\u001B[38;5;28mself\u001B[39m, \u001B[38;5;28mself\u001B[39m\u001B[38;5;241m.\u001B[39mfunction)\n",
      "\u001B[0;31mKeyboardInterrupt\u001B[0m: "
     ]
    }
   ],
   "source": [
    "# path_to_main_module = r\"C:\\Users\\sergi\\PycharmProjects\\ICB_Response\\main.py\"\n",
    "# parameters_path = r\"C:\\Users\\sergi\\PycharmProjects\\ICB_Response\\parameters\"\n",
    "# output_path = r\"C:\\Users\\sergi\\PycharmProjects\\ICB_Response\\scripts\\test.csv\"\n",
    "# roc_output_path = r\"C:\\Users\\sergi\\PycharmProjects\\ICB_Response\\scripts\\roc.pdf\"\n",
    "\n",
    "path_to_main_module = r\"/home/sergiov/PycharmProjects/ICB_Response_Model/main.py\"\n",
    "parameters_path = r\"/home/sergiov/PycharmProjects/ICB_Response_Model/parameters\"\n",
    "output_path = r\"/home/sergiov/PycharmProjects/ICB_Response_Model/scripts/test.csv\"\n",
    "roc_output_path = r\"/home/sergiov/PycharmProjects/ICB_Response_Model/scripts/roc.pdf\"\n",
    "\n",
    "for k,v in paths.items():\n",
    "    for model, variables in model_variables.items():\n",
    "        if model not in ['complete_model', 'tmb_rna'] and k != 'complete_data':\n",
    "            continue\n",
    "\n",
    "        parameters['features'] = variables\n",
    "        # parameters['roc_color'] = colors[k]\n",
    "\n",
    "        # Set the parameter grid for complete data\n",
    "        if k == 'complete_data':\n",
    "            if model == 'complete_model':\n",
    "                parameters['parameters_grid'] = param_grid_m1['complete_data']\n",
    "            elif model == 'tmb_rna':\n",
    "                parameters['parameters_grid'] = param_grid_m7['complete_data']\n",
    "            else:\n",
    "                parameters['parameters_grid'] = default_grid\n",
    "\n",
    "        # Set the parameter grid for infiltrated data\n",
    "        elif k == 'infiltrated':\n",
    "            if model == 'complete_model':\n",
    "                parameters['parameters_grid'] = param_grid_m1['infiltrated']\n",
    "            elif model == 'tmb_rna':\n",
    "                parameters['parameters_grid'] = param_grid_m7['infiltrated']\n",
    "\n",
    "        # Set the parameter grid for non-infiltrated data\n",
    "        elif k == 'non-infiltrated':\n",
    "            if model == 'complete_model':\n",
    "                parameters['parameters_grid'] = param_grid_m1['non-infiltrated']\n",
    "            elif model == 'tmb_rna':\n",
    "                parameters['parameters_grid'] = param_grid_m7['non-infiltrated']\n",
    "\n",
    "        else:\n",
    "            parameters['parameters_grid'] = default_grid\n",
    "\n",
    "        with open(parameters_path, 'w') as json_file:\n",
    "            json.dump(parameters, json_file, indent=2)\n",
    "\n",
    "        sys.argv = [v, parameters_path]\n",
    "        main.main()\n",
    "\n",
    "        result_df = pd.read_csv(output_path)\n",
    "        result_df.to_csv(f\"{model}_{k}_results_1000runs.csv\")\n",
    "        os.rename(r\"/home/sergiov/PycharmProjects/ICB_Response_Model/scripts/roc.pdf\", f\"{model}_{k}_roc_1000runs.pdf\")\n",
    "        print(f\"Finished run for {model} {k} :)\")"
   ],
   "metadata": {
    "collapsed": false
   }
  },
  {
   "cell_type": "code",
   "execution_count": null,
   "outputs": [],
   "source": [],
   "metadata": {
    "collapsed": false
   }
  }
 ],
 "metadata": {
  "kernelspec": {
   "display_name": "Python 3",
   "language": "python",
   "name": "python3"
  },
  "language_info": {
   "codemirror_mode": {
    "name": "ipython",
    "version": 2
   },
   "file_extension": ".py",
   "mimetype": "text/x-python",
   "name": "python",
   "nbconvert_exporter": "python",
   "pygments_lexer": "ipython2",
   "version": "2.7.6"
  }
 },
 "nbformat": 4,
 "nbformat_minor": 0
}
