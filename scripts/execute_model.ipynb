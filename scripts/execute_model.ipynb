{
 "cells": [
  {
   "cell_type": "code",
   "execution_count": 2,
   "metadata": {
    "collapsed": true
   },
   "outputs": [],
   "source": [
    "import pandas as pd\n",
    "import sys, subprocess, json\n",
    "import main\n",
    "import os"
   ]
  },
  {
   "cell_type": "code",
   "execution_count": 3,
   "outputs": [],
   "source": [
    "param_grid_m1 = \\\n",
    "    {\"complete_data\": {\n",
    "        'n_estimators': [100],  # Number of trees in the forest\n",
    "        'criterion': ['gini'],  # Splitting criterion (impurity measure)\n",
    "        'max_depth': [None],  # Maximum depth of individual trees\n",
    "        'min_samples_split': [2],  # Minimum number of samples required to split a node\n",
    "        'min_samples_leaf': [12],  # Minimum number of samples required to be at a leaf node\n",
    "        'max_features': [\"sqrt\"],  # Number of features to consider when splitting\n",
    "        'bootstrap': [True],  # Whether to bootstrap samples when building trees\n",
    "        'oob_score': [True],  # Whether to use out-of-bag samples to estimate generalization error\n",
    "    },\n",
    "    \"infiltrated\": {\n",
    "        'n_estimators': [100],  # Number of trees in the forest\n",
    "        'criterion': ['gini'],  # Splitting criterion (impurity measure)\n",
    "        'max_depth': [None],  # Maximum depth of individual trees\n",
    "        'min_samples_split': [2],  # Minimum number of samples required to split a node\n",
    "        'min_samples_leaf': [5],  # Minimum number of samples required to be at a leaf node\n",
    "        'max_features': [\"sqrt\"],  # Number of features to consider when splitting\n",
    "        'bootstrap': [True],  # Whether to bootstrap samples when building trees\n",
    "        'oob_score': [True],  # Whether to use out-of-bag samples to estimate generalization error\n",
    "    },\n",
    "    \"non-infiltrated\": {\n",
    "        'n_estimators': [100],  # Number of trees in the forest\n",
    "        'criterion': ['gini'],  # Splitting criterion (impurity measure)\n",
    "        'max_depth': [None],  # Maximum depth of individual trees\n",
    "        'min_samples_split': [2],  # Minimum number of samples required to split a node\n",
    "        'min_samples_leaf': [8],  # Minimum number of samples required to be at a leaf node\n",
    "        'max_features': [\"sqrt\"],  # Number of features to consider when splitting\n",
    "        'bootstrap': [True],  # Whether to bootstrap samples when building trees\n",
    "        'oob_score': [True],  # Whether to use out-of-bag samples to estimate generalization error\n",
    "    }\n",
    "}\n",
    "\n",
    "param_grid_m7 = \\\n",
    "    {\"complete_data\": {\n",
    "        'n_estimators': [100],  # Number of trees in the forest\n",
    "        'criterion': ['gini'],  # Splitting criterion (impurity measure)\n",
    "        'max_depth': [None],  # Maximum depth of individual trees\n",
    "        'min_samples_split': [2],  # Minimum number of samples required to split a node\n",
    "        'min_samples_leaf': [15],  # Minimum number of samples required to be at a leaf node\n",
    "        'max_features': [\"sqrt\"],  # Number of features to consider when splitting\n",
    "        'bootstrap': [True],  # Whether to bootstrap samples when building trees\n",
    "        'oob_score': [True],  # Whether to use out-of-bag samples to estimate generalization error\n",
    "    },\n",
    "    \"infiltrated\": {\n",
    "        'n_estimators': [100],  # Number of trees in the forest\n",
    "        'criterion': ['gini'],  # Splitting criterion (impurity measure)\n",
    "        'max_depth': [None],  # Maximum depth of individual trees\n",
    "        'min_samples_split': [2],  # Minimum number of samples required to split a node\n",
    "        'min_samples_leaf': [15],  # Minimum number of samples required to be at a leaf node\n",
    "        'max_features': [\"sqrt\"],  # Number of features to consider when splitting\n",
    "        'bootstrap': [True],  # Whether to bootstrap samples when building trees\n",
    "        'oob_score': [True],  # Whether to use out-of-bag samples to estimate generalization error\n",
    "    },\n",
    "    \"non-infiltrated\": {\n",
    "        'n_estimators': [100],  # Number of trees in the forest\n",
    "        'criterion': ['gini'],  # Splitting criterion (impurity measure)\n",
    "        'max_depth': [None],  # Maximum depth of individual trees\n",
    "        'min_samples_split': [2],  # Minimum number of samples required to split a node\n",
    "        'min_samples_leaf': [18],  # Minimum number of samples required to be at a leaf node\n",
    "        'max_features': [\"sqrt\"],  # Number of features to consider when splitting\n",
    "        'bootstrap': [True],  # Whether to bootstrap samples when building trees\n",
    "        'oob_score': [True],  # Whether to use out-of-bag samples to estimate generalization error\n",
    "    }\n",
    "}\n",
    "\n",
    "default_grid = {\n",
    "        'n_estimators': [75],  # Number of trees in the forest\n",
    "        'criterion': ['gini'],  # Splitting criterion (impurity measure)\n",
    "        'max_depth': [None],  # Maximum depth of individual trees\n",
    "        'min_samples_split': [5],  # Minimum number of samples required to split a node\n",
    "        'min_samples_leaf': [5],  # Minimum number of samples required to be at a leaf node\n",
    "        'max_features': [\"sqrt\"],  # Number of features to consider when splitting\n",
    "        'bootstrap': [True],  # Whether to bootstrap samples when building trees\n",
    "        'oob_score': [True],  # Whether to use out-of-bag samples to estimate generalization error\n",
    "    }"
   ],
   "metadata": {
    "collapsed": false
   }
  },
  {
   "cell_type": "code",
   "execution_count": 23,
   "outputs": [],
   "source": [
    "model_1_variables = [\"TMB_zscore\", \"APOBECenrichment.total\", \"nonstop\", \"CCND1\", \"PD1.zscore\", \"PDL1.zscore\",\n",
    "                               \"HLA-I.GSVA\", \"IFNg_Ayers.GSVA\", \"Stroma_EMT.GSVA\", \"T_cell_inflamed.GSVA\",\n",
    "                               \"TGF_beta.GSVA\", \"Macrophages M1\", \"T cells CD4 memory activated\", \"T cells CD8\",\n",
    "                               \"T cells regulatory (Tregs)\", \"ECOG_under0\", \"Liver.Metastasis\", \"APM_8.GSVA\",\n",
    "                               \"t.spec.lncRNA.GSVA\"]\n",
    "\n",
    "model_2_variables = [\"TMB_zscore\"]\n",
    "\n",
    "model_3_variables = [\"TMB_zscore\", \"ECOG_under0\", \"Liver.Metastasis\"]\n",
    "\n",
    "model_7_variables = [\"TMB_zscore\", \"CCND1\", \"PD1.zscore\", \"PDL1.zscore\", \"HLA-I.GSVA\", \"IFNg_Ayers.GSVA\",\n",
    "                          \"Stroma_EMT.GSVA\", \"T_cell_inflamed.GSVA\", \"TGF_beta.GSVA\", \"Macrophages M1\",\n",
    "                          \"T cells CD4 memory activated\", \"T cells CD8\", \"T cells regulatory (Tregs)\", \"APM_8.GSVA\",\n",
    "                          \"t.spec.lncRNA.GSVA\"]\n",
    "\n",
    "model_8_variables = [\"TMB_zscore\", \"CCND1\", \"PD1.zscore\", \"PDL1.zscore\", \"HLA-I.GSVA\",\n",
    "                                     \"IFNg_Ayers.GSVA\", \"Stroma_EMT.GSVA\", \"T_cell_inflamed.GSVA\", \"TGF_beta.GSVA\",\n",
    "                                     \"Macrophages M1\", \"T cells CD4 memory activated\", \"T cells CD8\",\n",
    "                                     \"T cells regulatory (Tregs)\", \"ECOG_under0\", \"Liver.Metastasis\", \"APM_8.GSVA\",\n",
    "                                     \"t.spec.lncRNA.GSVA\"]"
   ],
   "metadata": {
    "collapsed": false
   }
  },
  {
   "cell_type": "code",
   "execution_count": 28,
   "outputs": [],
   "source": [
    "model_variables = {\n",
    "                    \"baseline_model\": model_2_variables}"
   ],
   "metadata": {
    "collapsed": false
   }
  },
  {
   "cell_type": "code",
   "execution_count": 14,
   "outputs": [],
   "source": [
    "parameters = {\n",
    "    \"target\": \"Response\",\n",
    "    \"scaler\": \"\",\n",
    "    \"features\": \"\",\n",
    "    \"feature_selector\": \"\",\n",
    "    \"num_features\": 5,\n",
    "    \"encoder\": \"one_hot\",\n",
    "    \"class_balancer\": \"\",\n",
    "    \"evaluation_technique\": 'train_test',\n",
    "    \"model\": \"random_forest\",\n",
    "    \"enable_parameter_search\": False,\n",
    "    \"splitting_runs\": 1000,\n",
    "    \"test_size\": 0.3,\n",
    "    \"bootstrap_runs\": 1000,\n",
    "    \"plot_mean_roc\": True,\n",
    "    \"roc_color\": \"black\",\n",
    "    \"output_path\": \"/home/sergiov/PycharmProjects/ICB_Response_Model/scripts/\"\n",
    "}"
   ],
   "metadata": {
    "collapsed": false
   }
  },
  {
   "cell_type": "code",
   "execution_count": 22,
   "outputs": [],
   "source": [
    "# paths = {'complete_data': r\"C:\\Users\\sergi\\Downloads\\df_WES+RNA_response.csv\",\n",
    "#          'infiltrated': r\"C:\\Users\\sergi\\Downloads\\df_WES+RNA_response_inf.csv\",\n",
    "#          'non-infiltrated': r\"C:\\Users\\sergi\\Downloads\\df_WES+RNA_response_non-inf.csv\"}\n",
    "\n",
    "paths = {'complete_data': r\"/datasets/sergio/Integrated_data/df_WES+RNA_response.csv\",\n",
    "         'infiltrated': r\"/datasets/sergio/Integrated_data/df_WES+RNA_response_inf.csv\",\n",
    "         'non-infiltrated': r\"/datasets/sergio/Integrated_data/df_WES+RNA_response_non-inf.csv\"}\n",
    "\n",
    "#paths = {'complete_data': r\"/datasets/sergio/Integrated_data/df_WES+RNA_response.csv\"}\n",
    "\n",
    "# paths = {\n",
    "#          'no_ucg': r\"/datasets/sergio/Integrated_data/removing_datasets/test_3_no_ucg.csv\"}"
   ],
   "metadata": {
    "collapsed": false
   }
  },
  {
   "cell_type": "code",
   "execution_count": 1,
   "outputs": [],
   "source": [
    "colors = {\"no_sny\": \"#d7191c\",\n",
    "          \"no_unc\": \"#fdae61\",\n",
    "          \"no_ucg\": \"#808080\",\n",
    "          \"no_imvigor\": \"#abd9e9\",\n",
    "          \"no_hdm\": \"#2c7bb6\"}"
   ],
   "metadata": {
    "collapsed": false
   }
  },
  {
   "cell_type": "code",
   "execution_count": 29,
   "outputs": [
    {
     "name": "stdout",
     "output_type": "stream",
     "text": [
      "Converted dictionary: {'target': 'Response', 'scaler': '', 'features': ['TMB_zscore', 'APOBECenrichment.total', 'nonstop', 'CCND1', 'PD1.zscore', 'PDL1.zscore', 'HLA-I.GSVA', 'IFNg_Ayers.GSVA', 'Stroma_EMT.GSVA', 'T_cell_inflamed.GSVA', 'TGF_beta.GSVA', 'Macrophages M1', 'T cells CD4 memory activated', 'T cells CD8', 'T cells regulatory (Tregs)', 'ECOG_under0', 'Liver.Metastasis', 'APM_8.GSVA', 't.spec.lncRNA.GSVA'], 'feature_selector': '', 'num_features': 5, 'encoder': 'one_hot', 'class_balancer': '', 'evaluation_technique': 'train_test', 'model': 'random_forest', 'enable_parameter_search': False, 'splitting_runs': 100, 'test_size': 0.3, 'bootstrap_runs': 1000, 'plot_mean_roc': True, 'roc_color': 'black', 'output_path': '/home/sergiov/PycharmProjects/ICB_Response_Model/scripts/', 'parameters_grid': {'n_estimators': [100], 'criterion': ['gini'], 'max_depth': [None], 'min_samples_split': [2], 'min_samples_leaf': [12], 'max_features': ['sqrt'], 'bootstrap': [True], 'oob_score': [True]}}\n",
      "Fitting 15 folds for each of 1 candidates, totalling 15 fits\n"
     ]
    },
    {
     "name": "stderr",
     "output_type": "stream",
     "text": [
      "/home/sergiov/PycharmProjects/ICB_Response_Model/venv/lib/python3.8/site-packages/scipy/interpolate/_interpolate.py:698: RuntimeWarning: divide by zero encountered in divide\n",
      "  slope = (y_hi - y_lo) / (x_hi - x_lo)[:, None]\n",
      "/home/sergiov/PycharmProjects/ICB_Response_Model/venv/lib/python3.8/site-packages/scipy/interpolate/_interpolate.py:701: RuntimeWarning: invalid value encountered in multiply\n",
      "  y_new = slope*(x_new - x_lo)[:, None] + y_lo\n"
     ]
    },
    {
     "name": "stdout",
     "output_type": "stream",
     "text": [
      "Finished run for complete_model complete_data :)\n"
     ]
    },
    {
     "data": {
      "text/plain": "<Figure size 800x800 with 1 Axes>",
      "image/png": "[encoded data removed]"
     },
     "metadata": {},
     "output_type": "display_data"
    }
   ],
   "source": [
    "# path_to_main_module = r\"C:\\Users\\sergi\\PycharmProjects\\ICB_Response\\main.py\"\n",
    "# parameters_path = r\"C:\\Users\\sergi\\PycharmProjects\\ICB_Response\\parameters\"\n",
    "# output_path = r\"C:\\Users\\sergi\\PycharmProjects\\ICB_Response\\scripts\\test.csv\"\n",
    "# roc_output_path = r\"C:\\Users\\sergi\\PycharmProjects\\ICB_Response\\scripts\\roc.pdf\"\n",
    "\n",
    "path_to_main_module = r\"/home/sergiov/PycharmProjects/ICB_Response_Model/main.py\"\n",
    "parameters_path = r\"/home/sergiov/PycharmProjects/ICB_Response_Model/parameters\"\n",
    "output_path = r\"/home/sergiov/PycharmProjects/ICB_Response_Model/scripts/output.csv\"\n",
    "roc_output_path = r\"/home/sergiov/PycharmProjects/ICB_Response_Model/scripts/roc.pdf\"\n",
    "\n",
    "for k,v in paths.items():\n",
    "    for model, variables in model_variables.items():\n",
    "        # if model not in ['complete_model', 'tmb_rna'] and k != 'complete_data':\n",
    "        #     continue\n",
    "\n",
    "        parameters['features'] = variables\n",
    "        # parameters['roc_color'] = colors[k]\n",
    "\n",
    "        # Set the parameter grid for complete data\n",
    "        if k == 'complete_data':\n",
    "            if model == 'complete_model':\n",
    "                parameters['parameters_grid'] = param_grid_m1['complete_data']\n",
    "            elif model == 'tmb_rna':\n",
    "                parameters['parameters_grid'] = param_grid_m7['complete_data']\n",
    "            else:\n",
    "                parameters['parameters_grid'] = default_grid\n",
    "\n",
    "        # Set the parameter grid for infiltrated data\n",
    "        elif k == 'infiltrated':\n",
    "            if model == 'complete_model':\n",
    "                parameters['parameters_grid'] = param_grid_m1['infiltrated']\n",
    "            elif model == 'tmb_rna':\n",
    "                parameters['parameters_grid'] = param_grid_m7['infiltrated']\n",
    "\n",
    "        # Set the parameter grid for non-infiltrated data\n",
    "        elif k == 'non-infiltrated':\n",
    "            if model == 'complete_model':\n",
    "                parameters['parameters_grid'] = param_grid_m1['non-infiltrated']\n",
    "            elif model == 'tmb_rna':\n",
    "                parameters['parameters_grid'] = param_grid_m7['non-infiltrated']\n",
    "\n",
    "        else:\n",
    "            parameters['parameters_grid'] = default_grid\n",
    "\n",
    "        with open(parameters_path, 'w') as json_file:\n",
    "            json.dump(parameters, json_file, indent=2)\n",
    "\n",
    "        sys.argv = [v, parameters_path]\n",
    "        main.main()\n",
    "\n",
    "        result_df = pd.read_csv(output_path)\n",
    "        result_df.to_csv(f\"{model}_{k}_results_bootstrap_1000splits.csv\")\n",
    "        #os.rename(r\"/home/sergiov/PycharmProjects/ICB_Response_Model/scripts/roc.pdf\", f\"{model}_{k}_roc_1000runs.pdf\")\n",
    "        print(f\"Finished run for {model} {k} :)\")"
   ],
   "metadata": {
    "collapsed": false
   }
  },
  {
   "cell_type": "code",
   "execution_count": 24,
   "outputs": [],
   "source": [
    "def transform(self, scaler, dataframe):\n",
    "    scaled_dataframe = scaler.fit_transform(dataframe)\n",
    "\n",
    "    return pd.DataFrame(scaled_dataframe, columns=dataframe.columns)"
   ],
   "metadata": {
    "collapsed": false
   }
  },
  {
   "cell_type": "code",
   "execution_count": null,
   "outputs": [],
   "source": [
    "import numpy as np\n",
    "from sklearn.metrics import roc_curve, auc\n",
    "from joblib import load\n",
    "\n",
    "clf = load('/home/sergiov/PycharmProjects/ICB_Response_Model/scripts/model.joblib')\n",
    "\n",
    "data = pd.read_csv('/datasets/sergio/Integrated_data/df_WES+RNA_response.csv')\n",
    "\n",
    "data = data[model_7_variables + ['Response']].dropna()\n",
    "X = data[model_7_variables]\n",
    "\n",
    "y_true = np.where(data['Response'] == 'R', 1, 0)\n",
    "\n",
    "y_pred = clf.predict_proba(X)[:, 1]\n",
    "\n",
    "fpr, tpr, _ = roc_curve(y_true, y_pred)\n",
    "roc_auc = auc(fpr, tpr)"
   ],
   "metadata": {
    "collapsed": false
   }
  },
  {
   "cell_type": "code",
   "execution_count": null,
   "outputs": [],
   "source": [
    "roc_auc"
   ],
   "metadata": {
    "collapsed": false
   }
  }
 ],
 "metadata": {
  "kernelspec": {
   "display_name": "Python 3",
   "language": "python",
   "name": "python3"
  },
  "language_info": {
   "codemirror_mode": {
    "name": "ipython",
    "version": 2
   },
   "file_extension": ".py",
   "mimetype": "text/x-python",
   "name": "python",
   "nbconvert_exporter": "python",
   "pygments_lexer": "ipython2",
   "version": "2.7.6"
  }
 },
 "nbformat": 4,
 "nbformat_minor": 0
}
