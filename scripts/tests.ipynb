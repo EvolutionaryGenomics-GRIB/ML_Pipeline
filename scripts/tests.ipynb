{
 "cells": [
  {
   "cell_type": "code",
   "execution_count": 1,
   "metadata": {
    "collapsed": true
   },
   "outputs": [],
   "source": [
    "import pandas as pd"
   ]
  },
  {
   "cell_type": "code",
   "execution_count": 2,
   "outputs": [],
   "source": [
    "df = pd.read_csv('/home/sergiov/Desktop/full_data_random.csv', index_col=0)"
   ],
   "metadata": {
    "collapsed": false
   }
  },
  {
   "cell_type": "code",
   "execution_count": 3,
   "outputs": [],
   "source": [
    "df_selected_subtypes = df[df['TCGA.subtype'].isin(['Basal_squamous', 'Luminal_infiltrated'])]\n",
    "\n",
    "# Create another dataframe with the rest of the rows\n",
    "df_other_subtypes = df[~df['TCGA.subtype'].isin(['Basal_squamous', 'Luminal_infiltrated'])]"
   ],
   "metadata": {
    "collapsed": false
   }
  },
  {
   "cell_type": "code",
   "execution_count": 7,
   "outputs": [],
   "source": [
    "df_other_subtypes.to_csv('/home/sergiov/Desktop/non-infiltrated_patients.csv')"
   ],
   "metadata": {
    "collapsed": false
   }
  },
  {
   "cell_type": "code",
   "execution_count": 2,
   "outputs": [],
   "source": [
    "subtypes = pd.read_csv('/home/sergiov/Downloads/Subtype_Classification_table.csv', index_col=0)\n",
    "data = pd.read_csv('/home/sergiov/Downloads/data_glm (1).csv', index_col=0)"
   ],
   "metadata": {
    "collapsed": false
   }
  },
  {
   "cell_type": "code",
   "execution_count": 5,
   "outputs": [],
   "source": [
    "merged_df = subtypes.merge(data, how='left', left_index=True, right_index=True)"
   ],
   "metadata": {
    "collapsed": false
   }
  },
  {
   "cell_type": "code",
   "execution_count": 7,
   "outputs": [],
   "source": [
    "merged_df.to_csv('/home/sergiov/Desktop/ari.csv')"
   ],
   "metadata": {
    "collapsed": false
   }
  },
  {
   "cell_type": "code",
   "execution_count": 8,
   "outputs": [
    {
     "name": "stdout",
     "output_type": "stream",
     "text": [
      "Collecting category_encoders\r\n",
      "  Downloading category_encoders-2.6.3-py2.py3-none-any.whl (81 kB)\r\n",
      "\u001B[2K     \u001B[38;2;114;156;31m━━━━━━━━━━━━━━━━━━━━━━━━━━━━━━━━━━━━━━━━\u001B[0m \u001B[32m81.9/81.9 kB\u001B[0m \u001B[31m2.8 MB/s\u001B[0m eta \u001B[36m0:00:00\u001B[0m\r\n",
      "\u001B[?25hCollecting patsy>=0.5.1\r\n",
      "  Downloading patsy-0.5.6-py2.py3-none-any.whl (233 kB)\r\n",
      "\u001B[2K     \u001B[38;2;114;156;31m━━━━━━━━━━━━━━━━━━━━━━━━━━━━━━━━━━━━━━\u001B[0m \u001B[32m233.9/233.9 kB\u001B[0m \u001B[31m13.0 MB/s\u001B[0m eta \u001B[36m0:00:00\u001B[0m\r\n",
      "\u001B[?25hRequirement already satisfied: numpy>=1.14.0 in /home/sergiov/PycharmProjects/ICB_Response_Model/venv/lib/python3.8/site-packages (from category_encoders) (1.24.4)\r\n",
      "Requirement already satisfied: pandas>=1.0.5 in /home/sergiov/PycharmProjects/ICB_Response_Model/venv/lib/python3.8/site-packages (from category_encoders) (2.0.3)\r\n",
      "Collecting statsmodels>=0.9.0\r\n",
      "  Downloading statsmodels-0.14.1-cp38-cp38-manylinux_2_17_x86_64.manylinux2014_x86_64.whl (10.9 MB)\r\n",
      "\u001B[2K     \u001B[38;2;114;156;31m━━━━━━━━━━━━━━━━━━━━━━━━━━━━━━━━━━━━━━━━\u001B[0m \u001B[32m10.9/10.9 MB\u001B[0m \u001B[31m69.9 MB/s\u001B[0m eta \u001B[36m0:00:00\u001B[0mm eta \u001B[36m0:00:01\u001B[0m36m0:00:01\u001B[0m\r\n",
      "\u001B[?25hRequirement already satisfied: scipy>=1.0.0 in /home/sergiov/PycharmProjects/ICB_Response_Model/venv/lib/python3.8/site-packages (from category_encoders) (1.10.1)\r\n",
      "Requirement already satisfied: importlib-resources in /home/sergiov/PycharmProjects/ICB_Response_Model/venv/lib/python3.8/site-packages (from category_encoders) (6.0.1)\r\n",
      "Requirement already satisfied: scikit-learn>=0.20.0 in /home/sergiov/PycharmProjects/ICB_Response_Model/venv/lib/python3.8/site-packages (from category_encoders) (1.3.0)\r\n",
      "Requirement already satisfied: python-dateutil>=2.8.2 in /home/sergiov/PycharmProjects/ICB_Response_Model/venv/lib/python3.8/site-packages (from pandas>=1.0.5->category_encoders) (2.8.2)\r\n",
      "Requirement already satisfied: pytz>=2020.1 in /home/sergiov/PycharmProjects/ICB_Response_Model/venv/lib/python3.8/site-packages (from pandas>=1.0.5->category_encoders) (2023.3)\r\n",
      "Requirement already satisfied: tzdata>=2022.1 in /home/sergiov/PycharmProjects/ICB_Response_Model/venv/lib/python3.8/site-packages (from pandas>=1.0.5->category_encoders) (2023.3)\r\n",
      "Requirement already satisfied: six in /home/sergiov/PycharmProjects/ICB_Response_Model/venv/lib/python3.8/site-packages (from patsy>=0.5.1->category_encoders) (1.16.0)\r\n",
      "Requirement already satisfied: joblib>=1.1.1 in /home/sergiov/PycharmProjects/ICB_Response_Model/venv/lib/python3.8/site-packages (from scikit-learn>=0.20.0->category_encoders) (1.3.2)\r\n",
      "Requirement already satisfied: threadpoolctl>=2.0.0 in /home/sergiov/PycharmProjects/ICB_Response_Model/venv/lib/python3.8/site-packages (from scikit-learn>=0.20.0->category_encoders) (3.2.0)\r\n",
      "Requirement already satisfied: packaging>=21.3 in /home/sergiov/PycharmProjects/ICB_Response_Model/venv/lib/python3.8/site-packages (from statsmodels>=0.9.0->category_encoders) (23.1)\r\n",
      "Requirement already satisfied: zipp>=3.1.0 in /home/sergiov/PycharmProjects/ICB_Response_Model/venv/lib/python3.8/site-packages (from importlib-resources->category_encoders) (3.16.2)\r\n",
      "Installing collected packages: patsy, statsmodels, category_encoders\r\n",
      "Successfully installed category_encoders-2.6.3 patsy-0.5.6 statsmodels-0.14.1\r\n",
      "\r\n",
      "\u001B[1m[\u001B[0m\u001B[34;49mnotice\u001B[0m\u001B[1;39;49m]\u001B[0m\u001B[39;49m A new release of pip available: \u001B[0m\u001B[31;49m22.3.1\u001B[0m\u001B[39;49m -> \u001B[0m\u001B[32;49m23.3.2\u001B[0m\r\n",
      "\u001B[1m[\u001B[0m\u001B[34;49mnotice\u001B[0m\u001B[1;39;49m]\u001B[0m\u001B[39;49m To update, run: \u001B[0m\u001B[32;49mpip install --upgrade pip\u001B[0m\r\n",
      "Note: you may need to restart the kernel to use updated packages.\n"
     ]
    }
   ],
   "source": [
    "pip install category_encoders"
   ],
   "metadata": {
    "collapsed": false
   }
  },
  {
   "cell_type": "code",
   "execution_count": 5,
   "outputs": [],
   "source": [
    "full_data = pd.read_csv('/datasets/sergio/Integrated_data/complete_data_lund.csv', index_col=0)\n",
    "consensus = pd.read_csv('/datasets/sergio/Integrated_data/full_data.csv', index_col=0)[['consensusClass']]"
   ],
   "metadata": {
    "collapsed": false
   }
  },
  {
   "cell_type": "code",
   "execution_count": 25,
   "outputs": [],
   "source": [
    "merged_df = full_data.merge(consensus, how='left', left_index=True, right_index=True)"
   ],
   "metadata": {
    "collapsed": false
   }
  },
  {
   "cell_type": "code",
   "execution_count": 29,
   "outputs": [],
   "source": [
    "merged_df.to_csv('/datasets/sergio/Integrated_data/full_data_subtypes.csv')"
   ],
   "metadata": {
    "collapsed": false
   }
  },
  {
   "cell_type": "code",
   "execution_count": null,
   "outputs": [],
   "source": [
    "merged_df"
   ],
   "metadata": {
    "collapsed": false
   }
  },
  {
   "cell_type": "code",
   "execution_count": 26,
   "outputs": [],
   "source": [
    "merged_df['LundBaSq'] = 0\n",
    "merged_df.loc[merged_df['Lund5'] == 'BaSq', 'LundBaSq'] = 1\n",
    "\n",
    "merged_df['LundGU'] = 0\n",
    "merged_df.loc[merged_df['Lund5'] == 'GU', 'LundGU'] = 1\n",
    "\n",
    "merged_df['LundUro'] = 0\n",
    "merged_df.loc[merged_df['Lund5'] == 'Uro', 'LundUro'] = 1\n",
    "\n",
    "merged_df['LundMes'] = 0\n",
    "merged_df.loc[merged_df['Lund5'] == 'Mes', 'LundMes'] = 1\n",
    "\n",
    "merged_df['LundNE'] = 0\n",
    "merged_df.loc[merged_df['Lund5'] == 'ScNE', 'LundNE'] = 1"
   ],
   "metadata": {
    "collapsed": false
   }
  },
  {
   "cell_type": "code",
   "execution_count": 27,
   "outputs": [],
   "source": [
    "merged_df['TCGABaSq'] = 0\n",
    "merged_df.loc[merged_df['TCGA.subtype'] == 'Basal_squamous', 'TCGABaSq'] = 1\n",
    "\n",
    "merged_df['TCGALum'] = 0\n",
    "merged_df.loc[merged_df['TCGA.subtype'] == 'Luminal', 'TCGALum'] = 1\n",
    "\n",
    "merged_df['TCGALumInf'] = 0\n",
    "merged_df.loc[merged_df['TCGA.subtype'] == 'Luminal_infiltrated', 'TCGALumInf'] = 1\n",
    "\n",
    "merged_df['TCGALumPap'] = 0\n",
    "merged_df.loc[merged_df['TCGA.subtype'] == 'Luminal_papillary', 'TCGALumPap'] = 1\n",
    "\n",
    "merged_df['TCGANeuronal'] = 0\n",
    "merged_df.loc[merged_df['TCGA.subtype'] == 'Neuronal', 'TCGANeuronal'] = 1"
   ],
   "metadata": {
    "collapsed": false
   }
  },
  {
   "cell_type": "code",
   "execution_count": 28,
   "outputs": [],
   "source": [
    "merged_df['ConsensusLumNS'] = 0\n",
    "merged_df.loc[merged_df['consensusClass'] == 'LumNS', 'ConsensusLumNS'] = 1\n",
    "\n",
    "merged_df['ConsensusStroma-rich'] = 0\n",
    "merged_df.loc[merged_df['consensusClass'] == 'Stroma-rich', 'ConsensusStroma-rich'] = 1\n",
    "\n",
    "merged_df['ConsensusBaSq'] = 0\n",
    "merged_df.loc[merged_df['consensusClass'] == 'Ba/Sq', 'ConsensusBaSq'] = 1\n",
    "\n",
    "merged_df['ConsensusLumP'] = 0\n",
    "merged_df.loc[merged_df['consensusClass'] == 'LumP', 'ConsensusLumP'] = 1\n",
    "\n",
    "merged_df['ConsensusLumU'] = 0\n",
    "merged_df.loc[merged_df['consensusClass'] == 'LumU', 'ConsensusLumU'] = 1\n",
    "\n",
    "merged_df['ConsensusNE'] = 0\n",
    "merged_df.loc[merged_df['consensusClass'] == 'NE-like', 'ConsensusNE'] = 1"
   ],
   "metadata": {
    "collapsed": false
   }
  },
  {
   "cell_type": "code",
   "execution_count": 23,
   "outputs": [
    {
     "data": {
      "text/plain": "         Unnamed: 0     Dataset Response Tumor_Sample_Barcode  totalTMB  \\\nNR1             439  HdM-BLCA-1       NR             NR1_2493      1.50   \nNR3             442  HdM-BLCA-1       NR             NR3_0369      2.12   \nNR4             443  HdM-BLCA-1       NR             NR4_0365      0.08   \nNR5             444  HdM-BLCA-1       NR             NR5_2497      5.36   \nNR6             445  HdM-BLCA-1       NR             NR6_2502      4.50   \n...             ...         ...      ...                  ...       ...   \nBACI209         411     UNC-108        R              BACI209     11.40   \nBACI210         412     UNC-108       NR              BACI210      5.30   \nBACI211         413     UNC-108       NR              BACI211     14.80   \nBACI212         414     UNC-108       NR              BACI212      4.40   \nBACI219         415     UNC-108       NR              BACI219     17.50   \n\n        RECIST     Sex  ECOG ECOG_under0   Age  ... TCGALum TCGALumInf  \\\nNR1         PD    male   0.0           Y  63.0  ...       1          0   \nNR3         PD    male   1.0           N  75.0  ...       0          1   \nNR4         PD    male   0.0           Y  60.0  ...       0          1   \nNR5         PD    male   0.0           Y  53.0  ...       0          0   \nNR6         PD    male   0.0           Y  77.0  ...       0          1   \n...        ...     ...   ...         ...   ...  ...     ...        ...   \nBACI209     CR  female   3.0           N  74.0  ...       0          0   \nBACI210     PD    male   1.0           N  66.0  ...       0          0   \nBACI211     PD  female   2.0           N  77.0  ...       0          0   \nBACI212     PD    male   2.0           N  85.0  ...       0          1   \nBACI219     PD    male   NaN         NaN  53.0  ...       0          1   \n\n         TCGALumPap TCGANeuronal ConsensusLumNS ConsensusStroma-rich  \\\nNR1               0            0              1                    0   \nNR3               0            0              0                    1   \nNR4               0            0              0                    1   \nNR5               0            0              0                    0   \nNR6               0            0              0                    1   \n...             ...          ...            ...                  ...   \nBACI209           0            0              0                    0   \nBACI210           0            0              0                    0   \nBACI211           0            1              0                    0   \nBACI212           0            0              0                    1   \nBACI219           0            0              1                    0   \n\n        ConsensusBaSq ConsensusLumP  ConsensusLumU  ConsensusNE  \nNR1                 0             0              0            0  \nNR3                 0             0              0            0  \nNR4                 0             0              0            0  \nNR5                 1             0              0            0  \nNR6                 0             0              0            0  \n...               ...           ...            ...          ...  \nBACI209             1             0              0            0  \nBACI210             1             0              0            0  \nBACI211             0             0              0            1  \nBACI212             0             0              0            0  \nBACI219             0             0              0            0  \n\n[420 rows x 225 columns]",
      "text/html": "<div>\n<style scoped>\n    .dataframe tbody tr th:only-of-type {\n        vertical-align: middle;\n    }\n\n    .dataframe tbody tr th {\n        vertical-align: top;\n    }\n\n    .dataframe thead th {\n        text-align: right;\n    }\n</style>\n<table border=\"1\" class=\"dataframe\">\n  <thead>\n    <tr style=\"text-align: right;\">\n      <th></th>\n      <th>Unnamed: 0</th>\n      <th>Dataset</th>\n      <th>Response</th>\n      <th>Tumor_Sample_Barcode</th>\n      <th>totalTMB</th>\n      <th>RECIST</th>\n      <th>Sex</th>\n      <th>ECOG</th>\n      <th>ECOG_under0</th>\n      <th>Age</th>\n      <th>...</th>\n      <th>TCGALum</th>\n      <th>TCGALumInf</th>\n      <th>TCGALumPap</th>\n      <th>TCGANeuronal</th>\n      <th>ConsensusLumNS</th>\n      <th>ConsensusStroma-rich</th>\n      <th>ConsensusBaSq</th>\n      <th>ConsensusLumP</th>\n      <th>ConsensusLumU</th>\n      <th>ConsensusNE</th>\n    </tr>\n  </thead>\n  <tbody>\n    <tr>\n      <th>NR1</th>\n      <td>439</td>\n      <td>HdM-BLCA-1</td>\n      <td>NR</td>\n      <td>NR1_2493</td>\n      <td>1.50</td>\n      <td>PD</td>\n      <td>male</td>\n      <td>0.0</td>\n      <td>Y</td>\n      <td>63.0</td>\n      <td>...</td>\n      <td>1</td>\n      <td>0</td>\n      <td>0</td>\n      <td>0</td>\n      <td>1</td>\n      <td>0</td>\n      <td>0</td>\n      <td>0</td>\n      <td>0</td>\n      <td>0</td>\n    </tr>\n    <tr>\n      <th>NR3</th>\n      <td>442</td>\n      <td>HdM-BLCA-1</td>\n      <td>NR</td>\n      <td>NR3_0369</td>\n      <td>2.12</td>\n      <td>PD</td>\n      <td>male</td>\n      <td>1.0</td>\n      <td>N</td>\n      <td>75.0</td>\n      <td>...</td>\n      <td>0</td>\n      <td>1</td>\n      <td>0</td>\n      <td>0</td>\n      <td>0</td>\n      <td>1</td>\n      <td>0</td>\n      <td>0</td>\n      <td>0</td>\n      <td>0</td>\n    </tr>\n    <tr>\n      <th>NR4</th>\n      <td>443</td>\n      <td>HdM-BLCA-1</td>\n      <td>NR</td>\n      <td>NR4_0365</td>\n      <td>0.08</td>\n      <td>PD</td>\n      <td>male</td>\n      <td>0.0</td>\n      <td>Y</td>\n      <td>60.0</td>\n      <td>...</td>\n      <td>0</td>\n      <td>1</td>\n      <td>0</td>\n      <td>0</td>\n      <td>0</td>\n      <td>1</td>\n      <td>0</td>\n      <td>0</td>\n      <td>0</td>\n      <td>0</td>\n    </tr>\n    <tr>\n      <th>NR5</th>\n      <td>444</td>\n      <td>HdM-BLCA-1</td>\n      <td>NR</td>\n      <td>NR5_2497</td>\n      <td>5.36</td>\n      <td>PD</td>\n      <td>male</td>\n      <td>0.0</td>\n      <td>Y</td>\n      <td>53.0</td>\n      <td>...</td>\n      <td>0</td>\n      <td>0</td>\n      <td>0</td>\n      <td>0</td>\n      <td>0</td>\n      <td>0</td>\n      <td>1</td>\n      <td>0</td>\n      <td>0</td>\n      <td>0</td>\n    </tr>\n    <tr>\n      <th>NR6</th>\n      <td>445</td>\n      <td>HdM-BLCA-1</td>\n      <td>NR</td>\n      <td>NR6_2502</td>\n      <td>4.50</td>\n      <td>PD</td>\n      <td>male</td>\n      <td>0.0</td>\n      <td>Y</td>\n      <td>77.0</td>\n      <td>...</td>\n      <td>0</td>\n      <td>1</td>\n      <td>0</td>\n      <td>0</td>\n      <td>0</td>\n      <td>1</td>\n      <td>0</td>\n      <td>0</td>\n      <td>0</td>\n      <td>0</td>\n    </tr>\n    <tr>\n      <th>...</th>\n      <td>...</td>\n      <td>...</td>\n      <td>...</td>\n      <td>...</td>\n      <td>...</td>\n      <td>...</td>\n      <td>...</td>\n      <td>...</td>\n      <td>...</td>\n      <td>...</td>\n      <td>...</td>\n      <td>...</td>\n      <td>...</td>\n      <td>...</td>\n      <td>...</td>\n      <td>...</td>\n      <td>...</td>\n      <td>...</td>\n      <td>...</td>\n      <td>...</td>\n      <td>...</td>\n    </tr>\n    <tr>\n      <th>BACI209</th>\n      <td>411</td>\n      <td>UNC-108</td>\n      <td>R</td>\n      <td>BACI209</td>\n      <td>11.40</td>\n      <td>CR</td>\n      <td>female</td>\n      <td>3.0</td>\n      <td>N</td>\n      <td>74.0</td>\n      <td>...</td>\n      <td>0</td>\n      <td>0</td>\n      <td>0</td>\n      <td>0</td>\n      <td>0</td>\n      <td>0</td>\n      <td>1</td>\n      <td>0</td>\n      <td>0</td>\n      <td>0</td>\n    </tr>\n    <tr>\n      <th>BACI210</th>\n      <td>412</td>\n      <td>UNC-108</td>\n      <td>NR</td>\n      <td>BACI210</td>\n      <td>5.30</td>\n      <td>PD</td>\n      <td>male</td>\n      <td>1.0</td>\n      <td>N</td>\n      <td>66.0</td>\n      <td>...</td>\n      <td>0</td>\n      <td>0</td>\n      <td>0</td>\n      <td>0</td>\n      <td>0</td>\n      <td>0</td>\n      <td>1</td>\n      <td>0</td>\n      <td>0</td>\n      <td>0</td>\n    </tr>\n    <tr>\n      <th>BACI211</th>\n      <td>413</td>\n      <td>UNC-108</td>\n      <td>NR</td>\n      <td>BACI211</td>\n      <td>14.80</td>\n      <td>PD</td>\n      <td>female</td>\n      <td>2.0</td>\n      <td>N</td>\n      <td>77.0</td>\n      <td>...</td>\n      <td>0</td>\n      <td>0</td>\n      <td>0</td>\n      <td>1</td>\n      <td>0</td>\n      <td>0</td>\n      <td>0</td>\n      <td>0</td>\n      <td>0</td>\n      <td>1</td>\n    </tr>\n    <tr>\n      <th>BACI212</th>\n      <td>414</td>\n      <td>UNC-108</td>\n      <td>NR</td>\n      <td>BACI212</td>\n      <td>4.40</td>\n      <td>PD</td>\n      <td>male</td>\n      <td>2.0</td>\n      <td>N</td>\n      <td>85.0</td>\n      <td>...</td>\n      <td>0</td>\n      <td>1</td>\n      <td>0</td>\n      <td>0</td>\n      <td>0</td>\n      <td>1</td>\n      <td>0</td>\n      <td>0</td>\n      <td>0</td>\n      <td>0</td>\n    </tr>\n    <tr>\n      <th>BACI219</th>\n      <td>415</td>\n      <td>UNC-108</td>\n      <td>NR</td>\n      <td>BACI219</td>\n      <td>17.50</td>\n      <td>PD</td>\n      <td>male</td>\n      <td>NaN</td>\n      <td>NaN</td>\n      <td>53.0</td>\n      <td>...</td>\n      <td>0</td>\n      <td>1</td>\n      <td>0</td>\n      <td>0</td>\n      <td>1</td>\n      <td>0</td>\n      <td>0</td>\n      <td>0</td>\n      <td>0</td>\n      <td>0</td>\n    </tr>\n  </tbody>\n</table>\n<p>420 rows × 225 columns</p>\n</div>"
     },
     "execution_count": 23,
     "metadata": {},
     "output_type": "execute_result"
    }
   ],
   "source": [
    "merged_df"
   ],
   "metadata": {
    "collapsed": false
   }
  }
 ],
 "metadata": {
  "kernelspec": {
   "display_name": "Python 3",
   "language": "python",
   "name": "python3"
  },
  "language_info": {
   "codemirror_mode": {
    "name": "ipython",
    "version": 2
   },
   "file_extension": ".py",
   "mimetype": "text/x-python",
   "name": "python",
   "nbconvert_exporter": "python",
   "pygments_lexer": "ipython2",
   "version": "2.7.6"
  }
 },
 "nbformat": 4,
 "nbformat_minor": 0
}
