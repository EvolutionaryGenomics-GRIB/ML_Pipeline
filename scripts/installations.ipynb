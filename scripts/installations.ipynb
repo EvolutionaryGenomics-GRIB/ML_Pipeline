{
 "cells": [
  {
   "cell_type": "code",
   "execution_count": 3,
   "metadata": {
    "collapsed": true
   },
   "outputs": [
    {
     "name": "stdout",
     "output_type": "stream",
     "text": [
      "Collecting mlxtend\r\n",
      "  Downloading mlxtend-0.23.0-py3-none-any.whl (1.4 MB)\r\n",
      "\u001B[2K     \u001B[38;2;114;156;31m━━━━━━━━━━━━━━━━━━━━━━━━━━━━━━━━━━━━━━━━\u001B[0m \u001B[32m1.4/1.4 MB\u001B[0m \u001B[31m11.4 MB/s\u001B[0m eta \u001B[36m0:00:00\u001B[0m31m13.2 MB/s\u001B[0m eta \u001B[36m0:00:01\u001B[0m\r\n",
      "\u001B[?25hRequirement already satisfied: scipy>=1.2.1 in /home/sergiov/PycharmProjects/ICB_Response_Model/venv/lib/python3.8/site-packages (from mlxtend) (1.10.1)\r\n",
      "Requirement already satisfied: scikit-learn>=1.0.2 in /home/sergiov/PycharmProjects/ICB_Response_Model/venv/lib/python3.8/site-packages (from mlxtend) (1.3.0)\r\n",
      "Requirement already satisfied: joblib>=0.13.2 in /home/sergiov/PycharmProjects/ICB_Response_Model/venv/lib/python3.8/site-packages (from mlxtend) (1.3.2)\r\n",
      "Requirement already satisfied: matplotlib>=3.0.0 in /home/sergiov/PycharmProjects/ICB_Response_Model/venv/lib/python3.8/site-packages (from mlxtend) (3.7.4)\r\n",
      "Requirement already satisfied: pandas>=0.24.2 in /home/sergiov/PycharmProjects/ICB_Response_Model/venv/lib/python3.8/site-packages (from mlxtend) (2.0.3)\r\n",
      "Requirement already satisfied: numpy>=1.16.2 in /home/sergiov/PycharmProjects/ICB_Response_Model/venv/lib/python3.8/site-packages (from mlxtend) (1.24.4)\r\n",
      "Requirement already satisfied: packaging>=20.0 in /home/sergiov/PycharmProjects/ICB_Response_Model/venv/lib/python3.8/site-packages (from matplotlib>=3.0.0->mlxtend) (23.1)\r\n",
      "Requirement already satisfied: pillow>=6.2.0 in /home/sergiov/PycharmProjects/ICB_Response_Model/venv/lib/python3.8/site-packages (from matplotlib>=3.0.0->mlxtend) (10.1.0)\r\n",
      "Requirement already satisfied: contourpy>=1.0.1 in /home/sergiov/PycharmProjects/ICB_Response_Model/venv/lib/python3.8/site-packages (from matplotlib>=3.0.0->mlxtend) (1.1.1)\r\n",
      "Requirement already satisfied: importlib-resources>=3.2.0 in /home/sergiov/PycharmProjects/ICB_Response_Model/venv/lib/python3.8/site-packages (from matplotlib>=3.0.0->mlxtend) (6.0.1)\r\n",
      "Requirement already satisfied: cycler>=0.10 in /home/sergiov/PycharmProjects/ICB_Response_Model/venv/lib/python3.8/site-packages (from matplotlib>=3.0.0->mlxtend) (0.12.1)\r\n",
      "Requirement already satisfied: kiwisolver>=1.0.1 in /home/sergiov/PycharmProjects/ICB_Response_Model/venv/lib/python3.8/site-packages (from matplotlib>=3.0.0->mlxtend) (1.4.5)\r\n",
      "Requirement already satisfied: python-dateutil>=2.7 in /home/sergiov/PycharmProjects/ICB_Response_Model/venv/lib/python3.8/site-packages (from matplotlib>=3.0.0->mlxtend) (2.8.2)\r\n",
      "Requirement already satisfied: fonttools>=4.22.0 in /home/sergiov/PycharmProjects/ICB_Response_Model/venv/lib/python3.8/site-packages (from matplotlib>=3.0.0->mlxtend) (4.45.1)\r\n",
      "Requirement already satisfied: pyparsing>=2.3.1 in /home/sergiov/PycharmProjects/ICB_Response_Model/venv/lib/python3.8/site-packages (from matplotlib>=3.0.0->mlxtend) (3.1.1)\r\n",
      "Requirement already satisfied: tzdata>=2022.1 in /home/sergiov/PycharmProjects/ICB_Response_Model/venv/lib/python3.8/site-packages (from pandas>=0.24.2->mlxtend) (2023.3)\r\n",
      "Requirement already satisfied: pytz>=2020.1 in /home/sergiov/PycharmProjects/ICB_Response_Model/venv/lib/python3.8/site-packages (from pandas>=0.24.2->mlxtend) (2023.3)\r\n",
      "Requirement already satisfied: threadpoolctl>=2.0.0 in /home/sergiov/PycharmProjects/ICB_Response_Model/venv/lib/python3.8/site-packages (from scikit-learn>=1.0.2->mlxtend) (3.2.0)\r\n",
      "Requirement already satisfied: zipp>=3.1.0 in /home/sergiov/PycharmProjects/ICB_Response_Model/venv/lib/python3.8/site-packages (from importlib-resources>=3.2.0->matplotlib>=3.0.0->mlxtend) (3.16.2)\r\n",
      "Requirement already satisfied: six>=1.5 in /home/sergiov/PycharmProjects/ICB_Response_Model/venv/lib/python3.8/site-packages (from python-dateutil>=2.7->matplotlib>=3.0.0->mlxtend) (1.16.0)\r\n",
      "Installing collected packages: mlxtend\r\n",
      "Successfully installed mlxtend-0.23.0\r\n",
      "\r\n",
      "\u001B[1m[\u001B[0m\u001B[34;49mnotice\u001B[0m\u001B[1;39;49m]\u001B[0m\u001B[39;49m A new release of pip available: \u001B[0m\u001B[31;49m22.3.1\u001B[0m\u001B[39;49m -> \u001B[0m\u001B[32;49m23.3.1\u001B[0m\r\n",
      "\u001B[1m[\u001B[0m\u001B[34;49mnotice\u001B[0m\u001B[1;39;49m]\u001B[0m\u001B[39;49m To update, run: \u001B[0m\u001B[32;49mpip install --upgrade pip\u001B[0m\r\n",
      "Note: you may need to restart the kernel to use updated packages.\n"
     ]
    }
   ],
   "source": [
    "from mlxtend.evaluate import bootstrap_point632_score"
   ]
  },
  {
   "cell_type": "code",
   "execution_count": 2,
   "outputs": [
    {
     "name": "stdout",
     "output_type": "stream",
     "text": [
      "106 INFO: PyInstaller: 5.13.2\r\n",
      "106 INFO: Python: 3.8.10\r\n",
      "120 INFO: Platform: Linux-5.15.0-84-generic-x86_64-with-glibc2.29\r\n",
      "120 INFO: wrote /home/sergiov/PycharmProjects/ICB_Response_Model/main.spec\r\n",
      "124 INFO: Extending PYTHONPATH with paths\r\n",
      "['/home/sergiov/PycharmProjects/ICB_Response_Model']\r\n",
      "444 INFO: checking Analysis\r\n",
      "445 INFO: Building Analysis because Analysis-00.toc is non existent\r\n",
      "445 INFO: Initializing module dependency graph...\r\n",
      "446 INFO: Caching module graph hooks...\r\n",
      "460 INFO: Analyzing base_library.zip ...\r\n",
      "1057 INFO: Loading module hook 'hook-encodings.py' from '/home/sergiov/PycharmProjects/ICB_Response_Model/venv/lib/python3.8/site-packages/PyInstaller/hooks'...\r\n",
      "1899 INFO: Loading module hook 'hook-pickle.py' from '/home/sergiov/PycharmProjects/ICB_Response_Model/venv/lib/python3.8/site-packages/PyInstaller/hooks'...\r\n",
      "2288 INFO: Loading module hook 'hook-heapq.py' from '/home/sergiov/PycharmProjects/ICB_Response_Model/venv/lib/python3.8/site-packages/PyInstaller/hooks'...\r\n",
      "2608 INFO: Caching module dependency graph...\r\n",
      "2671 INFO: running Analysis Analysis-00.toc\r\n",
      "2728 INFO: Analyzing /home/sergiov/PycharmProjects/ICB_Response_Model/main.py\r\n",
      "2758 INFO: Loading module hook 'hook-pandas.py' from '/home/sergiov/PycharmProjects/ICB_Response_Model/venv/lib/python3.8/site-packages/PyInstaller/hooks'...\r\n",
      "3575 INFO: Loading module hook 'hook-platform.py' from '/home/sergiov/PycharmProjects/ICB_Response_Model/venv/lib/python3.8/site-packages/PyInstaller/hooks'...\r\n",
      "3600 INFO: Loading module hook 'hook-numpy.py' from '/home/sergiov/PycharmProjects/ICB_Response_Model/venv/lib/python3.8/site-packages/numpy/_pyinstaller'...\r\n",
      "4137 INFO: Loading module hook 'hook-multiprocessing.util.py' from '/home/sergiov/PycharmProjects/ICB_Response_Model/venv/lib/python3.8/site-packages/PyInstaller/hooks'...\r\n",
      "4262 INFO: Loading module hook 'hook-xml.py' from '/home/sergiov/PycharmProjects/ICB_Response_Model/venv/lib/python3.8/site-packages/PyInstaller/hooks'...\r\n",
      "4620 INFO: Loading module hook 'hook-difflib.py' from '/home/sergiov/PycharmProjects/ICB_Response_Model/venv/lib/python3.8/site-packages/PyInstaller/hooks'...\r\n",
      "4816 INFO: Loading module hook 'hook-sysconfig.py' from '/home/sergiov/PycharmProjects/ICB_Response_Model/venv/lib/python3.8/site-packages/PyInstaller/hooks'...\r\n",
      "4970 INFO: Loading module hook 'hook-psutil.py' from '/home/sergiov/PycharmProjects/ICB_Response_Model/venv/lib/python3.8/site-packages/_pyinstaller_hooks_contrib/hooks/stdhooks'...\r\n",
      "5664 INFO: Loading module hook 'hook-pytz.py' from '/home/sergiov/PycharmProjects/ICB_Response_Model/venv/lib/python3.8/site-packages/PyInstaller/hooks'...\r\n",
      "5776 INFO: Loading module hook 'hook-pkg_resources.py' from '/home/sergiov/PycharmProjects/ICB_Response_Model/venv/lib/python3.8/site-packages/PyInstaller/hooks'...\r\n",
      "6950 INFO: Loading module hook 'hook-scipy.py' from '/home/sergiov/PycharmProjects/ICB_Response_Model/venv/lib/python3.8/site-packages/PyInstaller/hooks'...\r\n",
      "7217 INFO: Loading module hook 'hook-pycparser.py' from '/home/sergiov/PycharmProjects/ICB_Response_Model/venv/lib/python3.8/site-packages/_pyinstaller_hooks_contrib/hooks/stdhooks'...\r\n",
      "7717 INFO: Processing pre-safe import module hook distutils from '/home/sergiov/PycharmProjects/ICB_Response_Model/venv/lib/python3.8/site-packages/PyInstaller/hooks/pre_safe_import_module/hook-distutils.py'.\r\n",
      "7717 INFO: Processing pre-find module path hook distutils from '/home/sergiov/PycharmProjects/ICB_Response_Model/venv/lib/python3.8/site-packages/PyInstaller/hooks/pre_find_module_path/hook-distutils.py'.\r\n",
      "7990 INFO: Loading module hook 'hook-distutils.py' from '/home/sergiov/PycharmProjects/ICB_Response_Model/venv/lib/python3.8/site-packages/PyInstaller/hooks'...\r\n",
      "8043 INFO: Loading module hook 'hook-distutils.util.py' from '/home/sergiov/PycharmProjects/ICB_Response_Model/venv/lib/python3.8/site-packages/PyInstaller/hooks'...\r\n",
      "8127 INFO: Loading module hook 'hook-setuptools.py' from '/home/sergiov/PycharmProjects/ICB_Response_Model/venv/lib/python3.8/site-packages/PyInstaller/hooks'...\r\n",
      "9209 INFO: Loading module hook 'hook-importlib_metadata.py' from '/home/sergiov/PycharmProjects/ICB_Response_Model/venv/lib/python3.8/site-packages/PyInstaller/hooks'...\r\n",
      "9413 INFO: Loading module hook 'hook-packaging.py' from '/home/sergiov/PycharmProjects/ICB_Response_Model/venv/lib/python3.8/site-packages/PyInstaller/hooks'...\r\n",
      "10090 INFO: Loading module hook 'hook-scipy.linalg.py' from '/home/sergiov/PycharmProjects/ICB_Response_Model/venv/lib/python3.8/site-packages/PyInstaller/hooks'...\r\n",
      "10264 INFO: Loading module hook 'hook-scipy.sparse.csgraph.py' from '/home/sergiov/PycharmProjects/ICB_Response_Model/venv/lib/python3.8/site-packages/PyInstaller/hooks'...\r\n",
      "11617 INFO: Loading module hook 'hook-scipy.spatial.transform.rotation.py' from '/home/sergiov/PycharmProjects/ICB_Response_Model/venv/lib/python3.8/site-packages/PyInstaller/hooks'...\r\n",
      "13158 INFO: Loading module hook 'hook-pandas.io.formats.style.py' from '/home/sergiov/PycharmProjects/ICB_Response_Model/venv/lib/python3.8/site-packages/PyInstaller/hooks'...\r\n",
      "14294 INFO: Loading module hook 'hook-IPython.py' from '/home/sergiov/PycharmProjects/ICB_Response_Model/venv/lib/python3.8/site-packages/_pyinstaller_hooks_contrib/hooks/stdhooks'...\r\n",
      "15413 INFO: Loading module hook 'hook-xml.dom.domreg.py' from '/home/sergiov/PycharmProjects/ICB_Response_Model/venv/lib/python3.8/site-packages/PyInstaller/hooks'...\r\n",
      "15543 INFO: Loading module hook 'hook-pygments.py' from '/home/sergiov/PycharmProjects/ICB_Response_Model/venv/lib/python3.8/site-packages/PyInstaller/hooks'...\r\n",
      "16744 INFO: Processing pre-safe import module hook six.moves from '/home/sergiov/PycharmProjects/ICB_Response_Model/venv/lib/python3.8/site-packages/PyInstaller/hooks/pre_safe_import_module/hook-six.moves.py'.\r\n",
      "16816 INFO: Loading module hook 'hook-lib2to3.py' from '/home/sergiov/PycharmProjects/ICB_Response_Model/venv/lib/python3.8/site-packages/PyInstaller/hooks'...\r\n",
      "17128 INFO: Loading module hook 'hook-wcwidth.py' from '/home/sergiov/PycharmProjects/ICB_Response_Model/venv/lib/python3.8/site-packages/PyInstaller/hooks'...\r\n",
      "17859 INFO: Loading module hook 'hook-jedi.py' from '/home/sergiov/PycharmProjects/ICB_Response_Model/venv/lib/python3.8/site-packages/_pyinstaller_hooks_contrib/hooks/stdhooks'...\r\n",
      "18085 INFO: Loading module hook 'hook-parso.py' from '/home/sergiov/PycharmProjects/ICB_Response_Model/venv/lib/python3.8/site-packages/_pyinstaller_hooks_contrib/hooks/stdhooks'...\r\n",
      "18894 INFO: Loading module hook 'hook-sqlite3.py' from '/home/sergiov/PycharmProjects/ICB_Response_Model/venv/lib/python3.8/site-packages/PyInstaller/hooks'...\r\n",
      "19112 INFO: Loading module hook 'hook-nbformat.py' from '/home/sergiov/PycharmProjects/ICB_Response_Model/venv/lib/python3.8/site-packages/_pyinstaller_hooks_contrib/hooks/stdhooks'...\r\n",
      "19427 INFO: Loading module hook 'hook-jsonschema.py' from '/home/sergiov/PycharmProjects/ICB_Response_Model/venv/lib/python3.8/site-packages/_pyinstaller_hooks_contrib/hooks/stdhooks'...\r\n",
      "20278 INFO: Loading module hook 'hook-jsonschema_specifications.py' from '/home/sergiov/PycharmProjects/ICB_Response_Model/venv/lib/python3.8/site-packages/_pyinstaller_hooks_contrib/hooks/stdhooks'...\r\n",
      "20292 INFO: Loading module hook 'hook-importlib_resources.py' from '/home/sergiov/PycharmProjects/ICB_Response_Model/venv/lib/python3.8/site-packages/PyInstaller/hooks'...\r\n",
      "20453 INFO: Loading module hook 'hook-charset_normalizer.py' from '/home/sergiov/PycharmProjects/ICB_Response_Model/venv/lib/python3.8/site-packages/_pyinstaller_hooks_contrib/hooks/stdhooks'...\r\n",
      "20544 INFO: Loading module hook 'hook-certifi.py' from '/home/sergiov/PycharmProjects/ICB_Response_Model/venv/lib/python3.8/site-packages/_pyinstaller_hooks_contrib/hooks/stdhooks'...\r\n",
      "21002 INFO: Loading module hook 'hook-zmq.py' from '/home/sergiov/PycharmProjects/ICB_Response_Model/venv/lib/python3.8/site-packages/_pyinstaller_hooks_contrib/hooks/stdhooks'...\r\n",
      "21637 INFO: Loading module hook 'hook-platformdirs.py' from '/home/sergiov/PycharmProjects/ICB_Response_Model/venv/lib/python3.8/site-packages/_pyinstaller_hooks_contrib/hooks/stdhooks'...\r\n",
      "22100 INFO: Processing pre-safe import module hook gi from '/home/sergiov/PycharmProjects/ICB_Response_Model/venv/lib/python3.8/site-packages/PyInstaller/hooks/pre_safe_import_module/hook-gi.py'.\r\n",
      "22548 INFO: Loading module hook 'hook-pandas.plotting.py' from '/home/sergiov/PycharmProjects/ICB_Response_Model/venv/lib/python3.8/site-packages/PyInstaller/hooks'...\r\n",
      "23977 INFO: Loading module hook 'hook-xml.etree.cElementTree.py' from '/home/sergiov/PycharmProjects/ICB_Response_Model/venv/lib/python3.8/site-packages/PyInstaller/hooks'...\r\n",
      "24400 INFO: Loading module hook 'hook-sklearn.py' from '/home/sergiov/PycharmProjects/ICB_Response_Model/venv/lib/python3.8/site-packages/_pyinstaller_hooks_contrib/hooks/stdhooks'...\r\n",
      "24506 INFO: Loading module hook 'hook-sklearn.utils.py' from '/home/sergiov/PycharmProjects/ICB_Response_Model/venv/lib/python3.8/site-packages/_pyinstaller_hooks_contrib/hooks/stdhooks'...\r\n",
      "24946 INFO: Loading module hook 'hook-sklearn.metrics.py' from '/home/sergiov/PycharmProjects/ICB_Response_Model/venv/lib/python3.8/site-packages/_pyinstaller_hooks_contrib/hooks/stdhooks'...\r\n",
      "26038 INFO: Loading module hook 'hook-sklearn.metrics.cluster.py' from '/home/sergiov/PycharmProjects/ICB_Response_Model/venv/lib/python3.8/site-packages/_pyinstaller_hooks_contrib/hooks/stdhooks'...\r\n",
      "26144 INFO: Loading module hook 'hook-sklearn.cluster.py' from '/home/sergiov/PycharmProjects/ICB_Response_Model/venv/lib/python3.8/site-packages/_pyinstaller_hooks_contrib/hooks/stdhooks'...\r\n",
      "26176 INFO: Loading module hook 'hook-sklearn.metrics.pairwise.py' from '/home/sergiov/PycharmProjects/ICB_Response_Model/venv/lib/python3.8/site-packages/_pyinstaller_hooks_contrib/hooks/stdhooks'...\r\n",
      "26393 INFO: Loading module hook 'hook-sklearn.neighbors.py' from '/home/sergiov/PycharmProjects/ICB_Response_Model/venv/lib/python3.8/site-packages/_pyinstaller_hooks_contrib/hooks/stdhooks'...\r\n",
      "26466 INFO: Loading module hook 'hook-sklearn.linear_model.py' from '/home/sergiov/PycharmProjects/ICB_Response_Model/venv/lib/python3.8/site-packages/_pyinstaller_hooks_contrib/hooks/stdhooks'...\r\n",
      "27320 INFO: Loading module hook 'hook-sklearn.tree.py' from '/home/sergiov/PycharmProjects/ICB_Response_Model/venv/lib/python3.8/site-packages/_pyinstaller_hooks_contrib/hooks/stdhooks'...\r\n",
      "28016 INFO: Processing module hooks...\r\n",
      "28016 WARNING: Hidden import \"sklearn.neighbors._typedefs\" not found!\r\n",
      "28045 WARNING: Hidden import \"importlib_resources.trees\" not found!\r\n",
      "28129 INFO: Processing pre-safe import module hook win32com from '/home/sergiov/PycharmProjects/ICB_Response_Model/venv/lib/python3.8/site-packages/_pyinstaller_hooks_contrib/hooks/pre_safe_import_module/hook-win32com.py'.\r\n",
      "28468 INFO: Loading module hook 'hook-jinja2.py' from '/home/sergiov/PycharmProjects/ICB_Response_Model/venv/lib/python3.8/site-packages/_pyinstaller_hooks_contrib/hooks/stdhooks'...\r\n",
      "29956 INFO: Loading module hook 'hook-scipy.special._ufuncs.py' from '/home/sergiov/PycharmProjects/ICB_Response_Model/venv/lib/python3.8/site-packages/PyInstaller/hooks'...\r\n",
      "29959 INFO: Loading module hook 'hook-scipy.stats._stats.py' from '/home/sergiov/PycharmProjects/ICB_Response_Model/venv/lib/python3.8/site-packages/PyInstaller/hooks'...\r\n",
      "29960 INFO: Loading module hook 'hook-scipy.special._ellip_harm_2.py' from '/home/sergiov/PycharmProjects/ICB_Response_Model/venv/lib/python3.8/site-packages/PyInstaller/hooks'...\r\n",
      "29975 INFO: Loading module hook 'hook-setuptools.msvc.py' from '/home/sergiov/PycharmProjects/ICB_Response_Model/venv/lib/python3.8/site-packages/PyInstaller/hooks'...\r\n",
      "30745 INFO: Looking for ctypes DLLs\r\n",
      "30964 WARNING: Library user32 required via ctypes not found\r\n",
      "31174 WARNING: Library msvcrt required via ctypes not found\r\n",
      "31215 INFO: Analyzing run-time hooks ...\r\n",
      "31237 INFO: Including run-time hook '/home/sergiov/PycharmProjects/ICB_Response_Model/venv/lib/python3.8/site-packages/PyInstaller/hooks/rthooks/pyi_rth_pkgutil.py'\r\n",
      "31239 INFO: Including run-time hook '/home/sergiov/PycharmProjects/ICB_Response_Model/venv/lib/python3.8/site-packages/PyInstaller/hooks/rthooks/pyi_rth_multiprocessing.py'\r\n",
      "31240 INFO: Including run-time hook '/home/sergiov/PycharmProjects/ICB_Response_Model/venv/lib/python3.8/site-packages/PyInstaller/hooks/rthooks/pyi_rth_pkgres.py'\r\n",
      "31244 INFO: Including run-time hook '/home/sergiov/PycharmProjects/ICB_Response_Model/venv/lib/python3.8/site-packages/_pyinstaller_hooks_contrib/hooks/rthooks/pyi_rth_traitlets.py'\r\n",
      "31244 INFO: Including run-time hook '/home/sergiov/PycharmProjects/ICB_Response_Model/venv/lib/python3.8/site-packages/PyInstaller/hooks/rthooks/pyi_rth_setuptools.py'\r\n",
      "31245 INFO: Including run-time hook '/home/sergiov/PycharmProjects/ICB_Response_Model/venv/lib/python3.8/site-packages/PyInstaller/hooks/rthooks/pyi_rth_inspect.py'\r\n",
      "31346 INFO: Looking for dynamic libraries\r\n",
      "6404 WARNING: Cannot find libquadmath-96973f99.so.0.0.0 (needed by /home/sergiov/PycharmProjects/ICB_Response_Model/venv/lib/python3.8/site-packages/numpy/linalg/../../numpy.libs/libgfortran-040039e1.so.5.0.0)\r\n",
      "6427 WARNING: Cannot find libgfortran-040039e1.so.5.0.0 (needed by /home/sergiov/PycharmProjects/ICB_Response_Model/venv/lib/python3.8/site-packages/numpy/linalg/../../numpy.libs/libopenblas64_p-r0-15028c96.3.21.so)\r\n",
      "6497 WARNING: Cannot find libsodium-6eb86948.so.23.3.0 (needed by /home/sergiov/PycharmProjects/ICB_Response_Model/venv/lib/python3.8/site-packages/zmq/backend/cython/../../../pyzmq.libs/libzmq-bf11ef0c.so.5.2.4)\r\n",
      "6521 WARNING: Cannot find libgfortran-040039e1.so.5.0.0 (needed by /home/sergiov/PycharmProjects/ICB_Response_Model/venv/lib/python3.8/site-packages/scipy/special/../../scipy.libs/libopenblasp-r0-41284840.3.18.so)\r\n",
      "38053 INFO: Looking for eggs\r\n",
      "38093 INFO: Python library not among binary dependencies. Performing additional search...\r\n",
      "38134 INFO: Using Python library /lib/x86_64-linux-gnu/libpython3.8.so.1.0\r\n",
      "38160 INFO: Warnings written to /home/sergiov/PycharmProjects/ICB_Response_Model/build/main/warn-main.txt\r\n",
      "38291 INFO: Graph cross-reference written to /home/sergiov/PycharmProjects/ICB_Response_Model/build/main/xref-main.html\r\n",
      "38385 INFO: checking PYZ\r\n",
      "38385 INFO: Building PYZ because PYZ-00.toc is non existent\r\n",
      "38385 INFO: Building PYZ (ZlibArchive) /home/sergiov/PycharmProjects/ICB_Response_Model/build/main/PYZ-00.pyz\r\n",
      "40003 INFO: Building PYZ (ZlibArchive) /home/sergiov/PycharmProjects/ICB_Response_Model/build/main/PYZ-00.pyz completed successfully.\r\n",
      "40131 INFO: checking PKG\r\n",
      "40132 INFO: Building PKG because PKG-00.toc is non existent\r\n",
      "40132 INFO: Building PKG (CArchive) main.pkg\r\n",
      "59532 INFO: Building PKG (CArchive) main.pkg completed successfully.\r\n",
      "59577 INFO: Bootloader /home/sergiov/PycharmProjects/ICB_Response_Model/venv/lib/python3.8/site-packages/PyInstaller/bootloader/Linux-64bit-intel/run\r\n",
      "59578 INFO: checking EXE\r\n",
      "59578 INFO: Building EXE because EXE-00.toc is non existent\r\n",
      "59578 INFO: Building EXE from EXE-00.toc\r\n",
      "59578 INFO: Copying bootloader EXE to /home/sergiov/PycharmProjects/ICB_Response_Model/dist/main\r\n",
      "59578 INFO: Appending PKG archive to custom ELF section in EXE\r\n",
      "59687 INFO: Building EXE from EXE-00.toc completed successfully.\r\n"
     ]
    }
   ],
   "source": [
    "!pyinstaller --onefile main.py"
   ],
   "metadata": {
    "collapsed": false
   }
  },
  {
   "cell_type": "code",
   "execution_count": 2,
   "outputs": [],
   "source": [
    "import pandas as pd\n",
    "hdm = pd.read_csv('/users/genomics/marta/BLCA/HdM-BLCA-1/analysis/01_counts/TPMs_genenames.csv', index_col=0)"
   ],
   "metadata": {
    "collapsed": false
   }
  },
  {
   "cell_type": "code",
   "execution_count": 4,
   "outputs": [
    {
     "data": {
      "text/plain": "   Tumor_Sample_Barcode RECIST Response     Sex  ECOG ECOG_under0  Age Smoker  \\\n1               BACI107     CR        R    male   1.0           N   81      Y   \n2               BACI109     SD      NaN  female   3.0           N   78      N   \n3               BACI110     PD       NR    male   NaN         NaN   41      Y   \n4               BACI111     PR        R    male   NaN         NaN   70      Y   \n5               BACI112     CR        R  female   2.0           N   71      N   \n..                  ...    ...      ...     ...   ...         ...  ...    ...   \n85              BACI210     PD       NR    male   1.0           N   66      Y   \n86              BACI211     PD       NR  female   2.0           N   77      Y   \n87              BACI212     PD       NR    male   2.0           N   85      Y   \n88              BACI217    NaN      NaN  female   NaN         NaN   87      Y   \n89              BACI219     PD       NR    male   NaN         NaN   53      Y   \n\n   Alive   OS Liver.Metastasis       ICI.Drug WES panelDNA RNA.Seq  Dataset  \\\n1      Y  699                N   atezolizumab   N        Y       Y  UNC-108   \n2      Y  304                N  pembrolizumab   N        Y       Y  UNC-108   \n3      N  288                N   atezolizumab   N        Y       Y  UNC-108   \n4      N  727                N   atezolizumab   N        Y       Y  UNC-108   \n5      Y  453                N   atezolizumab   N        Y       Y  UNC-108   \n..   ...  ...              ...            ...  ..      ...     ...      ...   \n85     Y   76                N  pembrolizumab   N        Y       Y  UNC-108   \n86     N   83                Y   atezolizumab   N        Y       Y  UNC-108   \n87     N  101                N  pembrolizumab   N        Y       Y  UNC-108   \n88     Y   86                N  pembrolizumab   N        Y       Y  UNC-108   \n89     Y  203                N  pembrolizumab   N        Y       Y  UNC-108   \n\n    totalTMB  \n1       26.9  \n2       10.4  \n3        4.4  \n4       13.2  \n5        5.3  \n..       ...  \n85       5.3  \n86      14.8  \n87       4.4  \n88       5.3  \n89      17.5  \n\n[89 rows x 17 columns]",
      "text/html": "<div>\n<style scoped>\n    .dataframe tbody tr th:only-of-type {\n        vertical-align: middle;\n    }\n\n    .dataframe tbody tr th {\n        vertical-align: top;\n    }\n\n    .dataframe thead th {\n        text-align: right;\n    }\n</style>\n<table border=\"1\" class=\"dataframe\">\n  <thead>\n    <tr style=\"text-align: right;\">\n      <th></th>\n      <th>Tumor_Sample_Barcode</th>\n      <th>RECIST</th>\n      <th>Response</th>\n      <th>Sex</th>\n      <th>ECOG</th>\n      <th>ECOG_under0</th>\n      <th>Age</th>\n      <th>Smoker</th>\n      <th>Alive</th>\n      <th>OS</th>\n      <th>Liver.Metastasis</th>\n      <th>ICI.Drug</th>\n      <th>WES</th>\n      <th>panelDNA</th>\n      <th>RNA.Seq</th>\n      <th>Dataset</th>\n      <th>totalTMB</th>\n    </tr>\n  </thead>\n  <tbody>\n    <tr>\n      <th>1</th>\n      <td>BACI107</td>\n      <td>CR</td>\n      <td>R</td>\n      <td>male</td>\n      <td>1.0</td>\n      <td>N</td>\n      <td>81</td>\n      <td>Y</td>\n      <td>Y</td>\n      <td>699</td>\n      <td>N</td>\n      <td>atezolizumab</td>\n      <td>N</td>\n      <td>Y</td>\n      <td>Y</td>\n      <td>UNC-108</td>\n      <td>26.9</td>\n    </tr>\n    <tr>\n      <th>2</th>\n      <td>BACI109</td>\n      <td>SD</td>\n      <td>NaN</td>\n      <td>female</td>\n      <td>3.0</td>\n      <td>N</td>\n      <td>78</td>\n      <td>N</td>\n      <td>Y</td>\n      <td>304</td>\n      <td>N</td>\n      <td>pembrolizumab</td>\n      <td>N</td>\n      <td>Y</td>\n      <td>Y</td>\n      <td>UNC-108</td>\n      <td>10.4</td>\n    </tr>\n    <tr>\n      <th>3</th>\n      <td>BACI110</td>\n      <td>PD</td>\n      <td>NR</td>\n      <td>male</td>\n      <td>NaN</td>\n      <td>NaN</td>\n      <td>41</td>\n      <td>Y</td>\n      <td>N</td>\n      <td>288</td>\n      <td>N</td>\n      <td>atezolizumab</td>\n      <td>N</td>\n      <td>Y</td>\n      <td>Y</td>\n      <td>UNC-108</td>\n      <td>4.4</td>\n    </tr>\n    <tr>\n      <th>4</th>\n      <td>BACI111</td>\n      <td>PR</td>\n      <td>R</td>\n      <td>male</td>\n      <td>NaN</td>\n      <td>NaN</td>\n      <td>70</td>\n      <td>Y</td>\n      <td>N</td>\n      <td>727</td>\n      <td>N</td>\n      <td>atezolizumab</td>\n      <td>N</td>\n      <td>Y</td>\n      <td>Y</td>\n      <td>UNC-108</td>\n      <td>13.2</td>\n    </tr>\n    <tr>\n      <th>5</th>\n      <td>BACI112</td>\n      <td>CR</td>\n      <td>R</td>\n      <td>female</td>\n      <td>2.0</td>\n      <td>N</td>\n      <td>71</td>\n      <td>N</td>\n      <td>Y</td>\n      <td>453</td>\n      <td>N</td>\n      <td>atezolizumab</td>\n      <td>N</td>\n      <td>Y</td>\n      <td>Y</td>\n      <td>UNC-108</td>\n      <td>5.3</td>\n    </tr>\n    <tr>\n      <th>...</th>\n      <td>...</td>\n      <td>...</td>\n      <td>...</td>\n      <td>...</td>\n      <td>...</td>\n      <td>...</td>\n      <td>...</td>\n      <td>...</td>\n      <td>...</td>\n      <td>...</td>\n      <td>...</td>\n      <td>...</td>\n      <td>...</td>\n      <td>...</td>\n      <td>...</td>\n      <td>...</td>\n      <td>...</td>\n    </tr>\n    <tr>\n      <th>85</th>\n      <td>BACI210</td>\n      <td>PD</td>\n      <td>NR</td>\n      <td>male</td>\n      <td>1.0</td>\n      <td>N</td>\n      <td>66</td>\n      <td>Y</td>\n      <td>Y</td>\n      <td>76</td>\n      <td>N</td>\n      <td>pembrolizumab</td>\n      <td>N</td>\n      <td>Y</td>\n      <td>Y</td>\n      <td>UNC-108</td>\n      <td>5.3</td>\n    </tr>\n    <tr>\n      <th>86</th>\n      <td>BACI211</td>\n      <td>PD</td>\n      <td>NR</td>\n      <td>female</td>\n      <td>2.0</td>\n      <td>N</td>\n      <td>77</td>\n      <td>Y</td>\n      <td>N</td>\n      <td>83</td>\n      <td>Y</td>\n      <td>atezolizumab</td>\n      <td>N</td>\n      <td>Y</td>\n      <td>Y</td>\n      <td>UNC-108</td>\n      <td>14.8</td>\n    </tr>\n    <tr>\n      <th>87</th>\n      <td>BACI212</td>\n      <td>PD</td>\n      <td>NR</td>\n      <td>male</td>\n      <td>2.0</td>\n      <td>N</td>\n      <td>85</td>\n      <td>Y</td>\n      <td>N</td>\n      <td>101</td>\n      <td>N</td>\n      <td>pembrolizumab</td>\n      <td>N</td>\n      <td>Y</td>\n      <td>Y</td>\n      <td>UNC-108</td>\n      <td>4.4</td>\n    </tr>\n    <tr>\n      <th>88</th>\n      <td>BACI217</td>\n      <td>NaN</td>\n      <td>NaN</td>\n      <td>female</td>\n      <td>NaN</td>\n      <td>NaN</td>\n      <td>87</td>\n      <td>Y</td>\n      <td>Y</td>\n      <td>86</td>\n      <td>N</td>\n      <td>pembrolizumab</td>\n      <td>N</td>\n      <td>Y</td>\n      <td>Y</td>\n      <td>UNC-108</td>\n      <td>5.3</td>\n    </tr>\n    <tr>\n      <th>89</th>\n      <td>BACI219</td>\n      <td>PD</td>\n      <td>NR</td>\n      <td>male</td>\n      <td>NaN</td>\n      <td>NaN</td>\n      <td>53</td>\n      <td>Y</td>\n      <td>Y</td>\n      <td>203</td>\n      <td>N</td>\n      <td>pembrolizumab</td>\n      <td>N</td>\n      <td>Y</td>\n      <td>Y</td>\n      <td>UNC-108</td>\n      <td>17.5</td>\n    </tr>\n  </tbody>\n</table>\n<p>89 rows × 17 columns</p>\n</div>"
     },
     "execution_count": 4,
     "metadata": {},
     "output_type": "execute_result"
    }
   ],
   "source": [
    "hdm.to_csv('/datasets/sergio/HdM-BLCA-1/TPMs_genenames.txt', sep = '\\t')"
   ],
   "metadata": {
    "collapsed": false
   }
  },
  {
   "cell_type": "code",
   "execution_count": 24,
   "outputs": [],
   "source": [
    "import pandas as pd"
   ],
   "metadata": {
    "collapsed": false
   }
  },
  {
   "cell_type": "code",
   "execution_count": 28,
   "outputs": [],
   "source": [
    "data = pd.read_csv('/projects_eg/projects/lilian/Combined_data/6datasets_RNA+DNA/df_WES+RNA_response.csv', index_col=0)"
   ],
   "metadata": {
    "collapsed": false
   }
  }
 ],
 "metadata": {
  "kernelspec": {
   "display_name": "Python 3",
   "language": "python",
   "name": "python3"
  },
  "language_info": {
   "codemirror_mode": {
    "name": "ipython",
    "version": 2
   },
   "file_extension": ".py",
   "mimetype": "text/x-python",
   "name": "python",
   "nbconvert_exporter": "python",
   "pygments_lexer": "ipython2",
   "version": "2.7.6"
  }
 },
 "nbformat": 4,
 "nbformat_minor": 0
}
