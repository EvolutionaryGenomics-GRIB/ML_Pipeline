{
 "cells": [
  {
   "cell_type": "code",
   "execution_count": 5,
   "metadata": {
    "collapsed": true
   },
   "outputs": [
    {
     "name": "stdout",
     "output_type": "stream",
     "text": [
      "Requirement already satisfied: joblib in ./venv/lib/python3.8/site-packages (1.3.2)\r\n",
      "\r\n",
      "\u001B[1m[\u001B[0m\u001B[34;49mnotice\u001B[0m\u001B[1;39;49m]\u001B[0m\u001B[39;49m A new release of pip available: \u001B[0m\u001B[31;49m22.3.1\u001B[0m\u001B[39;49m -> \u001B[0m\u001B[32;49m23.2.1\u001B[0m\r\n",
      "\u001B[1m[\u001B[0m\u001B[34;49mnotice\u001B[0m\u001B[1;39;49m]\u001B[0m\u001B[39;49m To update, run: \u001B[0m\u001B[32;49mpip install --upgrade pip\u001B[0m\r\n"
     ]
    }
   ],
   "source": [
    "!pip install joblib"
   ]
  },
  {
   "cell_type": "code",
   "execution_count": 2,
   "outputs": [
    {
     "name": "stdout",
     "output_type": "stream",
     "text": [
      "106 INFO: PyInstaller: 5.13.2\r\n",
      "106 INFO: Python: 3.8.10\r\n",
      "120 INFO: Platform: Linux-5.15.0-84-generic-x86_64-with-glibc2.29\r\n",
      "120 INFO: wrote /home/sergiov/PycharmProjects/ICB_Response_Model/main.spec\r\n",
      "124 INFO: Extending PYTHONPATH with paths\r\n",
      "['/home/sergiov/PycharmProjects/ICB_Response_Model']\r\n",
      "444 INFO: checking Analysis\r\n",
      "445 INFO: Building Analysis because Analysis-00.toc is non existent\r\n",
      "445 INFO: Initializing module dependency graph...\r\n",
      "446 INFO: Caching module graph hooks...\r\n",
      "460 INFO: Analyzing base_library.zip ...\r\n",
      "1057 INFO: Loading module hook 'hook-encodings.py' from '/home/sergiov/PycharmProjects/ICB_Response_Model/venv/lib/python3.8/site-packages/PyInstaller/hooks'...\r\n",
      "1899 INFO: Loading module hook 'hook-pickle.py' from '/home/sergiov/PycharmProjects/ICB_Response_Model/venv/lib/python3.8/site-packages/PyInstaller/hooks'...\r\n",
      "2288 INFO: Loading module hook 'hook-heapq.py' from '/home/sergiov/PycharmProjects/ICB_Response_Model/venv/lib/python3.8/site-packages/PyInstaller/hooks'...\r\n",
      "2608 INFO: Caching module dependency graph...\r\n",
      "2671 INFO: running Analysis Analysis-00.toc\r\n",
      "2728 INFO: Analyzing /home/sergiov/PycharmProjects/ICB_Response_Model/main.py\r\n",
      "2758 INFO: Loading module hook 'hook-pandas.py' from '/home/sergiov/PycharmProjects/ICB_Response_Model/venv/lib/python3.8/site-packages/PyInstaller/hooks'...\r\n",
      "3575 INFO: Loading module hook 'hook-platform.py' from '/home/sergiov/PycharmProjects/ICB_Response_Model/venv/lib/python3.8/site-packages/PyInstaller/hooks'...\r\n",
      "3600 INFO: Loading module hook 'hook-numpy.py' from '/home/sergiov/PycharmProjects/ICB_Response_Model/venv/lib/python3.8/site-packages/numpy/_pyinstaller'...\r\n",
      "4137 INFO: Loading module hook 'hook-multiprocessing.util.py' from '/home/sergiov/PycharmProjects/ICB_Response_Model/venv/lib/python3.8/site-packages/PyInstaller/hooks'...\r\n",
      "4262 INFO: Loading module hook 'hook-xml.py' from '/home/sergiov/PycharmProjects/ICB_Response_Model/venv/lib/python3.8/site-packages/PyInstaller/hooks'...\r\n",
      "4620 INFO: Loading module hook 'hook-difflib.py' from '/home/sergiov/PycharmProjects/ICB_Response_Model/venv/lib/python3.8/site-packages/PyInstaller/hooks'...\r\n",
      "4816 INFO: Loading module hook 'hook-sysconfig.py' from '/home/sergiov/PycharmProjects/ICB_Response_Model/venv/lib/python3.8/site-packages/PyInstaller/hooks'...\r\n",
      "4970 INFO: Loading module hook 'hook-psutil.py' from '/home/sergiov/PycharmProjects/ICB_Response_Model/venv/lib/python3.8/site-packages/_pyinstaller_hooks_contrib/hooks/stdhooks'...\r\n",
      "5664 INFO: Loading module hook 'hook-pytz.py' from '/home/sergiov/PycharmProjects/ICB_Response_Model/venv/lib/python3.8/site-packages/PyInstaller/hooks'...\r\n",
      "5776 INFO: Loading module hook 'hook-pkg_resources.py' from '/home/sergiov/PycharmProjects/ICB_Response_Model/venv/lib/python3.8/site-packages/PyInstaller/hooks'...\r\n",
      "6950 INFO: Loading module hook 'hook-scipy.py' from '/home/sergiov/PycharmProjects/ICB_Response_Model/venv/lib/python3.8/site-packages/PyInstaller/hooks'...\r\n",
      "7217 INFO: Loading module hook 'hook-pycparser.py' from '/home/sergiov/PycharmProjects/ICB_Response_Model/venv/lib/python3.8/site-packages/_pyinstaller_hooks_contrib/hooks/stdhooks'...\r\n",
      "7717 INFO: Processing pre-safe import module hook distutils from '/home/sergiov/PycharmProjects/ICB_Response_Model/venv/lib/python3.8/site-packages/PyInstaller/hooks/pre_safe_import_module/hook-distutils.py'.\r\n",
      "7717 INFO: Processing pre-find module path hook distutils from '/home/sergiov/PycharmProjects/ICB_Response_Model/venv/lib/python3.8/site-packages/PyInstaller/hooks/pre_find_module_path/hook-distutils.py'.\r\n",
      "7990 INFO: Loading module hook 'hook-distutils.py' from '/home/sergiov/PycharmProjects/ICB_Response_Model/venv/lib/python3.8/site-packages/PyInstaller/hooks'...\r\n",
      "8043 INFO: Loading module hook 'hook-distutils.util.py' from '/home/sergiov/PycharmProjects/ICB_Response_Model/venv/lib/python3.8/site-packages/PyInstaller/hooks'...\r\n",
      "8127 INFO: Loading module hook 'hook-setuptools.py' from '/home/sergiov/PycharmProjects/ICB_Response_Model/venv/lib/python3.8/site-packages/PyInstaller/hooks'...\r\n",
      "9209 INFO: Loading module hook 'hook-importlib_metadata.py' from '/home/sergiov/PycharmProjects/ICB_Response_Model/venv/lib/python3.8/site-packages/PyInstaller/hooks'...\r\n",
      "9413 INFO: Loading module hook 'hook-packaging.py' from '/home/sergiov/PycharmProjects/ICB_Response_Model/venv/lib/python3.8/site-packages/PyInstaller/hooks'...\r\n",
      "10090 INFO: Loading module hook 'hook-scipy.linalg.py' from '/home/sergiov/PycharmProjects/ICB_Response_Model/venv/lib/python3.8/site-packages/PyInstaller/hooks'...\r\n",
      "10264 INFO: Loading module hook 'hook-scipy.sparse.csgraph.py' from '/home/sergiov/PycharmProjects/ICB_Response_Model/venv/lib/python3.8/site-packages/PyInstaller/hooks'...\r\n",
      "11617 INFO: Loading module hook 'hook-scipy.spatial.transform.rotation.py' from '/home/sergiov/PycharmProjects/ICB_Response_Model/venv/lib/python3.8/site-packages/PyInstaller/hooks'...\r\n",
      "13158 INFO: Loading module hook 'hook-pandas.io.formats.style.py' from '/home/sergiov/PycharmProjects/ICB_Response_Model/venv/lib/python3.8/site-packages/PyInstaller/hooks'...\r\n",
      "14294 INFO: Loading module hook 'hook-IPython.py' from '/home/sergiov/PycharmProjects/ICB_Response_Model/venv/lib/python3.8/site-packages/_pyinstaller_hooks_contrib/hooks/stdhooks'...\r\n",
      "15413 INFO: Loading module hook 'hook-xml.dom.domreg.py' from '/home/sergiov/PycharmProjects/ICB_Response_Model/venv/lib/python3.8/site-packages/PyInstaller/hooks'...\r\n",
      "15543 INFO: Loading module hook 'hook-pygments.py' from '/home/sergiov/PycharmProjects/ICB_Response_Model/venv/lib/python3.8/site-packages/PyInstaller/hooks'...\r\n",
      "16744 INFO: Processing pre-safe import module hook six.moves from '/home/sergiov/PycharmProjects/ICB_Response_Model/venv/lib/python3.8/site-packages/PyInstaller/hooks/pre_safe_import_module/hook-six.moves.py'.\r\n",
      "16816 INFO: Loading module hook 'hook-lib2to3.py' from '/home/sergiov/PycharmProjects/ICB_Response_Model/venv/lib/python3.8/site-packages/PyInstaller/hooks'...\r\n",
      "17128 INFO: Loading module hook 'hook-wcwidth.py' from '/home/sergiov/PycharmProjects/ICB_Response_Model/venv/lib/python3.8/site-packages/PyInstaller/hooks'...\r\n",
      "17859 INFO: Loading module hook 'hook-jedi.py' from '/home/sergiov/PycharmProjects/ICB_Response_Model/venv/lib/python3.8/site-packages/_pyinstaller_hooks_contrib/hooks/stdhooks'...\r\n",
      "18085 INFO: Loading module hook 'hook-parso.py' from '/home/sergiov/PycharmProjects/ICB_Response_Model/venv/lib/python3.8/site-packages/_pyinstaller_hooks_contrib/hooks/stdhooks'...\r\n",
      "18894 INFO: Loading module hook 'hook-sqlite3.py' from '/home/sergiov/PycharmProjects/ICB_Response_Model/venv/lib/python3.8/site-packages/PyInstaller/hooks'...\r\n",
      "19112 INFO: Loading module hook 'hook-nbformat.py' from '/home/sergiov/PycharmProjects/ICB_Response_Model/venv/lib/python3.8/site-packages/_pyinstaller_hooks_contrib/hooks/stdhooks'...\r\n",
      "19427 INFO: Loading module hook 'hook-jsonschema.py' from '/home/sergiov/PycharmProjects/ICB_Response_Model/venv/lib/python3.8/site-packages/_pyinstaller_hooks_contrib/hooks/stdhooks'...\r\n",
      "20278 INFO: Loading module hook 'hook-jsonschema_specifications.py' from '/home/sergiov/PycharmProjects/ICB_Response_Model/venv/lib/python3.8/site-packages/_pyinstaller_hooks_contrib/hooks/stdhooks'...\r\n",
      "20292 INFO: Loading module hook 'hook-importlib_resources.py' from '/home/sergiov/PycharmProjects/ICB_Response_Model/venv/lib/python3.8/site-packages/PyInstaller/hooks'...\r\n",
      "20453 INFO: Loading module hook 'hook-charset_normalizer.py' from '/home/sergiov/PycharmProjects/ICB_Response_Model/venv/lib/python3.8/site-packages/_pyinstaller_hooks_contrib/hooks/stdhooks'...\r\n",
      "20544 INFO: Loading module hook 'hook-certifi.py' from '/home/sergiov/PycharmProjects/ICB_Response_Model/venv/lib/python3.8/site-packages/_pyinstaller_hooks_contrib/hooks/stdhooks'...\r\n",
      "21002 INFO: Loading module hook 'hook-zmq.py' from '/home/sergiov/PycharmProjects/ICB_Response_Model/venv/lib/python3.8/site-packages/_pyinstaller_hooks_contrib/hooks/stdhooks'...\r\n",
      "21637 INFO: Loading module hook 'hook-platformdirs.py' from '/home/sergiov/PycharmProjects/ICB_Response_Model/venv/lib/python3.8/site-packages/_pyinstaller_hooks_contrib/hooks/stdhooks'...\r\n",
      "22100 INFO: Processing pre-safe import module hook gi from '/home/sergiov/PycharmProjects/ICB_Response_Model/venv/lib/python3.8/site-packages/PyInstaller/hooks/pre_safe_import_module/hook-gi.py'.\r\n",
      "22548 INFO: Loading module hook 'hook-pandas.plotting.py' from '/home/sergiov/PycharmProjects/ICB_Response_Model/venv/lib/python3.8/site-packages/PyInstaller/hooks'...\r\n",
      "23977 INFO: Loading module hook 'hook-xml.etree.cElementTree.py' from '/home/sergiov/PycharmProjects/ICB_Response_Model/venv/lib/python3.8/site-packages/PyInstaller/hooks'...\r\n",
      "24400 INFO: Loading module hook 'hook-sklearn.py' from '/home/sergiov/PycharmProjects/ICB_Response_Model/venv/lib/python3.8/site-packages/_pyinstaller_hooks_contrib/hooks/stdhooks'...\r\n",
      "24506 INFO: Loading module hook 'hook-sklearn.utils.py' from '/home/sergiov/PycharmProjects/ICB_Response_Model/venv/lib/python3.8/site-packages/_pyinstaller_hooks_contrib/hooks/stdhooks'...\r\n",
      "24946 INFO: Loading module hook 'hook-sklearn.metrics.py' from '/home/sergiov/PycharmProjects/ICB_Response_Model/venv/lib/python3.8/site-packages/_pyinstaller_hooks_contrib/hooks/stdhooks'...\r\n",
      "26038 INFO: Loading module hook 'hook-sklearn.metrics.cluster.py' from '/home/sergiov/PycharmProjects/ICB_Response_Model/venv/lib/python3.8/site-packages/_pyinstaller_hooks_contrib/hooks/stdhooks'...\r\n",
      "26144 INFO: Loading module hook 'hook-sklearn.cluster.py' from '/home/sergiov/PycharmProjects/ICB_Response_Model/venv/lib/python3.8/site-packages/_pyinstaller_hooks_contrib/hooks/stdhooks'...\r\n",
      "26176 INFO: Loading module hook 'hook-sklearn.metrics.pairwise.py' from '/home/sergiov/PycharmProjects/ICB_Response_Model/venv/lib/python3.8/site-packages/_pyinstaller_hooks_contrib/hooks/stdhooks'...\r\n",
      "26393 INFO: Loading module hook 'hook-sklearn.neighbors.py' from '/home/sergiov/PycharmProjects/ICB_Response_Model/venv/lib/python3.8/site-packages/_pyinstaller_hooks_contrib/hooks/stdhooks'...\r\n",
      "26466 INFO: Loading module hook 'hook-sklearn.linear_model.py' from '/home/sergiov/PycharmProjects/ICB_Response_Model/venv/lib/python3.8/site-packages/_pyinstaller_hooks_contrib/hooks/stdhooks'...\r\n",
      "27320 INFO: Loading module hook 'hook-sklearn.tree.py' from '/home/sergiov/PycharmProjects/ICB_Response_Model/venv/lib/python3.8/site-packages/_pyinstaller_hooks_contrib/hooks/stdhooks'...\r\n",
      "28016 INFO: Processing module hooks...\r\n",
      "28016 WARNING: Hidden import \"sklearn.neighbors._typedefs\" not found!\r\n",
      "28045 WARNING: Hidden import \"importlib_resources.trees\" not found!\r\n",
      "28129 INFO: Processing pre-safe import module hook win32com from '/home/sergiov/PycharmProjects/ICB_Response_Model/venv/lib/python3.8/site-packages/_pyinstaller_hooks_contrib/hooks/pre_safe_import_module/hook-win32com.py'.\r\n",
      "28468 INFO: Loading module hook 'hook-jinja2.py' from '/home/sergiov/PycharmProjects/ICB_Response_Model/venv/lib/python3.8/site-packages/_pyinstaller_hooks_contrib/hooks/stdhooks'...\r\n",
      "29956 INFO: Loading module hook 'hook-scipy.special._ufuncs.py' from '/home/sergiov/PycharmProjects/ICB_Response_Model/venv/lib/python3.8/site-packages/PyInstaller/hooks'...\r\n",
      "29959 INFO: Loading module hook 'hook-scipy.stats._stats.py' from '/home/sergiov/PycharmProjects/ICB_Response_Model/venv/lib/python3.8/site-packages/PyInstaller/hooks'...\r\n",
      "29960 INFO: Loading module hook 'hook-scipy.special._ellip_harm_2.py' from '/home/sergiov/PycharmProjects/ICB_Response_Model/venv/lib/python3.8/site-packages/PyInstaller/hooks'...\r\n",
      "29975 INFO: Loading module hook 'hook-setuptools.msvc.py' from '/home/sergiov/PycharmProjects/ICB_Response_Model/venv/lib/python3.8/site-packages/PyInstaller/hooks'...\r\n",
      "30745 INFO: Looking for ctypes DLLs\r\n",
      "30964 WARNING: Library user32 required via ctypes not found\r\n",
      "31174 WARNING: Library msvcrt required via ctypes not found\r\n",
      "31215 INFO: Analyzing run-time hooks ...\r\n",
      "31237 INFO: Including run-time hook '/home/sergiov/PycharmProjects/ICB_Response_Model/venv/lib/python3.8/site-packages/PyInstaller/hooks/rthooks/pyi_rth_pkgutil.py'\r\n",
      "31239 INFO: Including run-time hook '/home/sergiov/PycharmProjects/ICB_Response_Model/venv/lib/python3.8/site-packages/PyInstaller/hooks/rthooks/pyi_rth_multiprocessing.py'\r\n",
      "31240 INFO: Including run-time hook '/home/sergiov/PycharmProjects/ICB_Response_Model/venv/lib/python3.8/site-packages/PyInstaller/hooks/rthooks/pyi_rth_pkgres.py'\r\n",
      "31244 INFO: Including run-time hook '/home/sergiov/PycharmProjects/ICB_Response_Model/venv/lib/python3.8/site-packages/_pyinstaller_hooks_contrib/hooks/rthooks/pyi_rth_traitlets.py'\r\n",
      "31244 INFO: Including run-time hook '/home/sergiov/PycharmProjects/ICB_Response_Model/venv/lib/python3.8/site-packages/PyInstaller/hooks/rthooks/pyi_rth_setuptools.py'\r\n",
      "31245 INFO: Including run-time hook '/home/sergiov/PycharmProjects/ICB_Response_Model/venv/lib/python3.8/site-packages/PyInstaller/hooks/rthooks/pyi_rth_inspect.py'\r\n",
      "31346 INFO: Looking for dynamic libraries\r\n",
      "6404 WARNING: Cannot find libquadmath-96973f99.so.0.0.0 (needed by /home/sergiov/PycharmProjects/ICB_Response_Model/venv/lib/python3.8/site-packages/numpy/linalg/../../numpy.libs/libgfortran-040039e1.so.5.0.0)\r\n",
      "6427 WARNING: Cannot find libgfortran-040039e1.so.5.0.0 (needed by /home/sergiov/PycharmProjects/ICB_Response_Model/venv/lib/python3.8/site-packages/numpy/linalg/../../numpy.libs/libopenblas64_p-r0-15028c96.3.21.so)\r\n",
      "6497 WARNING: Cannot find libsodium-6eb86948.so.23.3.0 (needed by /home/sergiov/PycharmProjects/ICB_Response_Model/venv/lib/python3.8/site-packages/zmq/backend/cython/../../../pyzmq.libs/libzmq-bf11ef0c.so.5.2.4)\r\n",
      "6521 WARNING: Cannot find libgfortran-040039e1.so.5.0.0 (needed by /home/sergiov/PycharmProjects/ICB_Response_Model/venv/lib/python3.8/site-packages/scipy/special/../../scipy.libs/libopenblasp-r0-41284840.3.18.so)\r\n",
      "38053 INFO: Looking for eggs\r\n",
      "38093 INFO: Python library not among binary dependencies. Performing additional search...\r\n",
      "38134 INFO: Using Python library /lib/x86_64-linux-gnu/libpython3.8.so.1.0\r\n",
      "38160 INFO: Warnings written to /home/sergiov/PycharmProjects/ICB_Response_Model/build/main/warn-main.txt\r\n",
      "38291 INFO: Graph cross-reference written to /home/sergiov/PycharmProjects/ICB_Response_Model/build/main/xref-main.html\r\n",
      "38385 INFO: checking PYZ\r\n",
      "38385 INFO: Building PYZ because PYZ-00.toc is non existent\r\n",
      "38385 INFO: Building PYZ (ZlibArchive) /home/sergiov/PycharmProjects/ICB_Response_Model/build/main/PYZ-00.pyz\r\n",
      "40003 INFO: Building PYZ (ZlibArchive) /home/sergiov/PycharmProjects/ICB_Response_Model/build/main/PYZ-00.pyz completed successfully.\r\n",
      "40131 INFO: checking PKG\r\n",
      "40132 INFO: Building PKG because PKG-00.toc is non existent\r\n",
      "40132 INFO: Building PKG (CArchive) main.pkg\r\n",
      "59532 INFO: Building PKG (CArchive) main.pkg completed successfully.\r\n",
      "59577 INFO: Bootloader /home/sergiov/PycharmProjects/ICB_Response_Model/venv/lib/python3.8/site-packages/PyInstaller/bootloader/Linux-64bit-intel/run\r\n",
      "59578 INFO: checking EXE\r\n",
      "59578 INFO: Building EXE because EXE-00.toc is non existent\r\n",
      "59578 INFO: Building EXE from EXE-00.toc\r\n",
      "59578 INFO: Copying bootloader EXE to /home/sergiov/PycharmProjects/ICB_Response_Model/dist/main\r\n",
      "59578 INFO: Appending PKG archive to custom ELF section in EXE\r\n",
      "59687 INFO: Building EXE from EXE-00.toc completed successfully.\r\n"
     ]
    }
   ],
   "source": [
    "!pyinstaller --onefile main.py"
   ],
   "metadata": {
    "collapsed": false
   }
  },
  {
   "cell_type": "code",
   "execution_count": 11,
   "outputs": [],
   "source": [
    "import pandas as pd\n",
    "hdm = pd.read_csv('/users/genomics/marta/BLCA/HdM-BLCA-1/analysis/01_counts/TPMs_genenames.csv', index_col=0)"
   ],
   "metadata": {
    "collapsed": false
   }
  },
  {
   "cell_type": "code",
   "execution_count": 14,
   "outputs": [],
   "source": [
    "hdm.to_csv('/datasets/sergio/HdM-BLCA-1/TPMs_genenames.txt', sep = '\\t')"
   ],
   "metadata": {
    "collapsed": false
   }
  }
 ],
 "metadata": {
  "kernelspec": {
   "display_name": "Python 3",
   "language": "python",
   "name": "python3"
  },
  "language_info": {
   "codemirror_mode": {
    "name": "ipython",
    "version": 2
   },
   "file_extension": ".py",
   "mimetype": "text/x-python",
   "name": "python",
   "nbconvert_exporter": "python",
   "pygments_lexer": "ipython2",
   "version": "2.7.6"
  }
 },
 "nbformat": 4,
 "nbformat_minor": 0
}
