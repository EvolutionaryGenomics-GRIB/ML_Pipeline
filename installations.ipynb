{
 "cells": [
  {
   "cell_type": "code",
   "execution_count": 5,
   "metadata": {
    "collapsed": true
   },
   "outputs": [
    {
     "name": "stdout",
     "output_type": "stream",
     "text": [
      "Requirement already satisfied: joblib in ./venv/lib/python3.8/site-packages (1.3.2)\r\n",
      "\r\n",
      "\u001B[1m[\u001B[0m\u001B[34;49mnotice\u001B[0m\u001B[1;39;49m]\u001B[0m\u001B[39;49m A new release of pip available: \u001B[0m\u001B[31;49m22.3.1\u001B[0m\u001B[39;49m -> \u001B[0m\u001B[32;49m23.2.1\u001B[0m\r\n",
      "\u001B[1m[\u001B[0m\u001B[34;49mnotice\u001B[0m\u001B[1;39;49m]\u001B[0m\u001B[39;49m To update, run: \u001B[0m\u001B[32;49mpip install --upgrade pip\u001B[0m\r\n"
     ]
    }
   ],
   "source": [
    "!pip install joblib\n"
   ]
  },
  {
   "cell_type": "code",
   "execution_count": 3,
   "outputs": [
    {
     "name": "stdout",
     "output_type": "stream",
     "text": [
      "146 INFO: PyInstaller: 5.13.2\r\n",
      "146 INFO: Python: 3.8.10\r\n",
      "158 INFO: Platform: Linux-5.15.0-83-generic-x86_64-with-glibc2.29\r\n",
      "158 INFO: wrote /home/sergiov/PycharmProjects/ICB_Response_Model/main.spec\r\n",
      "163 INFO: Extending PYTHONPATH with paths\r\n",
      "['/home/sergiov/PycharmProjects/ICB_Response_Model']\r\n",
      "434 INFO: checking Analysis\r\n",
      "435 INFO: Building Analysis because Analysis-00.toc is non existent\r\n",
      "435 INFO: Initializing module dependency graph...\r\n",
      "436 INFO: Caching module graph hooks...\r\n",
      "442 INFO: Analyzing base_library.zip ...\r\n",
      "1131 INFO: Loading module hook 'hook-heapq.py' from '/home/sergiov/PycharmProjects/ICB_Response_Model/venv/lib/python3.8/site-packages/PyInstaller/hooks'...\r\n",
      "1253 INFO: Loading module hook 'hook-encodings.py' from '/home/sergiov/PycharmProjects/ICB_Response_Model/venv/lib/python3.8/site-packages/PyInstaller/hooks'...\r\n",
      "1967 INFO: Loading module hook 'hook-pickle.py' from '/home/sergiov/PycharmProjects/ICB_Response_Model/venv/lib/python3.8/site-packages/PyInstaller/hooks'...\r\n",
      "2653 INFO: Caching module dependency graph...\r\n",
      "2716 INFO: running Analysis Analysis-00.toc\r\n",
      "2779 INFO: Analyzing /home/sergiov/PycharmProjects/ICB_Response_Model/main.py\r\n",
      "2796 INFO: Loading module hook 'hook-pandas.py' from '/home/sergiov/PycharmProjects/ICB_Response_Model/venv/lib/python3.8/site-packages/PyInstaller/hooks'...\r\n",
      "3601 INFO: Loading module hook 'hook-platform.py' from '/home/sergiov/PycharmProjects/ICB_Response_Model/venv/lib/python3.8/site-packages/PyInstaller/hooks'...\r\n",
      "3619 INFO: Loading module hook 'hook-numpy.py' from '/home/sergiov/PycharmProjects/ICB_Response_Model/venv/lib/python3.8/site-packages/numpy/_pyinstaller'...\r\n",
      "4168 INFO: Loading module hook 'hook-multiprocessing.util.py' from '/home/sergiov/PycharmProjects/ICB_Response_Model/venv/lib/python3.8/site-packages/PyInstaller/hooks'...\r\n",
      "4295 INFO: Loading module hook 'hook-xml.py' from '/home/sergiov/PycharmProjects/ICB_Response_Model/venv/lib/python3.8/site-packages/PyInstaller/hooks'...\r\n",
      "4721 INFO: Loading module hook 'hook-difflib.py' from '/home/sergiov/PycharmProjects/ICB_Response_Model/venv/lib/python3.8/site-packages/PyInstaller/hooks'...\r\n",
      "4919 INFO: Loading module hook 'hook-sysconfig.py' from '/home/sergiov/PycharmProjects/ICB_Response_Model/venv/lib/python3.8/site-packages/PyInstaller/hooks'...\r\n",
      "5078 INFO: Loading module hook 'hook-psutil.py' from '/home/sergiov/PycharmProjects/ICB_Response_Model/venv/lib/python3.8/site-packages/_pyinstaller_hooks_contrib/hooks/stdhooks'...\r\n",
      "5796 INFO: Loading module hook 'hook-pytz.py' from '/home/sergiov/PycharmProjects/ICB_Response_Model/venv/lib/python3.8/site-packages/PyInstaller/hooks'...\r\n",
      "5905 INFO: Loading module hook 'hook-pkg_resources.py' from '/home/sergiov/PycharmProjects/ICB_Response_Model/venv/lib/python3.8/site-packages/PyInstaller/hooks'...\r\n",
      "7075 INFO: Loading module hook 'hook-scipy.py' from '/home/sergiov/PycharmProjects/ICB_Response_Model/venv/lib/python3.8/site-packages/PyInstaller/hooks'...\r\n",
      "7328 INFO: Loading module hook 'hook-pycparser.py' from '/home/sergiov/PycharmProjects/ICB_Response_Model/venv/lib/python3.8/site-packages/_pyinstaller_hooks_contrib/hooks/stdhooks'...\r\n",
      "7722 INFO: Processing pre-safe import module hook distutils from '/home/sergiov/PycharmProjects/ICB_Response_Model/venv/lib/python3.8/site-packages/PyInstaller/hooks/pre_safe_import_module/hook-distutils.py'.\r\n",
      "7723 INFO: Processing pre-find module path hook distutils from '/home/sergiov/PycharmProjects/ICB_Response_Model/venv/lib/python3.8/site-packages/PyInstaller/hooks/pre_find_module_path/hook-distutils.py'.\r\n",
      "8174 INFO: Loading module hook 'hook-distutils.py' from '/home/sergiov/PycharmProjects/ICB_Response_Model/venv/lib/python3.8/site-packages/PyInstaller/hooks'...\r\n",
      "8206 INFO: Loading module hook 'hook-distutils.util.py' from '/home/sergiov/PycharmProjects/ICB_Response_Model/venv/lib/python3.8/site-packages/PyInstaller/hooks'...\r\n",
      "8288 INFO: Loading module hook 'hook-setuptools.py' from '/home/sergiov/PycharmProjects/ICB_Response_Model/venv/lib/python3.8/site-packages/PyInstaller/hooks'...\r\n",
      "9344 INFO: Loading module hook 'hook-importlib_metadata.py' from '/home/sergiov/PycharmProjects/ICB_Response_Model/venv/lib/python3.8/site-packages/PyInstaller/hooks'...\r\n",
      "9547 INFO: Loading module hook 'hook-packaging.py' from '/home/sergiov/PycharmProjects/ICB_Response_Model/venv/lib/python3.8/site-packages/PyInstaller/hooks'...\r\n",
      "10257 INFO: Loading module hook 'hook-scipy.linalg.py' from '/home/sergiov/PycharmProjects/ICB_Response_Model/venv/lib/python3.8/site-packages/PyInstaller/hooks'...\r\n",
      "10432 INFO: Loading module hook 'hook-scipy.sparse.csgraph.py' from '/home/sergiov/PycharmProjects/ICB_Response_Model/venv/lib/python3.8/site-packages/PyInstaller/hooks'...\r\n",
      "11782 INFO: Loading module hook 'hook-scipy.spatial.transform.rotation.py' from '/home/sergiov/PycharmProjects/ICB_Response_Model/venv/lib/python3.8/site-packages/PyInstaller/hooks'...\r\n",
      "13303 INFO: Loading module hook 'hook-pandas.io.formats.style.py' from '/home/sergiov/PycharmProjects/ICB_Response_Model/venv/lib/python3.8/site-packages/PyInstaller/hooks'...\r\n",
      "14469 INFO: Loading module hook 'hook-IPython.py' from '/home/sergiov/PycharmProjects/ICB_Response_Model/venv/lib/python3.8/site-packages/_pyinstaller_hooks_contrib/hooks/stdhooks'...\r\n",
      "15666 INFO: Loading module hook 'hook-xml.dom.domreg.py' from '/home/sergiov/PycharmProjects/ICB_Response_Model/venv/lib/python3.8/site-packages/PyInstaller/hooks'...\r\n",
      "15803 INFO: Loading module hook 'hook-pygments.py' from '/home/sergiov/PycharmProjects/ICB_Response_Model/venv/lib/python3.8/site-packages/PyInstaller/hooks'...\r\n",
      "17125 INFO: Processing pre-safe import module hook six.moves from '/home/sergiov/PycharmProjects/ICB_Response_Model/venv/lib/python3.8/site-packages/PyInstaller/hooks/pre_safe_import_module/hook-six.moves.py'.\r\n",
      "17210 INFO: Loading module hook 'hook-lib2to3.py' from '/home/sergiov/PycharmProjects/ICB_Response_Model/venv/lib/python3.8/site-packages/PyInstaller/hooks'...\r\n",
      "17622 INFO: Loading module hook 'hook-wcwidth.py' from '/home/sergiov/PycharmProjects/ICB_Response_Model/venv/lib/python3.8/site-packages/PyInstaller/hooks'...\r\n",
      "18525 INFO: Loading module hook 'hook-jedi.py' from '/home/sergiov/PycharmProjects/ICB_Response_Model/venv/lib/python3.8/site-packages/_pyinstaller_hooks_contrib/hooks/stdhooks'...\r\n",
      "18986 INFO: Loading module hook 'hook-parso.py' from '/home/sergiov/PycharmProjects/ICB_Response_Model/venv/lib/python3.8/site-packages/_pyinstaller_hooks_contrib/hooks/stdhooks'...\r\n",
      "19947 INFO: Loading module hook 'hook-sqlite3.py' from '/home/sergiov/PycharmProjects/ICB_Response_Model/venv/lib/python3.8/site-packages/PyInstaller/hooks'...\r\n",
      "20229 INFO: Loading module hook 'hook-nbformat.py' from '/home/sergiov/PycharmProjects/ICB_Response_Model/venv/lib/python3.8/site-packages/_pyinstaller_hooks_contrib/hooks/stdhooks'...\r\n",
      "20365 INFO: Loading module hook 'hook-jsonschema.py' from '/home/sergiov/PycharmProjects/ICB_Response_Model/venv/lib/python3.8/site-packages/_pyinstaller_hooks_contrib/hooks/stdhooks'...\r\n",
      "21311 INFO: Loading module hook 'hook-jsonschema_specifications.py' from '/home/sergiov/PycharmProjects/ICB_Response_Model/venv/lib/python3.8/site-packages/_pyinstaller_hooks_contrib/hooks/stdhooks'...\r\n",
      "21325 INFO: Loading module hook 'hook-importlib_resources.py' from '/home/sergiov/PycharmProjects/ICB_Response_Model/venv/lib/python3.8/site-packages/PyInstaller/hooks'...\r\n",
      "21739 INFO: Loading module hook 'hook-charset_normalizer.py' from '/home/sergiov/PycharmProjects/ICB_Response_Model/venv/lib/python3.8/site-packages/_pyinstaller_hooks_contrib/hooks/stdhooks'...\r\n",
      "21833 INFO: Loading module hook 'hook-certifi.py' from '/home/sergiov/PycharmProjects/ICB_Response_Model/venv/lib/python3.8/site-packages/_pyinstaller_hooks_contrib/hooks/stdhooks'...\r\n",
      "22112 INFO: Loading module hook 'hook-zmq.py' from '/home/sergiov/PycharmProjects/ICB_Response_Model/venv/lib/python3.8/site-packages/_pyinstaller_hooks_contrib/hooks/stdhooks'...\r\n",
      "22752 INFO: Loading module hook 'hook-platformdirs.py' from '/home/sergiov/PycharmProjects/ICB_Response_Model/venv/lib/python3.8/site-packages/_pyinstaller_hooks_contrib/hooks/stdhooks'...\r\n",
      "23334 INFO: Processing pre-safe import module hook gi from '/home/sergiov/PycharmProjects/ICB_Response_Model/venv/lib/python3.8/site-packages/PyInstaller/hooks/pre_safe_import_module/hook-gi.py'.\r\n",
      "24039 INFO: Loading module hook 'hook-pandas.plotting.py' from '/home/sergiov/PycharmProjects/ICB_Response_Model/venv/lib/python3.8/site-packages/PyInstaller/hooks'...\r\n",
      "25380 INFO: Loading module hook 'hook-xml.etree.cElementTree.py' from '/home/sergiov/PycharmProjects/ICB_Response_Model/venv/lib/python3.8/site-packages/PyInstaller/hooks'...\r\n",
      "25819 INFO: Loading module hook 'hook-sklearn.py' from '/home/sergiov/PycharmProjects/ICB_Response_Model/venv/lib/python3.8/site-packages/_pyinstaller_hooks_contrib/hooks/stdhooks'...\r\n",
      "25928 INFO: Loading module hook 'hook-sklearn.utils.py' from '/home/sergiov/PycharmProjects/ICB_Response_Model/venv/lib/python3.8/site-packages/_pyinstaller_hooks_contrib/hooks/stdhooks'...\r\n",
      "26352 INFO: Loading module hook 'hook-sklearn.metrics.py' from '/home/sergiov/PycharmProjects/ICB_Response_Model/venv/lib/python3.8/site-packages/_pyinstaller_hooks_contrib/hooks/stdhooks'...\r\n",
      "27393 INFO: Loading module hook 'hook-sklearn.metrics.cluster.py' from '/home/sergiov/PycharmProjects/ICB_Response_Model/venv/lib/python3.8/site-packages/_pyinstaller_hooks_contrib/hooks/stdhooks'...\r\n",
      "27517 INFO: Loading module hook 'hook-sklearn.cluster.py' from '/home/sergiov/PycharmProjects/ICB_Response_Model/venv/lib/python3.8/site-packages/_pyinstaller_hooks_contrib/hooks/stdhooks'...\r\n",
      "27550 INFO: Loading module hook 'hook-sklearn.metrics.pairwise.py' from '/home/sergiov/PycharmProjects/ICB_Response_Model/venv/lib/python3.8/site-packages/_pyinstaller_hooks_contrib/hooks/stdhooks'...\r\n",
      "27795 INFO: Loading module hook 'hook-sklearn.neighbors.py' from '/home/sergiov/PycharmProjects/ICB_Response_Model/venv/lib/python3.8/site-packages/_pyinstaller_hooks_contrib/hooks/stdhooks'...\r\n",
      "27868 INFO: Loading module hook 'hook-sklearn.linear_model.py' from '/home/sergiov/PycharmProjects/ICB_Response_Model/venv/lib/python3.8/site-packages/_pyinstaller_hooks_contrib/hooks/stdhooks'...\r\n",
      "28975 INFO: Loading module hook 'hook-sklearn.tree.py' from '/home/sergiov/PycharmProjects/ICB_Response_Model/venv/lib/python3.8/site-packages/_pyinstaller_hooks_contrib/hooks/stdhooks'...\r\n",
      "29272 INFO: Processing module hooks...\r\n",
      "29272 WARNING: Hidden import \"sklearn.neighbors._typedefs\" not found!\r\n",
      "29301 WARNING: Hidden import \"importlib_resources.trees\" not found!\r\n",
      "29407 INFO: Processing pre-safe import module hook win32com from '/home/sergiov/PycharmProjects/ICB_Response_Model/venv/lib/python3.8/site-packages/_pyinstaller_hooks_contrib/hooks/pre_safe_import_module/hook-win32com.py'.\r\n",
      "29772 INFO: Loading module hook 'hook-jinja2.py' from '/home/sergiov/PycharmProjects/ICB_Response_Model/venv/lib/python3.8/site-packages/_pyinstaller_hooks_contrib/hooks/stdhooks'...\r\n",
      "31423 INFO: Loading module hook 'hook-scipy.special._ufuncs.py' from '/home/sergiov/PycharmProjects/ICB_Response_Model/venv/lib/python3.8/site-packages/PyInstaller/hooks'...\r\n",
      "31426 INFO: Loading module hook 'hook-scipy.stats._stats.py' from '/home/sergiov/PycharmProjects/ICB_Response_Model/venv/lib/python3.8/site-packages/PyInstaller/hooks'...\r\n",
      "31427 INFO: Loading module hook 'hook-scipy.special._ellip_harm_2.py' from '/home/sergiov/PycharmProjects/ICB_Response_Model/venv/lib/python3.8/site-packages/PyInstaller/hooks'...\r\n",
      "31512 INFO: Loading module hook 'hook-setuptools.msvc.py' from '/home/sergiov/PycharmProjects/ICB_Response_Model/venv/lib/python3.8/site-packages/PyInstaller/hooks'...\r\n",
      "32309 INFO: Looking for ctypes DLLs\r\n",
      "33406 WARNING: Library user32 required via ctypes not found\r\n",
      "33651 WARNING: Library msvcrt required via ctypes not found\r\n",
      "33681 INFO: Analyzing run-time hooks ...\r\n",
      "33704 INFO: Including run-time hook '/home/sergiov/PycharmProjects/ICB_Response_Model/venv/lib/python3.8/site-packages/PyInstaller/hooks/rthooks/pyi_rth_pkgutil.py'\r\n",
      "33706 INFO: Including run-time hook '/home/sergiov/PycharmProjects/ICB_Response_Model/venv/lib/python3.8/site-packages/PyInstaller/hooks/rthooks/pyi_rth_multiprocessing.py'\r\n",
      "33708 INFO: Including run-time hook '/home/sergiov/PycharmProjects/ICB_Response_Model/venv/lib/python3.8/site-packages/PyInstaller/hooks/rthooks/pyi_rth_pkgres.py'\r\n",
      "33711 INFO: Including run-time hook '/home/sergiov/PycharmProjects/ICB_Response_Model/venv/lib/python3.8/site-packages/_pyinstaller_hooks_contrib/hooks/rthooks/pyi_rth_traitlets.py'\r\n",
      "33712 INFO: Including run-time hook '/home/sergiov/PycharmProjects/ICB_Response_Model/venv/lib/python3.8/site-packages/PyInstaller/hooks/rthooks/pyi_rth_setuptools.py'\r\n",
      "33712 INFO: Including run-time hook '/home/sergiov/PycharmProjects/ICB_Response_Model/venv/lib/python3.8/site-packages/PyInstaller/hooks/rthooks/pyi_rth_inspect.py'\r\n",
      "33817 INFO: Looking for dynamic libraries\r\n",
      "6360 WARNING: Cannot find libquadmath-96973f99.so.0.0.0 (needed by /home/sergiov/PycharmProjects/ICB_Response_Model/venv/lib/python3.8/site-packages/numpy/linalg/../../numpy.libs/libgfortran-040039e1.so.5.0.0)\r\n",
      "6383 WARNING: Cannot find libgfortran-040039e1.so.5.0.0 (needed by /home/sergiov/PycharmProjects/ICB_Response_Model/venv/lib/python3.8/site-packages/numpy/linalg/../../numpy.libs/libopenblas64_p-r0-15028c96.3.21.so)\r\n",
      "6428 WARNING: Cannot find libsodium-6eb86948.so.23.3.0 (needed by /home/sergiov/PycharmProjects/ICB_Response_Model/venv/lib/python3.8/site-packages/zmq/backend/cython/../../../pyzmq.libs/libzmq-bf11ef0c.so.5.2.4)\r\n",
      "6472 WARNING: Cannot find libgfortran-040039e1.so.5.0.0 (needed by /home/sergiov/PycharmProjects/ICB_Response_Model/venv/lib/python3.8/site-packages/scipy/special/../../scipy.libs/libopenblasp-r0-41284840.3.18.so)\r\n",
      "40471 INFO: Looking for eggs\r\n",
      "40521 INFO: Python library not among binary dependencies. Performing additional search...\r\n",
      "40576 INFO: Using Python library /lib/x86_64-linux-gnu/libpython3.8.so.1.0\r\n",
      "40615 INFO: Warnings written to /home/sergiov/PycharmProjects/ICB_Response_Model/build/main/warn-main.txt\r\n",
      "40751 INFO: Graph cross-reference written to /home/sergiov/PycharmProjects/ICB_Response_Model/build/main/xref-main.html\r\n",
      "40846 INFO: checking PYZ\r\n",
      "40846 INFO: Building PYZ because PYZ-00.toc is non existent\r\n",
      "40846 INFO: Building PYZ (ZlibArchive) /home/sergiov/PycharmProjects/ICB_Response_Model/build/main/PYZ-00.pyz\r\n",
      "42457 INFO: Building PYZ (ZlibArchive) /home/sergiov/PycharmProjects/ICB_Response_Model/build/main/PYZ-00.pyz completed successfully.\r\n",
      "42528 INFO: checking PKG\r\n",
      "42528 INFO: Building PKG because PKG-00.toc is non existent\r\n",
      "42528 INFO: Building PKG (CArchive) main.pkg\r\n",
      "62042 INFO: Building PKG (CArchive) main.pkg completed successfully.\r\n",
      "62087 INFO: Bootloader /home/sergiov/PycharmProjects/ICB_Response_Model/venv/lib/python3.8/site-packages/PyInstaller/bootloader/Linux-64bit-intel/run\r\n",
      "62087 INFO: checking EXE\r\n",
      "62087 INFO: Building EXE because EXE-00.toc is non existent\r\n",
      "62087 INFO: Building EXE from EXE-00.toc\r\n",
      "62087 INFO: Copying bootloader EXE to /home/sergiov/PycharmProjects/ICB_Response_Model/dist/main\r\n",
      "62087 INFO: Appending PKG archive to custom ELF section in EXE\r\n",
      "62190 INFO: Building EXE from EXE-00.toc completed successfully.\r\n"
     ]
    }
   ],
   "source": [
    "!pyinstaller --onefile main.py"
   ],
   "metadata": {
    "collapsed": false
   }
  }
 ],
 "metadata": {
  "kernelspec": {
   "display_name": "Python 3",
   "language": "python",
   "name": "python3"
  },
  "language_info": {
   "codemirror_mode": {
    "name": "ipython",
    "version": 2
   },
   "file_extension": ".py",
   "mimetype": "text/x-python",
   "name": "python",
   "nbconvert_exporter": "python",
   "pygments_lexer": "ipython2",
   "version": "2.7.6"
  }
 },
 "nbformat": 4,
 "nbformat_minor": 0
}
