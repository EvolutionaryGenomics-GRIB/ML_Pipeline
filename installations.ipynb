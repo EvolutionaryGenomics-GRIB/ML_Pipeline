{
 "cells": [
  {
   "cell_type": "code",
   "execution_count": 3,
   "metadata": {
    "collapsed": true
   },
   "outputs": [
    {
     "name": "stdout",
     "output_type": "stream",
     "text": [
      "Collecting imblearn\r\n",
      "  Using cached imblearn-0.0-py2.py3-none-any.whl (1.9 kB)\r\n",
      "Collecting imbalanced-learn\r\n",
      "  Using cached imbalanced_learn-0.11.0-py3-none-any.whl (235 kB)\r\n",
      "Requirement already satisfied: numpy>=1.17.3 in ./venv/lib/python3.8/site-packages (from imbalanced-learn->imblearn) (1.24.4)\r\n",
      "Requirement already satisfied: threadpoolctl>=2.0.0 in ./venv/lib/python3.8/site-packages (from imbalanced-learn->imblearn) (3.2.0)\r\n",
      "Requirement already satisfied: scikit-learn>=1.0.2 in ./venv/lib/python3.8/site-packages (from imbalanced-learn->imblearn) (1.3.0)\r\n",
      "Requirement already satisfied: joblib>=1.1.1 in ./venv/lib/python3.8/site-packages (from imbalanced-learn->imblearn) (1.3.2)\r\n",
      "Requirement already satisfied: scipy>=1.5.0 in ./venv/lib/python3.8/site-packages (from imbalanced-learn->imblearn) (1.10.1)\r\n",
      "Installing collected packages: imbalanced-learn, imblearn\r\n",
      "Successfully installed imbalanced-learn-0.11.0 imblearn-0.0\r\n",
      "\r\n",
      "\u001B[1m[\u001B[0m\u001B[34;49mnotice\u001B[0m\u001B[1;39;49m]\u001B[0m\u001B[39;49m A new release of pip available: \u001B[0m\u001B[31;49m22.3.1\u001B[0m\u001B[39;49m -> \u001B[0m\u001B[32;49m23.2.1\u001B[0m\r\n",
      "\u001B[1m[\u001B[0m\u001B[34;49mnotice\u001B[0m\u001B[1;39;49m]\u001B[0m\u001B[39;49m To update, run: \u001B[0m\u001B[32;49mpip install --upgrade pip\u001B[0m\r\n",
      "Note: you may need to restart the kernel to use updated packages.\n"
     ]
    }
   ],
   "source": [
    "pip install imblearn"
   ]
  },
  {
   "cell_type": "code",
   "execution_count": 20,
   "outputs": [],
   "source": [
    "def generate_two_numbers_between(x, y, n):\n",
    "    interval = abs(x - y)  # Calculate the interval between a and b\n",
    "    step = interval / (n+1)  # Divide the interval into 3 equal parts\n",
    "    print(n+1)\n",
    "    numbers = []\n",
    "    for i in range(n):\n",
    "        number = min(x, y) + (i+1) * step\n",
    "        numbers.append(number)\n",
    "\n",
    "    return numbers"
   ],
   "metadata": {
    "collapsed": false
   }
  },
  {
   "cell_type": "code",
   "execution_count": 21,
   "outputs": [
    {
     "name": "stdout",
     "output_type": "stream",
     "text": [
      "3\n",
      "13.333333333333334 16.666666666666668\n"
     ]
    }
   ],
   "source": [
    "# Example numbers\n",
    "num1 = 10\n",
    "num2 = 20\n",
    "\n",
    "# Generate two numbers between num1 and num2\n",
    "result_num1, result_num2 = generate_two_numbers_between(num1, num2, 2)\n",
    "\n",
    "# Print the result\n",
    "print(result_num1, result_num2)"
   ],
   "metadata": {
    "collapsed": false
   }
  }
 ],
 "metadata": {
  "kernelspec": {
   "display_name": "Python 3",
   "language": "python",
   "name": "python3"
  },
  "language_info": {
   "codemirror_mode": {
    "name": "ipython",
    "version": 2
   },
   "file_extension": ".py",
   "mimetype": "text/x-python",
   "name": "python",
   "nbconvert_exporter": "python",
   "pygments_lexer": "ipython2",
   "version": "2.7.6"
  }
 },
 "nbformat": 4,
 "nbformat_minor": 0
}
