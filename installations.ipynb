{
 "cells": [
  {
   "cell_type": "code",
   "execution_count": 5,
   "metadata": {
    "collapsed": true
   },
   "outputs": [
    {
     "name": "stdout",
     "output_type": "stream",
     "text": [
      "Requirement already satisfied: joblib in ./venv/lib/python3.8/site-packages (1.3.2)\r\n",
      "\r\n",
      "\u001B[1m[\u001B[0m\u001B[34;49mnotice\u001B[0m\u001B[1;39;49m]\u001B[0m\u001B[39;49m A new release of pip available: \u001B[0m\u001B[31;49m22.3.1\u001B[0m\u001B[39;49m -> \u001B[0m\u001B[32;49m23.2.1\u001B[0m\r\n",
      "\u001B[1m[\u001B[0m\u001B[34;49mnotice\u001B[0m\u001B[1;39;49m]\u001B[0m\u001B[39;49m To update, run: \u001B[0m\u001B[32;49mpip install --upgrade pip\u001B[0m\r\n"
     ]
    }
   ],
   "source": [
    "!pip install joblib"
   ]
  },
  {
   "cell_type": "code",
   "execution_count": 3,
   "outputs": [
    {
     "name": "stdout",
     "output_type": "stream",
     "text": [
      "118 INFO: PyInstaller: 5.13.2\r\n",
      "118 INFO: Python: 3.8.10\r\n",
      "131 INFO: Platform: Linux-5.15.0-83-generic-x86_64-with-glibc2.29\r\n",
      "131 INFO: wrote /home/sergiov/PycharmProjects/ICB_Response_Model/main.spec\r\n",
      "135 INFO: Extending PYTHONPATH with paths\r\n",
      "['/home/sergiov/PycharmProjects/ICB_Response_Model']\r\n",
      "400 INFO: checking Analysis\r\n",
      "443 INFO: Building because /home/sergiov/PycharmProjects/ICB_Response_Model/model/models/Model.py changed\r\n",
      "443 INFO: Initializing module dependency graph...\r\n",
      "444 INFO: Caching module graph hooks...\r\n",
      "449 INFO: Analyzing base_library.zip ...\r\n",
      "1187 INFO: Loading module hook 'hook-encodings.py' from '/home/sergiov/PycharmProjects/ICB_Response_Model/venv/lib/python3.8/site-packages/PyInstaller/hooks'...\r\n",
      "1839 INFO: Loading module hook 'hook-pickle.py' from '/home/sergiov/PycharmProjects/ICB_Response_Model/venv/lib/python3.8/site-packages/PyInstaller/hooks'...\r\n",
      "2218 INFO: Loading module hook 'hook-heapq.py' from '/home/sergiov/PycharmProjects/ICB_Response_Model/venv/lib/python3.8/site-packages/PyInstaller/hooks'...\r\n",
      "2533 INFO: Caching module dependency graph...\r\n",
      "2602 INFO: running Analysis Analysis-00.toc\r\n",
      "2659 INFO: Analyzing /home/sergiov/PycharmProjects/ICB_Response_Model/main.py\r\n",
      "2690 INFO: Loading module hook 'hook-pandas.py' from '/home/sergiov/PycharmProjects/ICB_Response_Model/venv/lib/python3.8/site-packages/PyInstaller/hooks'...\r\n",
      "3468 INFO: Loading module hook 'hook-platform.py' from '/home/sergiov/PycharmProjects/ICB_Response_Model/venv/lib/python3.8/site-packages/PyInstaller/hooks'...\r\n",
      "3494 INFO: Loading module hook 'hook-numpy.py' from '/home/sergiov/PycharmProjects/ICB_Response_Model/venv/lib/python3.8/site-packages/numpy/_pyinstaller'...\r\n",
      "4021 INFO: Loading module hook 'hook-multiprocessing.util.py' from '/home/sergiov/PycharmProjects/ICB_Response_Model/venv/lib/python3.8/site-packages/PyInstaller/hooks'...\r\n",
      "4181 INFO: Loading module hook 'hook-xml.py' from '/home/sergiov/PycharmProjects/ICB_Response_Model/venv/lib/python3.8/site-packages/PyInstaller/hooks'...\r\n",
      "4513 INFO: Loading module hook 'hook-difflib.py' from '/home/sergiov/PycharmProjects/ICB_Response_Model/venv/lib/python3.8/site-packages/PyInstaller/hooks'...\r\n",
      "4739 INFO: Loading module hook 'hook-sysconfig.py' from '/home/sergiov/PycharmProjects/ICB_Response_Model/venv/lib/python3.8/site-packages/PyInstaller/hooks'...\r\n",
      "4851 INFO: Loading module hook 'hook-psutil.py' from '/home/sergiov/PycharmProjects/ICB_Response_Model/venv/lib/python3.8/site-packages/_pyinstaller_hooks_contrib/hooks/stdhooks'...\r\n",
      "5543 INFO: Loading module hook 'hook-pytz.py' from '/home/sergiov/PycharmProjects/ICB_Response_Model/venv/lib/python3.8/site-packages/PyInstaller/hooks'...\r\n",
      "5648 INFO: Loading module hook 'hook-pkg_resources.py' from '/home/sergiov/PycharmProjects/ICB_Response_Model/venv/lib/python3.8/site-packages/PyInstaller/hooks'...\r\n",
      "6772 INFO: Loading module hook 'hook-scipy.py' from '/home/sergiov/PycharmProjects/ICB_Response_Model/venv/lib/python3.8/site-packages/PyInstaller/hooks'...\r\n",
      "6945 INFO: Loading module hook 'hook-pycparser.py' from '/home/sergiov/PycharmProjects/ICB_Response_Model/venv/lib/python3.8/site-packages/_pyinstaller_hooks_contrib/hooks/stdhooks'...\r\n",
      "7394 INFO: Processing pre-safe import module hook distutils from '/home/sergiov/PycharmProjects/ICB_Response_Model/venv/lib/python3.8/site-packages/PyInstaller/hooks/pre_safe_import_module/hook-distutils.py'.\r\n",
      "7394 INFO: Processing pre-find module path hook distutils from '/home/sergiov/PycharmProjects/ICB_Response_Model/venv/lib/python3.8/site-packages/PyInstaller/hooks/pre_find_module_path/hook-distutils.py'.\r\n",
      "7649 INFO: Loading module hook 'hook-distutils.py' from '/home/sergiov/PycharmProjects/ICB_Response_Model/venv/lib/python3.8/site-packages/PyInstaller/hooks'...\r\n",
      "7687 INFO: Loading module hook 'hook-distutils.util.py' from '/home/sergiov/PycharmProjects/ICB_Response_Model/venv/lib/python3.8/site-packages/PyInstaller/hooks'...\r\n",
      "7856 INFO: Loading module hook 'hook-setuptools.py' from '/home/sergiov/PycharmProjects/ICB_Response_Model/venv/lib/python3.8/site-packages/PyInstaller/hooks'...\r\n",
      "8811 INFO: Loading module hook 'hook-importlib_metadata.py' from '/home/sergiov/PycharmProjects/ICB_Response_Model/venv/lib/python3.8/site-packages/PyInstaller/hooks'...\r\n",
      "8920 INFO: Loading module hook 'hook-packaging.py' from '/home/sergiov/PycharmProjects/ICB_Response_Model/venv/lib/python3.8/site-packages/PyInstaller/hooks'...\r\n",
      "9576 INFO: Loading module hook 'hook-scipy.linalg.py' from '/home/sergiov/PycharmProjects/ICB_Response_Model/venv/lib/python3.8/site-packages/PyInstaller/hooks'...\r\n",
      "9840 INFO: Loading module hook 'hook-scipy.sparse.csgraph.py' from '/home/sergiov/PycharmProjects/ICB_Response_Model/venv/lib/python3.8/site-packages/PyInstaller/hooks'...\r\n",
      "11098 INFO: Loading module hook 'hook-scipy.spatial.transform.rotation.py' from '/home/sergiov/PycharmProjects/ICB_Response_Model/venv/lib/python3.8/site-packages/PyInstaller/hooks'...\r\n",
      "12418 INFO: Loading module hook 'hook-pandas.io.formats.style.py' from '/home/sergiov/PycharmProjects/ICB_Response_Model/venv/lib/python3.8/site-packages/PyInstaller/hooks'...\r\n",
      "13699 INFO: Loading module hook 'hook-IPython.py' from '/home/sergiov/PycharmProjects/ICB_Response_Model/venv/lib/python3.8/site-packages/_pyinstaller_hooks_contrib/hooks/stdhooks'...\r\n",
      "14837 INFO: Loading module hook 'hook-xml.dom.domreg.py' from '/home/sergiov/PycharmProjects/ICB_Response_Model/venv/lib/python3.8/site-packages/PyInstaller/hooks'...\r\n",
      "14964 INFO: Loading module hook 'hook-pygments.py' from '/home/sergiov/PycharmProjects/ICB_Response_Model/venv/lib/python3.8/site-packages/PyInstaller/hooks'...\r\n",
      "15848 INFO: Processing pre-safe import module hook six.moves from '/home/sergiov/PycharmProjects/ICB_Response_Model/venv/lib/python3.8/site-packages/PyInstaller/hooks/pre_safe_import_module/hook-six.moves.py'.\r\n",
      "15910 INFO: Loading module hook 'hook-lib2to3.py' from '/home/sergiov/PycharmProjects/ICB_Response_Model/venv/lib/python3.8/site-packages/PyInstaller/hooks'...\r\n",
      "16392 INFO: Loading module hook 'hook-wcwidth.py' from '/home/sergiov/PycharmProjects/ICB_Response_Model/venv/lib/python3.8/site-packages/PyInstaller/hooks'...\r\n",
      "17115 INFO: Loading module hook 'hook-jedi.py' from '/home/sergiov/PycharmProjects/ICB_Response_Model/venv/lib/python3.8/site-packages/_pyinstaller_hooks_contrib/hooks/stdhooks'...\r\n",
      "17338 INFO: Loading module hook 'hook-parso.py' from '/home/sergiov/PycharmProjects/ICB_Response_Model/venv/lib/python3.8/site-packages/_pyinstaller_hooks_contrib/hooks/stdhooks'...\r\n",
      "18150 INFO: Loading module hook 'hook-sqlite3.py' from '/home/sergiov/PycharmProjects/ICB_Response_Model/venv/lib/python3.8/site-packages/PyInstaller/hooks'...\r\n",
      "18366 INFO: Loading module hook 'hook-nbformat.py' from '/home/sergiov/PycharmProjects/ICB_Response_Model/venv/lib/python3.8/site-packages/_pyinstaller_hooks_contrib/hooks/stdhooks'...\r\n",
      "18692 INFO: Loading module hook 'hook-jsonschema.py' from '/home/sergiov/PycharmProjects/ICB_Response_Model/venv/lib/python3.8/site-packages/_pyinstaller_hooks_contrib/hooks/stdhooks'...\r\n",
      "19540 INFO: Loading module hook 'hook-jsonschema_specifications.py' from '/home/sergiov/PycharmProjects/ICB_Response_Model/venv/lib/python3.8/site-packages/_pyinstaller_hooks_contrib/hooks/stdhooks'...\r\n",
      "19553 INFO: Loading module hook 'hook-importlib_resources.py' from '/home/sergiov/PycharmProjects/ICB_Response_Model/venv/lib/python3.8/site-packages/PyInstaller/hooks'...\r\n",
      "19716 INFO: Loading module hook 'hook-charset_normalizer.py' from '/home/sergiov/PycharmProjects/ICB_Response_Model/venv/lib/python3.8/site-packages/_pyinstaller_hooks_contrib/hooks/stdhooks'...\r\n",
      "19807 INFO: Loading module hook 'hook-certifi.py' from '/home/sergiov/PycharmProjects/ICB_Response_Model/venv/lib/python3.8/site-packages/_pyinstaller_hooks_contrib/hooks/stdhooks'...\r\n",
      "20299 INFO: Loading module hook 'hook-zmq.py' from '/home/sergiov/PycharmProjects/ICB_Response_Model/venv/lib/python3.8/site-packages/_pyinstaller_hooks_contrib/hooks/stdhooks'...\r\n",
      "20854 INFO: Loading module hook 'hook-platformdirs.py' from '/home/sergiov/PycharmProjects/ICB_Response_Model/venv/lib/python3.8/site-packages/_pyinstaller_hooks_contrib/hooks/stdhooks'...\r\n",
      "21128 INFO: Processing pre-safe import module hook gi from '/home/sergiov/PycharmProjects/ICB_Response_Model/venv/lib/python3.8/site-packages/PyInstaller/hooks/pre_safe_import_module/hook-gi.py'.\r\n",
      "21733 INFO: Loading module hook 'hook-pandas.plotting.py' from '/home/sergiov/PycharmProjects/ICB_Response_Model/venv/lib/python3.8/site-packages/PyInstaller/hooks'...\r\n",
      "23098 INFO: Loading module hook 'hook-xml.etree.cElementTree.py' from '/home/sergiov/PycharmProjects/ICB_Response_Model/venv/lib/python3.8/site-packages/PyInstaller/hooks'...\r\n",
      "23513 INFO: Loading module hook 'hook-sklearn.py' from '/home/sergiov/PycharmProjects/ICB_Response_Model/venv/lib/python3.8/site-packages/_pyinstaller_hooks_contrib/hooks/stdhooks'...\r\n",
      "23624 INFO: Loading module hook 'hook-sklearn.utils.py' from '/home/sergiov/PycharmProjects/ICB_Response_Model/venv/lib/python3.8/site-packages/_pyinstaller_hooks_contrib/hooks/stdhooks'...\r\n",
      "24037 INFO: Loading module hook 'hook-sklearn.metrics.py' from '/home/sergiov/PycharmProjects/ICB_Response_Model/venv/lib/python3.8/site-packages/_pyinstaller_hooks_contrib/hooks/stdhooks'...\r\n",
      "25073 INFO: Loading module hook 'hook-sklearn.metrics.cluster.py' from '/home/sergiov/PycharmProjects/ICB_Response_Model/venv/lib/python3.8/site-packages/_pyinstaller_hooks_contrib/hooks/stdhooks'...\r\n",
      "25182 INFO: Loading module hook 'hook-sklearn.cluster.py' from '/home/sergiov/PycharmProjects/ICB_Response_Model/venv/lib/python3.8/site-packages/_pyinstaller_hooks_contrib/hooks/stdhooks'...\r\n",
      "25217 INFO: Loading module hook 'hook-sklearn.metrics.pairwise.py' from '/home/sergiov/PycharmProjects/ICB_Response_Model/venv/lib/python3.8/site-packages/_pyinstaller_hooks_contrib/hooks/stdhooks'...\r\n",
      "25442 INFO: Loading module hook 'hook-sklearn.neighbors.py' from '/home/sergiov/PycharmProjects/ICB_Response_Model/venv/lib/python3.8/site-packages/_pyinstaller_hooks_contrib/hooks/stdhooks'...\r\n",
      "25515 INFO: Loading module hook 'hook-sklearn.linear_model.py' from '/home/sergiov/PycharmProjects/ICB_Response_Model/venv/lib/python3.8/site-packages/_pyinstaller_hooks_contrib/hooks/stdhooks'...\r\n",
      "26342 INFO: Loading module hook 'hook-sklearn.tree.py' from '/home/sergiov/PycharmProjects/ICB_Response_Model/venv/lib/python3.8/site-packages/_pyinstaller_hooks_contrib/hooks/stdhooks'...\r\n",
      "26899 INFO: Processing module hooks...\r\n",
      "26899 WARNING: Hidden import \"sklearn.neighbors._typedefs\" not found!\r\n",
      "26928 WARNING: Hidden import \"importlib_resources.trees\" not found!\r\n",
      "26967 INFO: Processing pre-safe import module hook win32com from '/home/sergiov/PycharmProjects/ICB_Response_Model/venv/lib/python3.8/site-packages/_pyinstaller_hooks_contrib/hooks/pre_safe_import_module/hook-win32com.py'.\r\n",
      "27366 INFO: Loading module hook 'hook-jinja2.py' from '/home/sergiov/PycharmProjects/ICB_Response_Model/venv/lib/python3.8/site-packages/_pyinstaller_hooks_contrib/hooks/stdhooks'...\r\n",
      "28904 INFO: Loading module hook 'hook-scipy.special._ufuncs.py' from '/home/sergiov/PycharmProjects/ICB_Response_Model/venv/lib/python3.8/site-packages/PyInstaller/hooks'...\r\n",
      "28906 INFO: Loading module hook 'hook-scipy.stats._stats.py' from '/home/sergiov/PycharmProjects/ICB_Response_Model/venv/lib/python3.8/site-packages/PyInstaller/hooks'...\r\n",
      "28907 INFO: Loading module hook 'hook-scipy.special._ellip_harm_2.py' from '/home/sergiov/PycharmProjects/ICB_Response_Model/venv/lib/python3.8/site-packages/PyInstaller/hooks'...\r\n",
      "28923 INFO: Loading module hook 'hook-setuptools.msvc.py' from '/home/sergiov/PycharmProjects/ICB_Response_Model/venv/lib/python3.8/site-packages/PyInstaller/hooks'...\r\n",
      "29703 INFO: Looking for ctypes DLLs\r\n",
      "30051 WARNING: Library user32 required via ctypes not found\r\n",
      "30271 WARNING: Library msvcrt required via ctypes not found\r\n",
      "30302 INFO: Analyzing run-time hooks ...\r\n",
      "30340 INFO: Including run-time hook '/home/sergiov/PycharmProjects/ICB_Response_Model/venv/lib/python3.8/site-packages/PyInstaller/hooks/rthooks/pyi_rth_pkgutil.py'\r\n",
      "30342 INFO: Including run-time hook '/home/sergiov/PycharmProjects/ICB_Response_Model/venv/lib/python3.8/site-packages/PyInstaller/hooks/rthooks/pyi_rth_multiprocessing.py'\r\n",
      "30344 INFO: Including run-time hook '/home/sergiov/PycharmProjects/ICB_Response_Model/venv/lib/python3.8/site-packages/PyInstaller/hooks/rthooks/pyi_rth_pkgres.py'\r\n",
      "30348 INFO: Including run-time hook '/home/sergiov/PycharmProjects/ICB_Response_Model/venv/lib/python3.8/site-packages/_pyinstaller_hooks_contrib/hooks/rthooks/pyi_rth_traitlets.py'\r\n",
      "30348 INFO: Including run-time hook '/home/sergiov/PycharmProjects/ICB_Response_Model/venv/lib/python3.8/site-packages/PyInstaller/hooks/rthooks/pyi_rth_setuptools.py'\r\n",
      "30349 INFO: Including run-time hook '/home/sergiov/PycharmProjects/ICB_Response_Model/venv/lib/python3.8/site-packages/PyInstaller/hooks/rthooks/pyi_rth_inspect.py'\r\n",
      "30455 INFO: Looking for dynamic libraries\r\n",
      "6347 WARNING: Cannot find libquadmath-96973f99.so.0.0.0 (needed by /home/sergiov/PycharmProjects/ICB_Response_Model/venv/lib/python3.8/site-packages/numpy/linalg/../../numpy.libs/libgfortran-040039e1.so.5.0.0)\r\n",
      "6370 WARNING: Cannot find libgfortran-040039e1.so.5.0.0 (needed by /home/sergiov/PycharmProjects/ICB_Response_Model/venv/lib/python3.8/site-packages/numpy/linalg/../../numpy.libs/libopenblas64_p-r0-15028c96.3.21.so)\r\n",
      "6415 WARNING: Cannot find libsodium-6eb86948.so.23.3.0 (needed by /home/sergiov/PycharmProjects/ICB_Response_Model/venv/lib/python3.8/site-packages/zmq/backend/cython/../../../pyzmq.libs/libzmq-bf11ef0c.so.5.2.4)\r\n",
      "6438 WARNING: Cannot find libgfortran-040039e1.so.5.0.0 (needed by /home/sergiov/PycharmProjects/ICB_Response_Model/venv/lib/python3.8/site-packages/scipy/special/../../scipy.libs/libopenblasp-r0-41284840.3.18.so)\r\n",
      "37081 INFO: Looking for eggs\r\n",
      "37117 INFO: Python library not among binary dependencies. Performing additional search...\r\n",
      "37161 INFO: Using Python library /lib/x86_64-linux-gnu/libpython3.8.so.1.0\r\n",
      "37187 INFO: Warnings written to /home/sergiov/PycharmProjects/ICB_Response_Model/build/main/warn-main.txt\r\n",
      "37318 INFO: Graph cross-reference written to /home/sergiov/PycharmProjects/ICB_Response_Model/build/main/xref-main.html\r\n",
      "37412 INFO: checking PYZ\r\n",
      "37435 INFO: Building because /home/sergiov/PycharmProjects/ICB_Response_Model/model/models/Model.py changed\r\n",
      "37435 INFO: Building PYZ (ZlibArchive) /home/sergiov/PycharmProjects/ICB_Response_Model/build/main/PYZ-00.pyz\r\n",
      "38983 INFO: Building PYZ (ZlibArchive) /home/sergiov/PycharmProjects/ICB_Response_Model/build/main/PYZ-00.pyz completed successfully.\r\n",
      "39053 INFO: checking PKG\r\n",
      "39076 INFO: Building because toc changed\r\n",
      "39076 INFO: Building PKG (CArchive) main.pkg\r\n",
      "58110 INFO: Building PKG (CArchive) main.pkg completed successfully.\r\n",
      "58174 INFO: Bootloader /home/sergiov/PycharmProjects/ICB_Response_Model/venv/lib/python3.8/site-packages/PyInstaller/bootloader/Linux-64bit-intel/run\r\n",
      "58174 INFO: checking EXE\r\n",
      "58197 INFO: Building because toc changed\r\n",
      "58197 INFO: Building EXE from EXE-00.toc\r\n",
      "58205 INFO: Copying bootloader EXE to /home/sergiov/PycharmProjects/ICB_Response_Model/dist/main\r\n",
      "58205 INFO: Appending PKG archive to custom ELF section in EXE\r\n",
      "58309 INFO: Building EXE from EXE-00.toc completed successfully.\r\n"
     ]
    }
   ],
   "source": [
    "!pyinstaller --onefile main.py"
   ],
   "metadata": {
    "collapsed": false
   }
  }
 ],
 "metadata": {
  "kernelspec": {
   "display_name": "Python 3",
   "language": "python",
   "name": "python3"
  },
  "language_info": {
   "codemirror_mode": {
    "name": "ipython",
    "version": 2
   },
   "file_extension": ".py",
   "mimetype": "text/x-python",
   "name": "python",
   "nbconvert_exporter": "python",
   "pygments_lexer": "ipython2",
   "version": "2.7.6"
  }
 },
 "nbformat": 4,
 "nbformat_minor": 0
}
